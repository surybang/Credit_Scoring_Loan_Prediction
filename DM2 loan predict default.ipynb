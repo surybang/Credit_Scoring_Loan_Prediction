{
 "cells": [
  {
   "cell_type": "code",
   "execution_count": 1,
   "id": "38cc6e95",
   "metadata": {},
   "outputs": [],
   "source": [
    "#Importing Required Library\n",
    "import pandas as pd\n",
    "import numpy as np\n",
    "import matplotlib.pyplot as plt\n",
    "import seaborn as sns\n",
    "\n",
    "\n",
    "\n",
    "#for Spliting Data and Hyperparameter Tuning \n",
    "from sklearn.model_selection import train_test_split, GridSearchCV\n",
    "\n",
    "#Importing Machine Learning Model\n",
    "from sklearn.linear_model import LogisticRegression\n",
    "from sklearn.neighbors import KNeighborsClassifier\n",
    "from sklearn.ensemble import RandomForestClassifier\n",
    "#from sklearn.naive_bayes import BernoulliNB\n",
    "\n",
    "    \n",
    "#Bagging Algo\n",
    "from sklearn.tree import DecisionTreeClassifier\n",
    "from xgboost import XGBClassifier, XGBRFClassifier\n",
    "from sklearn.ensemble import AdaBoostClassifier\n",
    "from sklearn.ensemble import GradientBoostingClassifier\n",
    "from lightgbm import LGBMClassifier\n",
    "\n",
    "from sklearn.neural_network import MLPClassifier\n",
    "\n",
    "#To tranform data\n",
    "from sklearn import preprocessing\n",
    "\n",
    "#statistical Tools\n",
    "from sklearn.metrics import roc_auc_score,accuracy_score,precision_score,recall_score,f1_score\n",
    "from sklearn.metrics import confusion_matrix, roc_curve, auc\n",
    "\n",
    "#Setting Format\n",
    "pd.options.display.float_format = '{:.5f}'.format\n",
    "pd.options.display.max_columns = None\n",
    "pd.options.display.max_rows = None\n",
    "\n",
    "import warnings\n",
    "warnings.filterwarnings(\"ignore\")"
   ]
  },
  {
   "cell_type": "markdown",
   "id": "b027fded",
   "metadata": {},
   "source": [
    "# Import des données"
   ]
  },
  {
   "cell_type": "code",
   "execution_count": 2,
   "id": "27fd7d27",
   "metadata": {},
   "outputs": [
    {
     "data": {
      "text/html": [
       "<div>\n",
       "<style scoped>\n",
       "    .dataframe tbody tr th:only-of-type {\n",
       "        vertical-align: middle;\n",
       "    }\n",
       "\n",
       "    .dataframe tbody tr th {\n",
       "        vertical-align: top;\n",
       "    }\n",
       "\n",
       "    .dataframe thead th {\n",
       "        text-align: right;\n",
       "    }\n",
       "</style>\n",
       "<table border=\"1\" class=\"dataframe\">\n",
       "  <thead>\n",
       "    <tr style=\"text-align: right;\">\n",
       "      <th></th>\n",
       "      <th>UniqueID</th>\n",
       "      <th>disbursed_amount</th>\n",
       "      <th>asset_cost</th>\n",
       "      <th>ltv</th>\n",
       "      <th>branch_id</th>\n",
       "      <th>supplier_id</th>\n",
       "      <th>manufacturer_id</th>\n",
       "      <th>Current_pincode_ID</th>\n",
       "      <th>Employment_Type_K</th>\n",
       "      <th>State_ID</th>\n",
       "      <th>Employee_code_ID</th>\n",
       "      <th>Aadhar_flag</th>\n",
       "      <th>PAN_flag</th>\n",
       "      <th>VoterID_flag</th>\n",
       "      <th>Driving_flag</th>\n",
       "      <th>Passport_flag</th>\n",
       "      <th>PERFORM_CNS_SCORE</th>\n",
       "      <th>PERFORM_CNS_SCORE_DESCRIPTION</th>\n",
       "      <th>PRI_NO_OF_ACCTS</th>\n",
       "      <th>PRI_ACTIVE_ACCTS</th>\n",
       "      <th>PRI_OVERDUE_ACCTS</th>\n",
       "      <th>PRI_CURRENT_BALANCE</th>\n",
       "      <th>PRI_SANCTIONED_AMOUNT</th>\n",
       "      <th>PRI_DISBURSED_AMOUNT</th>\n",
       "      <th>SEC_NO_OF_ACCTS</th>\n",
       "      <th>SEC_ACTIVE_ACCTS</th>\n",
       "      <th>SEC_OVERDUE_ACCTS</th>\n",
       "      <th>SEC_CURRENT_BALANCE</th>\n",
       "      <th>SEC_SANCTIONED_AMOUNT</th>\n",
       "      <th>SEC_DISBURSED_AMOUNT</th>\n",
       "      <th>PRIMARY_INSTAL_AMT</th>\n",
       "      <th>SEC_INSTAL_AMT</th>\n",
       "      <th>NEW_ACCTS_IN_LAST_SIX_THS</th>\n",
       "      <th>DELINQUENT_ACCTS_IN_LAST_SIX_THS</th>\n",
       "      <th>AVERAGE_ACCT_AGE_bis</th>\n",
       "      <th>CREDIT_HISTORY_LENGTH_bis</th>\n",
       "      <th>NO_OF_INQUIRIES</th>\n",
       "      <th>loan_default</th>\n",
       "    </tr>\n",
       "  </thead>\n",
       "  <tbody>\n",
       "    <tr>\n",
       "      <th>0</th>\n",
       "      <td>537409</td>\n",
       "      <td>47145</td>\n",
       "      <td>65550</td>\n",
       "      <td>73,23</td>\n",
       "      <td>67</td>\n",
       "      <td>22807</td>\n",
       "      <td>45</td>\n",
       "      <td>1502</td>\n",
       "      <td>Self employed</td>\n",
       "      <td>6</td>\n",
       "      <td>1998</td>\n",
       "      <td>1</td>\n",
       "      <td>0</td>\n",
       "      <td>0</td>\n",
       "      <td>0</td>\n",
       "      <td>0</td>\n",
       "      <td>598</td>\n",
       "      <td>I-Medium Risk</td>\n",
       "      <td>1</td>\n",
       "      <td>1</td>\n",
       "      <td>1</td>\n",
       "      <td>27600</td>\n",
       "      <td>50200</td>\n",
       "      <td>50200</td>\n",
       "      <td>0</td>\n",
       "      <td>0</td>\n",
       "      <td>0</td>\n",
       "      <td>0</td>\n",
       "      <td>0</td>\n",
       "      <td>0</td>\n",
       "      <td>1991</td>\n",
       "      <td>0</td>\n",
       "      <td>0</td>\n",
       "      <td>1</td>\n",
       "      <td>2</td>\n",
       "      <td>2</td>\n",
       "      <td>0</td>\n",
       "      <td>1</td>\n",
       "    </tr>\n",
       "    <tr>\n",
       "      <th>1</th>\n",
       "      <td>417566</td>\n",
       "      <td>53278</td>\n",
       "      <td>61360</td>\n",
       "      <td>89,63</td>\n",
       "      <td>67</td>\n",
       "      <td>22807</td>\n",
       "      <td>45</td>\n",
       "      <td>1497</td>\n",
       "      <td>Self employed</td>\n",
       "      <td>6</td>\n",
       "      <td>1998</td>\n",
       "      <td>1</td>\n",
       "      <td>0</td>\n",
       "      <td>0</td>\n",
       "      <td>0</td>\n",
       "      <td>0</td>\n",
       "      <td>0</td>\n",
       "      <td>No Bureau History Available</td>\n",
       "      <td>0</td>\n",
       "      <td>0</td>\n",
       "      <td>0</td>\n",
       "      <td>0</td>\n",
       "      <td>0</td>\n",
       "      <td>0</td>\n",
       "      <td>0</td>\n",
       "      <td>0</td>\n",
       "      <td>0</td>\n",
       "      <td>0</td>\n",
       "      <td>0</td>\n",
       "      <td>0</td>\n",
       "      <td>0</td>\n",
       "      <td>0</td>\n",
       "      <td>0</td>\n",
       "      <td>0</td>\n",
       "      <td>0</td>\n",
       "      <td>0</td>\n",
       "      <td>0</td>\n",
       "      <td>0</td>\n",
       "    </tr>\n",
       "    <tr>\n",
       "      <th>2</th>\n",
       "      <td>624493</td>\n",
       "      <td>57513</td>\n",
       "      <td>66113</td>\n",
       "      <td>88,48</td>\n",
       "      <td>67</td>\n",
       "      <td>22807</td>\n",
       "      <td>45</td>\n",
       "      <td>1501</td>\n",
       "      <td>Self employed</td>\n",
       "      <td>6</td>\n",
       "      <td>1998</td>\n",
       "      <td>1</td>\n",
       "      <td>0</td>\n",
       "      <td>0</td>\n",
       "      <td>0</td>\n",
       "      <td>0</td>\n",
       "      <td>305</td>\n",
       "      <td>L-Very High Risk</td>\n",
       "      <td>3</td>\n",
       "      <td>0</td>\n",
       "      <td>0</td>\n",
       "      <td>0</td>\n",
       "      <td>0</td>\n",
       "      <td>0</td>\n",
       "      <td>0</td>\n",
       "      <td>0</td>\n",
       "      <td>0</td>\n",
       "      <td>0</td>\n",
       "      <td>0</td>\n",
       "      <td>0</td>\n",
       "      <td>31</td>\n",
       "      <td>0</td>\n",
       "      <td>0</td>\n",
       "      <td>0</td>\n",
       "      <td>1</td>\n",
       "      <td>1</td>\n",
       "      <td>1</td>\n",
       "      <td>1</td>\n",
       "    </tr>\n",
       "    <tr>\n",
       "      <th>3</th>\n",
       "      <td>539055</td>\n",
       "      <td>52378</td>\n",
       "      <td>60300</td>\n",
       "      <td>88,39</td>\n",
       "      <td>67</td>\n",
       "      <td>22807</td>\n",
       "      <td>45</td>\n",
       "      <td>1495</td>\n",
       "      <td>Self employed</td>\n",
       "      <td>6</td>\n",
       "      <td>1998</td>\n",
       "      <td>1</td>\n",
       "      <td>0</td>\n",
       "      <td>0</td>\n",
       "      <td>0</td>\n",
       "      <td>0</td>\n",
       "      <td>0</td>\n",
       "      <td>No Bureau History Available</td>\n",
       "      <td>0</td>\n",
       "      <td>0</td>\n",
       "      <td>0</td>\n",
       "      <td>0</td>\n",
       "      <td>0</td>\n",
       "      <td>0</td>\n",
       "      <td>0</td>\n",
       "      <td>0</td>\n",
       "      <td>0</td>\n",
       "      <td>0</td>\n",
       "      <td>0</td>\n",
       "      <td>0</td>\n",
       "      <td>0</td>\n",
       "      <td>0</td>\n",
       "      <td>0</td>\n",
       "      <td>0</td>\n",
       "      <td>0</td>\n",
       "      <td>0</td>\n",
       "      <td>1</td>\n",
       "      <td>1</td>\n",
       "    </tr>\n",
       "    <tr>\n",
       "      <th>4</th>\n",
       "      <td>518279</td>\n",
       "      <td>54513</td>\n",
       "      <td>61900</td>\n",
       "      <td>89,66</td>\n",
       "      <td>67</td>\n",
       "      <td>22807</td>\n",
       "      <td>45</td>\n",
       "      <td>1501</td>\n",
       "      <td>Self employed</td>\n",
       "      <td>6</td>\n",
       "      <td>1998</td>\n",
       "      <td>1</td>\n",
       "      <td>0</td>\n",
       "      <td>0</td>\n",
       "      <td>0</td>\n",
       "      <td>0</td>\n",
       "      <td>825</td>\n",
       "      <td>A-Very Low Risk</td>\n",
       "      <td>2</td>\n",
       "      <td>0</td>\n",
       "      <td>0</td>\n",
       "      <td>0</td>\n",
       "      <td>0</td>\n",
       "      <td>0</td>\n",
       "      <td>0</td>\n",
       "      <td>0</td>\n",
       "      <td>0</td>\n",
       "      <td>0</td>\n",
       "      <td>0</td>\n",
       "      <td>0</td>\n",
       "      <td>1347</td>\n",
       "      <td>0</td>\n",
       "      <td>0</td>\n",
       "      <td>0</td>\n",
       "      <td>2</td>\n",
       "      <td>2</td>\n",
       "      <td>0</td>\n",
       "      <td>0</td>\n",
       "    </tr>\n",
       "  </tbody>\n",
       "</table>\n",
       "</div>"
      ],
      "text/plain": [
       "   UniqueID  disbursed_amount  asset_cost    ltv  branch_id  supplier_id  \\\n",
       "0    537409             47145       65550  73,23         67        22807   \n",
       "1    417566             53278       61360  89,63         67        22807   \n",
       "2    624493             57513       66113  88,48         67        22807   \n",
       "3    539055             52378       60300  88,39         67        22807   \n",
       "4    518279             54513       61900  89,66         67        22807   \n",
       "\n",
       "   manufacturer_id  Current_pincode_ID Employment_Type_K  State_ID  \\\n",
       "0               45                1502     Self employed         6   \n",
       "1               45                1497     Self employed         6   \n",
       "2               45                1501     Self employed         6   \n",
       "3               45                1495     Self employed         6   \n",
       "4               45                1501     Self employed         6   \n",
       "\n",
       "   Employee_code_ID  Aadhar_flag  PAN_flag  VoterID_flag  Driving_flag  \\\n",
       "0              1998            1         0             0             0   \n",
       "1              1998            1         0             0             0   \n",
       "2              1998            1         0             0             0   \n",
       "3              1998            1         0             0             0   \n",
       "4              1998            1         0             0             0   \n",
       "\n",
       "   Passport_flag  PERFORM_CNS_SCORE PERFORM_CNS_SCORE_DESCRIPTION  \\\n",
       "0              0                598                 I-Medium Risk   \n",
       "1              0                  0   No Bureau History Available   \n",
       "2              0                305              L-Very High Risk   \n",
       "3              0                  0   No Bureau History Available   \n",
       "4              0                825               A-Very Low Risk   \n",
       "\n",
       "   PRI_NO_OF_ACCTS  PRI_ACTIVE_ACCTS  PRI_OVERDUE_ACCTS  PRI_CURRENT_BALANCE  \\\n",
       "0                1                 1                  1                27600   \n",
       "1                0                 0                  0                    0   \n",
       "2                3                 0                  0                    0   \n",
       "3                0                 0                  0                    0   \n",
       "4                2                 0                  0                    0   \n",
       "\n",
       "   PRI_SANCTIONED_AMOUNT  PRI_DISBURSED_AMOUNT  SEC_NO_OF_ACCTS  \\\n",
       "0                  50200                 50200                0   \n",
       "1                      0                     0                0   \n",
       "2                      0                     0                0   \n",
       "3                      0                     0                0   \n",
       "4                      0                     0                0   \n",
       "\n",
       "   SEC_ACTIVE_ACCTS  SEC_OVERDUE_ACCTS  SEC_CURRENT_BALANCE  \\\n",
       "0                 0                  0                    0   \n",
       "1                 0                  0                    0   \n",
       "2                 0                  0                    0   \n",
       "3                 0                  0                    0   \n",
       "4                 0                  0                    0   \n",
       "\n",
       "   SEC_SANCTIONED_AMOUNT  SEC_DISBURSED_AMOUNT  PRIMARY_INSTAL_AMT  \\\n",
       "0                      0                     0                1991   \n",
       "1                      0                     0                   0   \n",
       "2                      0                     0                  31   \n",
       "3                      0                     0                   0   \n",
       "4                      0                     0                1347   \n",
       "\n",
       "   SEC_INSTAL_AMT  NEW_ACCTS_IN_LAST_SIX_THS  \\\n",
       "0               0                          0   \n",
       "1               0                          0   \n",
       "2               0                          0   \n",
       "3               0                          0   \n",
       "4               0                          0   \n",
       "\n",
       "   DELINQUENT_ACCTS_IN_LAST_SIX_THS  AVERAGE_ACCT_AGE_bis  \\\n",
       "0                                 1                     2   \n",
       "1                                 0                     0   \n",
       "2                                 0                     1   \n",
       "3                                 0                     0   \n",
       "4                                 0                     2   \n",
       "\n",
       "   CREDIT_HISTORY_LENGTH_bis  NO_OF_INQUIRIES  loan_default  \n",
       "0                          2                0             1  \n",
       "1                          0                0             0  \n",
       "2                          1                1             1  \n",
       "3                          0                1             1  \n",
       "4                          2                0             0  "
      ]
     },
     "execution_count": 2,
     "metadata": {},
     "output_type": "execute_result"
    }
   ],
   "source": [
    "df = pd.read_csv('C:/Users/Fabien/Documents/table_training.csv', sep = \";\")\n",
    "df.head()\n"
   ]
  },
  {
   "cell_type": "code",
   "execution_count": 3,
   "id": "cf5e513b",
   "metadata": {},
   "outputs": [
    {
     "name": "stdout",
     "output_type": "stream",
     "text": [
      "['UniqueID', 'disbursed_amount', 'asset_cost', 'ltv', 'branch_id', 'supplier_id', 'manufacturer_id', 'Current_pincode_ID', 'Employment_Type_K', 'State_ID', 'Employee_code_ID', 'Aadhar_flag', 'PAN_flag', 'VoterID_flag', 'Driving_flag', 'Passport_flag', 'PERFORM_CNS_SCORE', 'PERFORM_CNS_SCORE_DESCRIPTION', 'PRI_NO_OF_ACCTS', 'PRI_ACTIVE_ACCTS', 'PRI_OVERDUE_ACCTS', 'PRI_CURRENT_BALANCE', 'PRI_SANCTIONED_AMOUNT', 'PRI_DISBURSED_AMOUNT', 'SEC_NO_OF_ACCTS', 'SEC_ACTIVE_ACCTS', 'SEC_OVERDUE_ACCTS', 'SEC_CURRENT_BALANCE', 'SEC_SANCTIONED_AMOUNT', 'SEC_DISBURSED_AMOUNT', 'PRIMARY_INSTAL_AMT', 'SEC_INSTAL_AMT', 'NEW_ACCTS_IN_LAST_SIX_THS', 'DELINQUENT_ACCTS_IN_LAST_SIX_THS', 'AVERAGE_ACCT_AGE_bis', 'CREDIT_HISTORY_LENGTH_bis', 'NO_OF_INQUIRIES', 'loan_default']\n"
     ]
    }
   ],
   "source": [
    "#voici nos variables \n",
    "print(df.columns.tolist())"
   ]
  },
  {
   "cell_type": "code",
   "execution_count": 4,
   "id": "8119c7be",
   "metadata": {},
   "outputs": [],
   "source": [
    "#Pour l'exploration de données, il est préférable de les séparer dans des variables différentes, plus simple d'accès par la suite \n",
    "\n",
    "numerical=['disbursed_amount','asset_cost','PRI_NO_OF_ACCTS',\n",
    "       'PRI_ACTIVE_ACCTS', 'PRI_OVERDUE_ACCTS', 'PRI_CURRENT_BALANCE',\n",
    "       'PRI_SANCTIONED_AMOUNT', 'PRI_DISBURSED_AMOUNT', 'SEC_NO_OF_ACCTS',\n",
    "       'SEC_ACTIVE_ACCTS', 'SEC_OVERDUE_ACCTS', 'SEC_CURRENT_BALANCE',\n",
    "       'SEC_SANCTIONED_AMOUNT', 'SEC_DISBURSED_AMOUNT', 'PRIMARY_INSTAL_AMT',\n",
    "       'SEC_INSTAL_AMT','ltv','DELINQUENT_ACCTS_IN_LAST_SIX_THS','NEW_ACCTS_IN_LAST_SIX_THS']\n",
    "categorical=[ 'Aadhar_flag', 'PAN_flag',\n",
    "       'VoterID_flag', 'Driving_flag', 'Passport_flag', 'PERFORM_CNS_SCORE',\n",
    "       'NO_OF_INQUIRIES', 'PERFORM_CNS_SCORE_DESCRIPTION','AVERAGE_ACCT_AGE_bis','CREDIT_HISTORY_LENGTH_bis',\n",
    "       'Employment_Type_K','NO_OF_INQUIRIES']\n",
    "\n",
    "idvar  = ['UniqueID','supplier_id','manufacturer_id','Current_pincode_ID','State_ID','Employee_code_ID']\n",
    "target = ['loan_default']\n"
   ]
  },
  {
   "cell_type": "code",
   "execution_count": 5,
   "id": "43ed5e3d",
   "metadata": {},
   "outputs": [
    {
     "name": "stdout",
     "output_type": "stream",
     "text": [
      "<class 'pandas.core.frame.DataFrame'>\n",
      "RangeIndex: 233153 entries, 0 to 233152\n",
      "Data columns (total 38 columns):\n",
      " #   Column                            Non-Null Count   Dtype \n",
      "---  ------                            --------------   ----- \n",
      " 0   UniqueID                          233153 non-null  int64 \n",
      " 1   disbursed_amount                  233153 non-null  int64 \n",
      " 2   asset_cost                        233153 non-null  int64 \n",
      " 3   ltv                               233153 non-null  object\n",
      " 4   branch_id                         233153 non-null  int64 \n",
      " 5   supplier_id                       233153 non-null  int64 \n",
      " 6   manufacturer_id                   233153 non-null  int64 \n",
      " 7   Current_pincode_ID                233153 non-null  int64 \n",
      " 8   Employment_Type_K                 225492 non-null  object\n",
      " 9   State_ID                          233153 non-null  int64 \n",
      " 10  Employee_code_ID                  233153 non-null  int64 \n",
      " 11  Aadhar_flag                       233153 non-null  int64 \n",
      " 12  PAN_flag                          233153 non-null  int64 \n",
      " 13  VoterID_flag                      233153 non-null  int64 \n",
      " 14  Driving_flag                      233153 non-null  int64 \n",
      " 15  Passport_flag                     233153 non-null  int64 \n",
      " 16  PERFORM_CNS_SCORE                 233153 non-null  int64 \n",
      " 17  PERFORM_CNS_SCORE_DESCRIPTION     233153 non-null  object\n",
      " 18  PRI_NO_OF_ACCTS                   233153 non-null  int64 \n",
      " 19  PRI_ACTIVE_ACCTS                  233153 non-null  int64 \n",
      " 20  PRI_OVERDUE_ACCTS                 233153 non-null  int64 \n",
      " 21  PRI_CURRENT_BALANCE               233153 non-null  int64 \n",
      " 22  PRI_SANCTIONED_AMOUNT             233153 non-null  int64 \n",
      " 23  PRI_DISBURSED_AMOUNT              233153 non-null  int64 \n",
      " 24  SEC_NO_OF_ACCTS                   233153 non-null  int64 \n",
      " 25  SEC_ACTIVE_ACCTS                  233153 non-null  int64 \n",
      " 26  SEC_OVERDUE_ACCTS                 233153 non-null  int64 \n",
      " 27  SEC_CURRENT_BALANCE               233153 non-null  int64 \n",
      " 28  SEC_SANCTIONED_AMOUNT             233153 non-null  int64 \n",
      " 29  SEC_DISBURSED_AMOUNT              233153 non-null  int64 \n",
      " 30  PRIMARY_INSTAL_AMT                233153 non-null  int64 \n",
      " 31  SEC_INSTAL_AMT                    233153 non-null  int64 \n",
      " 32  NEW_ACCTS_IN_LAST_SIX_THS         233153 non-null  int64 \n",
      " 33  DELINQUENT_ACCTS_IN_LAST_SIX_THS  233153 non-null  int64 \n",
      " 34  AVERAGE_ACCT_AGE_bis              233153 non-null  int64 \n",
      " 35  CREDIT_HISTORY_LENGTH_bis         233153 non-null  int64 \n",
      " 36  NO_OF_INQUIRIES                   233153 non-null  int64 \n",
      " 37  loan_default                      233153 non-null  int64 \n",
      "dtypes: int64(35), object(3)\n",
      "memory usage: 67.6+ MB\n"
     ]
    }
   ],
   "source": [
    "df.info()"
   ]
  },
  {
   "cell_type": "markdown",
   "id": "d3d8c109",
   "metadata": {},
   "source": [
    "# Exploration des données "
   ]
  },
  {
   "cell_type": "code",
   "execution_count": 6,
   "id": "1571cee2",
   "metadata": {},
   "outputs": [
    {
     "name": "stdout",
     "output_type": "stream",
     "text": [
      "Dimension du data set est (233153, 38)\n",
      "\n"
     ]
    }
   ],
   "source": [
    "print(f\"Dimension du data set est {df.shape}\\n\")"
   ]
  },
  {
   "cell_type": "markdown",
   "id": "554f8845",
   "metadata": {},
   "source": [
    "## Recherche des éléments null dans notre table "
   ]
  },
  {
   "cell_type": "markdown",
   "id": "be845f53",
   "metadata": {},
   "source": [
    "La première étape dans notre découverte des données sera d'identifier la présence de valeures null dans notre table "
   ]
  },
  {
   "cell_type": "code",
   "execution_count": 7,
   "id": "34b52c75",
   "metadata": {},
   "outputs": [
    {
     "data": {
      "text/plain": [
       "UniqueID                               0\n",
       "disbursed_amount                       0\n",
       "asset_cost                             0\n",
       "ltv                                    0\n",
       "branch_id                              0\n",
       "supplier_id                            0\n",
       "manufacturer_id                        0\n",
       "Current_pincode_ID                     0\n",
       "Employment_Type_K                   7661\n",
       "State_ID                               0\n",
       "Employee_code_ID                       0\n",
       "Aadhar_flag                            0\n",
       "PAN_flag                               0\n",
       "VoterID_flag                           0\n",
       "Driving_flag                           0\n",
       "Passport_flag                          0\n",
       "PERFORM_CNS_SCORE                      0\n",
       "PERFORM_CNS_SCORE_DESCRIPTION          0\n",
       "PRI_NO_OF_ACCTS                        0\n",
       "PRI_ACTIVE_ACCTS                       0\n",
       "PRI_OVERDUE_ACCTS                      0\n",
       "PRI_CURRENT_BALANCE                    0\n",
       "PRI_SANCTIONED_AMOUNT                  0\n",
       "PRI_DISBURSED_AMOUNT                   0\n",
       "SEC_NO_OF_ACCTS                        0\n",
       "SEC_ACTIVE_ACCTS                       0\n",
       "SEC_OVERDUE_ACCTS                      0\n",
       "SEC_CURRENT_BALANCE                    0\n",
       "SEC_SANCTIONED_AMOUNT                  0\n",
       "SEC_DISBURSED_AMOUNT                   0\n",
       "PRIMARY_INSTAL_AMT                     0\n",
       "SEC_INSTAL_AMT                         0\n",
       "NEW_ACCTS_IN_LAST_SIX_THS              0\n",
       "DELINQUENT_ACCTS_IN_LAST_SIX_THS       0\n",
       "AVERAGE_ACCT_AGE_bis                   0\n",
       "CREDIT_HISTORY_LENGTH_bis              0\n",
       "NO_OF_INQUIRIES                        0\n",
       "loan_default                           0\n",
       "dtype: int64"
      ]
     },
     "execution_count": 7,
     "metadata": {},
     "output_type": "execute_result"
    }
   ],
   "source": [
    "df.isnull().sum()"
   ]
  },
  {
   "cell_type": "markdown",
   "id": "96340133",
   "metadata": {},
   "source": [
    "['Employment_Type_K'] est la seule variable comportant des éléments null, nous allons regarder de plus près. "
   ]
  },
  {
   "cell_type": "code",
   "execution_count": 8,
   "id": "3229580b",
   "metadata": {},
   "outputs": [
    {
     "data": {
      "text/plain": [
       "Self employed    127635\n",
       "Salaried          97857\n",
       "Name: Employment_Type_K, dtype: int64"
      ]
     },
     "execution_count": 8,
     "metadata": {},
     "output_type": "execute_result"
    }
   ],
   "source": [
    "df['Employment_Type_K'].value_counts()"
   ]
  },
  {
   "cell_type": "markdown",
   "id": "991f8b39",
   "metadata": {},
   "source": [
    "La variable Employment_Type_K est composé de deux facteurs 'Self employed' et 'Salaried' il est intéressant de remplacer les NA par une autre catégorie, 'Unemployed' par exemple"
   ]
  },
  {
   "cell_type": "code",
   "execution_count": 9,
   "id": "43cc473b",
   "metadata": {},
   "outputs": [
    {
     "data": {
      "text/plain": [
       "Self employed    127635\n",
       "Salaried          97857\n",
       "Unemployed         7661\n",
       "Name: Employment_Type_K, dtype: int64"
      ]
     },
     "execution_count": 9,
     "metadata": {},
     "output_type": "execute_result"
    }
   ],
   "source": [
    "df[\"Employment_Type_K\"].fillna(value = \"Unemployed\",inplace = True)\n",
    "df['Employment_Type_K'].value_counts()"
   ]
  },
  {
   "cell_type": "code",
   "execution_count": 10,
   "id": "fe17362c",
   "metadata": {},
   "outputs": [],
   "source": [
    "## Traitement des types de données \n",
    "\n",
    "# On transforme les variables numériques en catégories                                                                                                                                                                             \n",
    "#df['branch_id'] = df['branch_id'].astype('category')\n",
    "#df['manufacturer_id'] = df['manufacturer_id'].astype('category')\n",
    "#df['State_ID'] = df['State_ID'].astype('category')\n",
    "#df['NEW_ACCTS_IN_LAST_SIX_THS'] = df['NEW_ACCTS_IN_LAST_SIX_THS'].astype('category')\n",
    "#df['DELINQUENT_ACCTS_IN_LAST_SIX_THS'] = df['DELINQUENT_ACCTS_IN_LAST_SIX_THS'].astype('category') \n",
    "#df['NO_OF_INQUIRIES'] = df['NO_OF_INQUIRIES'].astype('category')\n",
    "#df['loan_default'] = df['loan_default'].astype('category')\n",
    "#df['Employment_Type_K'] = df['Employment_Type_K'].astype('category')\n",
    "#df['Aadhar_flag'] = df['Aadhar_flag'].astype('category')\n",
    "#df['PAN_flag'] = df['PAN_flag'].astype('category')\n",
    "#df['Passport_flag'] = df['Passport_flag'].astype('category')\n",
    "#df['VoterID_flag'] = df['VoterID_flag'].astype('category')\n",
    "#df['Driving_flag'] = df['Driving_flag'].astype('category')\n",
    "\n",
    "\n",
    "#traitement de ltv, considéré comme string alors que c'est un float \n",
    "df['ltv'] = df['ltv'].str.replace(',','.').astype('float64')\n"
   ]
  },
  {
   "cell_type": "markdown",
   "id": "b103b759",
   "metadata": {},
   "source": [
    "## Stats "
   ]
  },
  {
   "cell_type": "markdown",
   "id": "b4961f85",
   "metadata": {},
   "source": [
    "On peut commencer par regarder les statistiques de base de notre table. Cependant beaucoup d'informations ne sont pas utiles ici car .describe() effectue des opérations sur des variables catégorielles ce qui n'a pas de sens.\n"
   ]
  },
  {
   "cell_type": "code",
   "execution_count": 11,
   "id": "52e49ece",
   "metadata": {},
   "outputs": [
    {
     "data": {
      "text/html": [
       "<div>\n",
       "<style scoped>\n",
       "    .dataframe tbody tr th:only-of-type {\n",
       "        vertical-align: middle;\n",
       "    }\n",
       "\n",
       "    .dataframe tbody tr th {\n",
       "        vertical-align: top;\n",
       "    }\n",
       "\n",
       "    .dataframe thead th {\n",
       "        text-align: right;\n",
       "    }\n",
       "</style>\n",
       "<table border=\"1\" class=\"dataframe\">\n",
       "  <thead>\n",
       "    <tr style=\"text-align: right;\">\n",
       "      <th></th>\n",
       "      <th>UniqueID</th>\n",
       "      <th>disbursed_amount</th>\n",
       "      <th>asset_cost</th>\n",
       "      <th>ltv</th>\n",
       "      <th>branch_id</th>\n",
       "      <th>supplier_id</th>\n",
       "      <th>manufacturer_id</th>\n",
       "      <th>Current_pincode_ID</th>\n",
       "      <th>State_ID</th>\n",
       "      <th>Employee_code_ID</th>\n",
       "      <th>Aadhar_flag</th>\n",
       "      <th>PAN_flag</th>\n",
       "      <th>VoterID_flag</th>\n",
       "      <th>Driving_flag</th>\n",
       "      <th>Passport_flag</th>\n",
       "      <th>PERFORM_CNS_SCORE</th>\n",
       "      <th>PRI_NO_OF_ACCTS</th>\n",
       "      <th>PRI_ACTIVE_ACCTS</th>\n",
       "      <th>PRI_OVERDUE_ACCTS</th>\n",
       "      <th>PRI_CURRENT_BALANCE</th>\n",
       "      <th>PRI_SANCTIONED_AMOUNT</th>\n",
       "      <th>PRI_DISBURSED_AMOUNT</th>\n",
       "      <th>SEC_NO_OF_ACCTS</th>\n",
       "      <th>SEC_ACTIVE_ACCTS</th>\n",
       "      <th>SEC_OVERDUE_ACCTS</th>\n",
       "      <th>SEC_CURRENT_BALANCE</th>\n",
       "      <th>SEC_SANCTIONED_AMOUNT</th>\n",
       "      <th>SEC_DISBURSED_AMOUNT</th>\n",
       "      <th>PRIMARY_INSTAL_AMT</th>\n",
       "      <th>SEC_INSTAL_AMT</th>\n",
       "      <th>NEW_ACCTS_IN_LAST_SIX_THS</th>\n",
       "      <th>DELINQUENT_ACCTS_IN_LAST_SIX_THS</th>\n",
       "      <th>AVERAGE_ACCT_AGE_bis</th>\n",
       "      <th>CREDIT_HISTORY_LENGTH_bis</th>\n",
       "      <th>NO_OF_INQUIRIES</th>\n",
       "      <th>loan_default</th>\n",
       "    </tr>\n",
       "  </thead>\n",
       "  <tbody>\n",
       "    <tr>\n",
       "      <th>count</th>\n",
       "      <td>233153.00000</td>\n",
       "      <td>233153.00000</td>\n",
       "      <td>233153.00000</td>\n",
       "      <td>233153.00000</td>\n",
       "      <td>233153.00000</td>\n",
       "      <td>233153.00000</td>\n",
       "      <td>233153.00000</td>\n",
       "      <td>233153.00000</td>\n",
       "      <td>233153.00000</td>\n",
       "      <td>233153.00000</td>\n",
       "      <td>233153.00000</td>\n",
       "      <td>233153.00000</td>\n",
       "      <td>233153.00000</td>\n",
       "      <td>233153.00000</td>\n",
       "      <td>233153.00000</td>\n",
       "      <td>233153.00000</td>\n",
       "      <td>233153.00000</td>\n",
       "      <td>233153.00000</td>\n",
       "      <td>233153.00000</td>\n",
       "      <td>233153.00000</td>\n",
       "      <td>233153.00000</td>\n",
       "      <td>233153.00000</td>\n",
       "      <td>233153.00000</td>\n",
       "      <td>233153.00000</td>\n",
       "      <td>233153.00000</td>\n",
       "      <td>233153.00000</td>\n",
       "      <td>233153.00000</td>\n",
       "      <td>233153.00000</td>\n",
       "      <td>233153.00000</td>\n",
       "      <td>233153.00000</td>\n",
       "      <td>233153.00000</td>\n",
       "      <td>233153.00000</td>\n",
       "      <td>233153.00000</td>\n",
       "      <td>233153.00000</td>\n",
       "      <td>233153.00000</td>\n",
       "      <td>233153.00000</td>\n",
       "    </tr>\n",
       "    <tr>\n",
       "      <th>mean</th>\n",
       "      <td>535918.06701</td>\n",
       "      <td>54357.00974</td>\n",
       "      <td>75865.14305</td>\n",
       "      <td>74.74647</td>\n",
       "      <td>72.93612</td>\n",
       "      <td>19638.62145</td>\n",
       "      <td>69.02816</td>\n",
       "      <td>3396.88864</td>\n",
       "      <td>7.26225</td>\n",
       "      <td>1549.47522</td>\n",
       "      <td>0.84032</td>\n",
       "      <td>0.07558</td>\n",
       "      <td>0.14494</td>\n",
       "      <td>0.02324</td>\n",
       "      <td>0.00213</td>\n",
       "      <td>289.46424</td>\n",
       "      <td>2.44065</td>\n",
       "      <td>1.03990</td>\n",
       "      <td>0.15655</td>\n",
       "      <td>165900.78849</td>\n",
       "      <td>218504.79249</td>\n",
       "      <td>218066.83395</td>\n",
       "      <td>0.05908</td>\n",
       "      <td>0.02770</td>\n",
       "      <td>0.00724</td>\n",
       "      <td>5427.81610</td>\n",
       "      <td>7295.95464</td>\n",
       "      <td>7180.02867</td>\n",
       "      <td>13105.53793</td>\n",
       "      <td>323.26984</td>\n",
       "      <td>0.38184</td>\n",
       "      <td>0.09748</td>\n",
       "      <td>0.76421</td>\n",
       "      <td>1.37857</td>\n",
       "      <td>0.20662</td>\n",
       "      <td>0.21707</td>\n",
       "    </tr>\n",
       "    <tr>\n",
       "      <th>std</th>\n",
       "      <td>68315.42439</td>\n",
       "      <td>12971.33963</td>\n",
       "      <td>18944.78739</td>\n",
       "      <td>11.45662</td>\n",
       "      <td>69.83514</td>\n",
       "      <td>3491.95089</td>\n",
       "      <td>22.14130</td>\n",
       "      <td>2238.14864</td>\n",
       "      <td>4.48224</td>\n",
       "      <td>975.26293</td>\n",
       "      <td>0.36631</td>\n",
       "      <td>0.26432</td>\n",
       "      <td>0.35204</td>\n",
       "      <td>0.15067</td>\n",
       "      <td>0.04607</td>\n",
       "      <td>338.37497</td>\n",
       "      <td>5.21724</td>\n",
       "      <td>1.94150</td>\n",
       "      <td>0.54879</td>\n",
       "      <td>942275.54044</td>\n",
       "      <td>2374799.17545</td>\n",
       "      <td>2377748.90238</td>\n",
       "      <td>0.62680</td>\n",
       "      <td>0.31606</td>\n",
       "      <td>0.11108</td>\n",
       "      <td>170237.35934</td>\n",
       "      <td>183156.38523</td>\n",
       "      <td>182592.89104</td>\n",
       "      <td>151368.22689</td>\n",
       "      <td>15553.72468</td>\n",
       "      <td>0.95511</td>\n",
       "      <td>0.38444</td>\n",
       "      <td>1.29160</td>\n",
       "      <td>2.40194</td>\n",
       "      <td>0.70650</td>\n",
       "      <td>0.41225</td>\n",
       "    </tr>\n",
       "    <tr>\n",
       "      <th>min</th>\n",
       "      <td>417428.00000</td>\n",
       "      <td>13320.00000</td>\n",
       "      <td>37000.00000</td>\n",
       "      <td>10.03000</td>\n",
       "      <td>1.00000</td>\n",
       "      <td>10524.00000</td>\n",
       "      <td>45.00000</td>\n",
       "      <td>1.00000</td>\n",
       "      <td>1.00000</td>\n",
       "      <td>1.00000</td>\n",
       "      <td>0.00000</td>\n",
       "      <td>0.00000</td>\n",
       "      <td>0.00000</td>\n",
       "      <td>0.00000</td>\n",
       "      <td>0.00000</td>\n",
       "      <td>0.00000</td>\n",
       "      <td>0.00000</td>\n",
       "      <td>0.00000</td>\n",
       "      <td>0.00000</td>\n",
       "      <td>-6678296.00000</td>\n",
       "      <td>0.00000</td>\n",
       "      <td>0.00000</td>\n",
       "      <td>0.00000</td>\n",
       "      <td>0.00000</td>\n",
       "      <td>0.00000</td>\n",
       "      <td>-574647.00000</td>\n",
       "      <td>0.00000</td>\n",
       "      <td>0.00000</td>\n",
       "      <td>0.00000</td>\n",
       "      <td>0.00000</td>\n",
       "      <td>0.00000</td>\n",
       "      <td>0.00000</td>\n",
       "      <td>0.00000</td>\n",
       "      <td>0.00000</td>\n",
       "      <td>0.00000</td>\n",
       "      <td>0.00000</td>\n",
       "    </tr>\n",
       "    <tr>\n",
       "      <th>25%</th>\n",
       "      <td>476787.00000</td>\n",
       "      <td>47145.00000</td>\n",
       "      <td>65717.00000</td>\n",
       "      <td>68.88000</td>\n",
       "      <td>14.00000</td>\n",
       "      <td>16535.00000</td>\n",
       "      <td>48.00000</td>\n",
       "      <td>1511.00000</td>\n",
       "      <td>4.00000</td>\n",
       "      <td>713.00000</td>\n",
       "      <td>1.00000</td>\n",
       "      <td>0.00000</td>\n",
       "      <td>0.00000</td>\n",
       "      <td>0.00000</td>\n",
       "      <td>0.00000</td>\n",
       "      <td>0.00000</td>\n",
       "      <td>0.00000</td>\n",
       "      <td>0.00000</td>\n",
       "      <td>0.00000</td>\n",
       "      <td>0.00000</td>\n",
       "      <td>0.00000</td>\n",
       "      <td>0.00000</td>\n",
       "      <td>0.00000</td>\n",
       "      <td>0.00000</td>\n",
       "      <td>0.00000</td>\n",
       "      <td>0.00000</td>\n",
       "      <td>0.00000</td>\n",
       "      <td>0.00000</td>\n",
       "      <td>0.00000</td>\n",
       "      <td>0.00000</td>\n",
       "      <td>0.00000</td>\n",
       "      <td>0.00000</td>\n",
       "      <td>0.00000</td>\n",
       "      <td>0.00000</td>\n",
       "      <td>0.00000</td>\n",
       "      <td>0.00000</td>\n",
       "    </tr>\n",
       "    <tr>\n",
       "      <th>50%</th>\n",
       "      <td>535979.00000</td>\n",
       "      <td>53803.00000</td>\n",
       "      <td>70946.00000</td>\n",
       "      <td>76.80000</td>\n",
       "      <td>61.00000</td>\n",
       "      <td>20333.00000</td>\n",
       "      <td>86.00000</td>\n",
       "      <td>2970.00000</td>\n",
       "      <td>6.00000</td>\n",
       "      <td>1451.00000</td>\n",
       "      <td>1.00000</td>\n",
       "      <td>0.00000</td>\n",
       "      <td>0.00000</td>\n",
       "      <td>0.00000</td>\n",
       "      <td>0.00000</td>\n",
       "      <td>0.00000</td>\n",
       "      <td>0.00000</td>\n",
       "      <td>0.00000</td>\n",
       "      <td>0.00000</td>\n",
       "      <td>0.00000</td>\n",
       "      <td>0.00000</td>\n",
       "      <td>0.00000</td>\n",
       "      <td>0.00000</td>\n",
       "      <td>0.00000</td>\n",
       "      <td>0.00000</td>\n",
       "      <td>0.00000</td>\n",
       "      <td>0.00000</td>\n",
       "      <td>0.00000</td>\n",
       "      <td>0.00000</td>\n",
       "      <td>0.00000</td>\n",
       "      <td>0.00000</td>\n",
       "      <td>0.00000</td>\n",
       "      <td>0.00000</td>\n",
       "      <td>0.00000</td>\n",
       "      <td>0.00000</td>\n",
       "      <td>0.00000</td>\n",
       "    </tr>\n",
       "    <tr>\n",
       "      <th>75%</th>\n",
       "      <td>595040.00000</td>\n",
       "      <td>60413.00000</td>\n",
       "      <td>79202.00000</td>\n",
       "      <td>83.67000</td>\n",
       "      <td>130.00000</td>\n",
       "      <td>23000.00000</td>\n",
       "      <td>86.00000</td>\n",
       "      <td>5677.00000</td>\n",
       "      <td>10.00000</td>\n",
       "      <td>2362.00000</td>\n",
       "      <td>1.00000</td>\n",
       "      <td>0.00000</td>\n",
       "      <td>0.00000</td>\n",
       "      <td>0.00000</td>\n",
       "      <td>0.00000</td>\n",
       "      <td>678.00000</td>\n",
       "      <td>3.00000</td>\n",
       "      <td>1.00000</td>\n",
       "      <td>0.00000</td>\n",
       "      <td>35008.00000</td>\n",
       "      <td>62500.00000</td>\n",
       "      <td>60800.00000</td>\n",
       "      <td>0.00000</td>\n",
       "      <td>0.00000</td>\n",
       "      <td>0.00000</td>\n",
       "      <td>0.00000</td>\n",
       "      <td>0.00000</td>\n",
       "      <td>0.00000</td>\n",
       "      <td>1999.00000</td>\n",
       "      <td>0.00000</td>\n",
       "      <td>0.00000</td>\n",
       "      <td>0.00000</td>\n",
       "      <td>1.00000</td>\n",
       "      <td>2.00000</td>\n",
       "      <td>0.00000</td>\n",
       "      <td>0.00000</td>\n",
       "    </tr>\n",
       "    <tr>\n",
       "      <th>max</th>\n",
       "      <td>671084.00000</td>\n",
       "      <td>990572.00000</td>\n",
       "      <td>1628992.00000</td>\n",
       "      <td>95.00000</td>\n",
       "      <td>261.00000</td>\n",
       "      <td>24803.00000</td>\n",
       "      <td>156.00000</td>\n",
       "      <td>7345.00000</td>\n",
       "      <td>22.00000</td>\n",
       "      <td>3795.00000</td>\n",
       "      <td>1.00000</td>\n",
       "      <td>1.00000</td>\n",
       "      <td>1.00000</td>\n",
       "      <td>1.00000</td>\n",
       "      <td>1.00000</td>\n",
       "      <td>890.00000</td>\n",
       "      <td>453.00000</td>\n",
       "      <td>144.00000</td>\n",
       "      <td>25.00000</td>\n",
       "      <td>96524920.00000</td>\n",
       "      <td>1000000000.00000</td>\n",
       "      <td>1000000000.00000</td>\n",
       "      <td>52.00000</td>\n",
       "      <td>36.00000</td>\n",
       "      <td>8.00000</td>\n",
       "      <td>36032852.00000</td>\n",
       "      <td>30000000.00000</td>\n",
       "      <td>30000000.00000</td>\n",
       "      <td>25642806.00000</td>\n",
       "      <td>4170901.00000</td>\n",
       "      <td>35.00000</td>\n",
       "      <td>20.00000</td>\n",
       "      <td>31.00000</td>\n",
       "      <td>39.00000</td>\n",
       "      <td>36.00000</td>\n",
       "      <td>1.00000</td>\n",
       "    </tr>\n",
       "  </tbody>\n",
       "</table>\n",
       "</div>"
      ],
      "text/plain": [
       "          UniqueID  disbursed_amount    asset_cost          ltv    branch_id  \\\n",
       "count 233153.00000      233153.00000  233153.00000 233153.00000 233153.00000   \n",
       "mean  535918.06701       54357.00974   75865.14305     74.74647     72.93612   \n",
       "std    68315.42439       12971.33963   18944.78739     11.45662     69.83514   \n",
       "min   417428.00000       13320.00000   37000.00000     10.03000      1.00000   \n",
       "25%   476787.00000       47145.00000   65717.00000     68.88000     14.00000   \n",
       "50%   535979.00000       53803.00000   70946.00000     76.80000     61.00000   \n",
       "75%   595040.00000       60413.00000   79202.00000     83.67000    130.00000   \n",
       "max   671084.00000      990572.00000 1628992.00000     95.00000    261.00000   \n",
       "\n",
       "       supplier_id  manufacturer_id  Current_pincode_ID     State_ID  \\\n",
       "count 233153.00000     233153.00000        233153.00000 233153.00000   \n",
       "mean   19638.62145         69.02816          3396.88864      7.26225   \n",
       "std     3491.95089         22.14130          2238.14864      4.48224   \n",
       "min    10524.00000         45.00000             1.00000      1.00000   \n",
       "25%    16535.00000         48.00000          1511.00000      4.00000   \n",
       "50%    20333.00000         86.00000          2970.00000      6.00000   \n",
       "75%    23000.00000         86.00000          5677.00000     10.00000   \n",
       "max    24803.00000        156.00000          7345.00000     22.00000   \n",
       "\n",
       "       Employee_code_ID  Aadhar_flag     PAN_flag  VoterID_flag  Driving_flag  \\\n",
       "count      233153.00000 233153.00000 233153.00000  233153.00000  233153.00000   \n",
       "mean         1549.47522      0.84032      0.07558       0.14494       0.02324   \n",
       "std           975.26293      0.36631      0.26432       0.35204       0.15067   \n",
       "min             1.00000      0.00000      0.00000       0.00000       0.00000   \n",
       "25%           713.00000      1.00000      0.00000       0.00000       0.00000   \n",
       "50%          1451.00000      1.00000      0.00000       0.00000       0.00000   \n",
       "75%          2362.00000      1.00000      0.00000       0.00000       0.00000   \n",
       "max          3795.00000      1.00000      1.00000       1.00000       1.00000   \n",
       "\n",
       "       Passport_flag  PERFORM_CNS_SCORE  PRI_NO_OF_ACCTS  PRI_ACTIVE_ACCTS  \\\n",
       "count   233153.00000       233153.00000     233153.00000      233153.00000   \n",
       "mean         0.00213          289.46424          2.44065           1.03990   \n",
       "std          0.04607          338.37497          5.21724           1.94150   \n",
       "min          0.00000            0.00000          0.00000           0.00000   \n",
       "25%          0.00000            0.00000          0.00000           0.00000   \n",
       "50%          0.00000            0.00000          0.00000           0.00000   \n",
       "75%          0.00000          678.00000          3.00000           1.00000   \n",
       "max          1.00000          890.00000        453.00000         144.00000   \n",
       "\n",
       "       PRI_OVERDUE_ACCTS  PRI_CURRENT_BALANCE  PRI_SANCTIONED_AMOUNT  \\\n",
       "count       233153.00000         233153.00000           233153.00000   \n",
       "mean             0.15655         165900.78849           218504.79249   \n",
       "std              0.54879         942275.54044          2374799.17545   \n",
       "min              0.00000       -6678296.00000                0.00000   \n",
       "25%              0.00000              0.00000                0.00000   \n",
       "50%              0.00000              0.00000                0.00000   \n",
       "75%              0.00000          35008.00000            62500.00000   \n",
       "max             25.00000       96524920.00000       1000000000.00000   \n",
       "\n",
       "       PRI_DISBURSED_AMOUNT  SEC_NO_OF_ACCTS  SEC_ACTIVE_ACCTS  \\\n",
       "count          233153.00000     233153.00000      233153.00000   \n",
       "mean           218066.83395          0.05908           0.02770   \n",
       "std           2377748.90238          0.62680           0.31606   \n",
       "min                 0.00000          0.00000           0.00000   \n",
       "25%                 0.00000          0.00000           0.00000   \n",
       "50%                 0.00000          0.00000           0.00000   \n",
       "75%             60800.00000          0.00000           0.00000   \n",
       "max        1000000000.00000         52.00000          36.00000   \n",
       "\n",
       "       SEC_OVERDUE_ACCTS  SEC_CURRENT_BALANCE  SEC_SANCTIONED_AMOUNT  \\\n",
       "count       233153.00000         233153.00000           233153.00000   \n",
       "mean             0.00724           5427.81610             7295.95464   \n",
       "std              0.11108         170237.35934           183156.38523   \n",
       "min              0.00000        -574647.00000                0.00000   \n",
       "25%              0.00000              0.00000                0.00000   \n",
       "50%              0.00000              0.00000                0.00000   \n",
       "75%              0.00000              0.00000                0.00000   \n",
       "max              8.00000       36032852.00000         30000000.00000   \n",
       "\n",
       "       SEC_DISBURSED_AMOUNT  PRIMARY_INSTAL_AMT  SEC_INSTAL_AMT  \\\n",
       "count          233153.00000        233153.00000    233153.00000   \n",
       "mean             7180.02867         13105.53793       323.26984   \n",
       "std            182592.89104        151368.22689     15553.72468   \n",
       "min                 0.00000             0.00000         0.00000   \n",
       "25%                 0.00000             0.00000         0.00000   \n",
       "50%                 0.00000             0.00000         0.00000   \n",
       "75%                 0.00000          1999.00000         0.00000   \n",
       "max          30000000.00000      25642806.00000   4170901.00000   \n",
       "\n",
       "       NEW_ACCTS_IN_LAST_SIX_THS  DELINQUENT_ACCTS_IN_LAST_SIX_THS  \\\n",
       "count               233153.00000                      233153.00000   \n",
       "mean                     0.38184                           0.09748   \n",
       "std                      0.95511                           0.38444   \n",
       "min                      0.00000                           0.00000   \n",
       "25%                      0.00000                           0.00000   \n",
       "50%                      0.00000                           0.00000   \n",
       "75%                      0.00000                           0.00000   \n",
       "max                     35.00000                          20.00000   \n",
       "\n",
       "       AVERAGE_ACCT_AGE_bis  CREDIT_HISTORY_LENGTH_bis  NO_OF_INQUIRIES  \\\n",
       "count          233153.00000               233153.00000     233153.00000   \n",
       "mean                0.76421                    1.37857          0.20662   \n",
       "std                 1.29160                    2.40194          0.70650   \n",
       "min                 0.00000                    0.00000          0.00000   \n",
       "25%                 0.00000                    0.00000          0.00000   \n",
       "50%                 0.00000                    0.00000          0.00000   \n",
       "75%                 1.00000                    2.00000          0.00000   \n",
       "max                31.00000                   39.00000         36.00000   \n",
       "\n",
       "       loan_default  \n",
       "count  233153.00000  \n",
       "mean        0.21707  \n",
       "std         0.41225  \n",
       "min         0.00000  \n",
       "25%         0.00000  \n",
       "50%         0.00000  \n",
       "75%         0.00000  \n",
       "max         1.00000  "
      ]
     },
     "execution_count": 11,
     "metadata": {},
     "output_type": "execute_result"
    }
   ],
   "source": [
    "df.describe()"
   ]
  },
  {
   "cell_type": "markdown",
   "id": "872410f2",
   "metadata": {},
   "source": [
    "## T test de Student"
   ]
  },
  {
   "cell_type": "code",
   "execution_count": 12,
   "id": "b3432972",
   "metadata": {},
   "outputs": [
    {
     "data": {
      "image/png": "[encoded data removed]",
      "text/plain": [
       "<Figure size 504x504 with 1 Axes>"
      ]
     },
     "metadata": {
      "needs_background": "light"
     },
     "output_type": "display_data"
    }
   ],
   "source": [
    "p=[]\n",
    "from scipy.stats import ttest_ind\n",
    "\n",
    "for i in numerical:\n",
    "    df1=df.groupby('loan_default').get_group(0)\n",
    "    df2=df.groupby('loan_default').get_group(1)\n",
    "    t,pvalue=ttest_ind(df1[i],df2[i])\n",
    "    p.append(1-pvalue)\n",
    "plt.figure(figsize=(7,7))\n",
    "sns.barplot(x=p, y=numerical)\n",
    "plt.title('Meilleures variables numérique')\n",
    "plt.axvline(x=(1-0.05),color='r')\n",
    "plt.xlabel('1-p value')\n",
    "plt.show()"
   ]
  },
  {
   "cell_type": "markdown",
   "id": "38931174",
   "metadata": {},
   "source": [
    "L'un des premiers tests que l'on peut effectuer sur notre table est le T test de Student, il nous permet de vérifier l'hypothèse d'indépendance des variables. Nous pouvons utiliser toutes les variables qui dépassent le trait rouge dans notre graphique. Cependant il faut poser le contexte, les variables ne dépassant pas le trait rouge sont des informations appartenant au co-emprunteur. Ces informations sont essentielles lors d'un prêt, il faut donc les garder, nous les aggrégerons aux informations de l'emprunteur si nécessaire. "
   ]
  },
  {
   "cell_type": "markdown",
   "id": "71a42fc6",
   "metadata": {},
   "source": [
    "## Anova test"
   ]
  },
  {
   "cell_type": "code",
   "execution_count": 13,
   "id": "b04464c0",
   "metadata": {},
   "outputs": [
    {
     "data": {
      "image/png": "[encoded data removed]",
      "text/plain": [
       "<Figure size 504x504 with 1 Axes>"
      ]
     },
     "metadata": {
      "needs_background": "light"
     },
     "output_type": "display_data"
    }
   ],
   "source": [
    "from sklearn.feature_selection import SelectKBest,f_classif\n",
    "n = SelectKBest(score_func=f_classif, k=10)\n",
    "numcols=n.fit(df[numerical],df['loan_default'])\n",
    "plt.figure(figsize=(7,7))\n",
    "sns.barplot(x=numcols.scores_,y=numerical)\n",
    "plt.title('Anova test - meilleures variables')\n",
    "plt.show()"
   ]
  },
  {
   "cell_type": "markdown",
   "id": "ed43174c",
   "metadata": {},
   "source": [
    "Le T test n'étant pas toujours suffisant car il ne prends pas en compte la variance des éléments, on peut le compléter avec un test Anova, nous tirons les mêmes conclusions que pour le T test, les informations du co-emprunteur semblent être peu utilisable mais nous devons les garder."
   ]
  },
  {
   "cell_type": "markdown",
   "id": "94e35d84",
   "metadata": {},
   "source": [
    "### Regroupement des informations de l'emprunteur et du co-emprunteur "
   ]
  },
  {
   "cell_type": "code",
   "execution_count": 14,
   "id": "5f24d6cb",
   "metadata": {},
   "outputs": [],
   "source": [
    "df.loc[:,'Nb_of_loans_active'] = df['PRI_NO_OF_ACCTS'] + df['SEC_NO_OF_ACCTS']\n",
    "df.loc[:,'Total_Inactive_accounts'] = df['PRI_NO_OF_ACCTS'] + df['SEC_NO_OF_ACCTS']\n",
    "df.loc[:,'Total_Overdue_Accounts'] = df['PRI_OVERDUE_ACCTS'] + df['SEC_OVERDUE_ACCTS']\n",
    "df.loc[:,'Total_Current_Balance'] = df['PRI_CURRENT_BALANCE'] + df['SEC_CURRENT_BALANCE']\n",
    "df.loc[:,'Total_Sanctioned_Amount'] = df['PRI_SANCTIONED_AMOUNT'] + df['SEC_SANCTIONED_AMOUNT']\n",
    "df.loc[:,'Total_Disbursed_Amount'] = df['PRI_DISBURSED_AMOUNT'] + df['SEC_DISBURSED_AMOUNT']\n",
    "df.loc[:,'Total_Installment'] = df['PRIMARY_INSTAL_AMT'] + df['SEC_INSTAL_AMT']"
   ]
  },
  {
   "cell_type": "markdown",
   "id": "bdd9aca6",
   "metadata": {},
   "source": [
    "## CHI ² test pour les variables catégorielles "
   ]
  },
  {
   "cell_type": "code",
   "execution_count": 15,
   "id": "039a9100",
   "metadata": {},
   "outputs": [
    {
     "data": {
      "image/png": "[encoded data removed]",
      "text/plain": [
       "<Figure size 504x504 with 1 Axes>"
      ]
     },
     "metadata": {
      "needs_background": "light"
     },
     "output_type": "display_data"
    }
   ],
   "source": [
    "\n",
    "from scipy.stats import chi2_contingency\n",
    "l=[]\n",
    "for i in categorical:\n",
    "    pvalue  = chi2_contingency(pd.crosstab(df['loan_default'],df[i]))[1]\n",
    "    l.append(1-pvalue)\n",
    "plt.figure(figsize=(7,7))\n",
    "sns.barplot(x=l, y=categorical)\n",
    "plt.title('Meilleures variables catégorielles')\n",
    "plt.axvline(x=(1-0.05),color='r')\n",
    "plt.show()"
   ]
  },
  {
   "cell_type": "markdown",
   "id": "89c24977",
   "metadata": {},
   "source": [
    "Nous utilisons pour les variables catégorielles le test Chi2, ici encore les variables dépassant le trait rouge permettent de conclure à une dépendance des variables avec notre variable cible ['loan_default']. La seule variable qui ne réussit pas le test est ['PAN_flag'] mais c'est expliqué par le contexte. En effet, ['PAN_flag'] est une carte d'identité, elle est obligatoire lors de la demande de prêt. "
   ]
  },
  {
   "cell_type": "markdown",
   "id": "f24bde9f",
   "metadata": {},
   "source": [
    "## Traitement des données inutiles \n",
    "\n",
    "On retire les variables que nous n'utiliserons pas. "
   ]
  },
  {
   "cell_type": "code",
   "execution_count": 16,
   "id": "f9b7062f",
   "metadata": {},
   "outputs": [],
   "source": [
    "df=df.drop(['PRI_NO_OF_ACCTS','SEC_NO_OF_ACCTS','PRI_CURRENT_BALANCE',\n",
    "            'PRI_SANCTIONED_AMOUNT','SEC_NO_OF_ACCTS','PRI_NO_OF_ACCTS','PRI_DISBURSED_AMOUNT','PRI_ACTIVE_ACCTS', \n",
    "            'PRI_OVERDUE_ACCTS','SEC_CURRENT_BALANCE','SEC_SANCTIONED_AMOUNT', 'SEC_OVERDUE_ACCTS',\n",
    "            'SEC_DISBURSED_AMOUNT','PRIMARY_INSTAL_AMT','SEC_INSTAL_AMT','disbursed_amount','SEC_ACTIVE_ACCTS'],axis=1)\n",
    "\n",
    "df=df.drop(idvar,axis=1)"
   ]
  },
  {
   "cell_type": "code",
   "execution_count": 17,
   "id": "5509e79b",
   "metadata": {},
   "outputs": [
    {
     "data": {
      "text/plain": [
       "(233153, 24)"
      ]
     },
     "execution_count": 17,
     "metadata": {},
     "output_type": "execute_result"
    }
   ],
   "source": [
    "df.shape"
   ]
  },
  {
   "cell_type": "code",
   "execution_count": 18,
   "id": "28d89bd6",
   "metadata": {},
   "outputs": [
    {
     "name": "stdout",
     "output_type": "stream",
     "text": [
      "<class 'pandas.core.frame.DataFrame'>\n",
      "RangeIndex: 233153 entries, 0 to 233152\n",
      "Data columns (total 24 columns):\n",
      " #   Column                            Non-Null Count   Dtype  \n",
      "---  ------                            --------------   -----  \n",
      " 0   asset_cost                        233153 non-null  int64  \n",
      " 1   ltv                               233153 non-null  float64\n",
      " 2   branch_id                         233153 non-null  int64  \n",
      " 3   Employment_Type_K                 233153 non-null  object \n",
      " 4   Aadhar_flag                       233153 non-null  int64  \n",
      " 5   PAN_flag                          233153 non-null  int64  \n",
      " 6   VoterID_flag                      233153 non-null  int64  \n",
      " 7   Driving_flag                      233153 non-null  int64  \n",
      " 8   Passport_flag                     233153 non-null  int64  \n",
      " 9   PERFORM_CNS_SCORE                 233153 non-null  int64  \n",
      " 10  PERFORM_CNS_SCORE_DESCRIPTION     233153 non-null  object \n",
      " 11  NEW_ACCTS_IN_LAST_SIX_THS         233153 non-null  int64  \n",
      " 12  DELINQUENT_ACCTS_IN_LAST_SIX_THS  233153 non-null  int64  \n",
      " 13  AVERAGE_ACCT_AGE_bis              233153 non-null  int64  \n",
      " 14  CREDIT_HISTORY_LENGTH_bis         233153 non-null  int64  \n",
      " 15  NO_OF_INQUIRIES                   233153 non-null  int64  \n",
      " 16  loan_default                      233153 non-null  int64  \n",
      " 17  Nb_of_loans_active                233153 non-null  int64  \n",
      " 18  Total_Inactive_accounts           233153 non-null  int64  \n",
      " 19  Total_Overdue_Accounts            233153 non-null  int64  \n",
      " 20  Total_Current_Balance             233153 non-null  int64  \n",
      " 21  Total_Sanctioned_Amount           233153 non-null  int64  \n",
      " 22  Total_Disbursed_Amount            233153 non-null  int64  \n",
      " 23  Total_Installment                 233153 non-null  int64  \n",
      "dtypes: float64(1), int64(21), object(2)\n",
      "memory usage: 42.7+ MB\n"
     ]
    }
   ],
   "source": [
    "df.info()"
   ]
  },
  {
   "cell_type": "code",
   "execution_count": 19,
   "id": "3330bfa9",
   "metadata": {},
   "outputs": [],
   "source": [
    "# on recode ensuite ['PERFORM_CNS_SCORE_DESCRIPTION']\n",
    "\n",
    "#Regroupement des modalités en 6 classes \n",
    "df['PERFORM_CNS_SCORE_DESCRIPTION'] = df['PERFORM_CNS_SCORE_DESCRIPTION'].replace('No Bureau History Available', 1)\n",
    "df['PERFORM_CNS_SCORE_DESCRIPTION'] = df['PERFORM_CNS_SCORE_DESCRIPTION'].replace('Not Scored: Sufficient History Not Available',1)\n",
    "df['PERFORM_CNS_SCORE_DESCRIPTION'] = df['PERFORM_CNS_SCORE_DESCRIPTION'].replace('Not Scored: Not Enough Info available on the customer',1)\n",
    "df['PERFORM_CNS_SCORE_DESCRIPTION'] = df['PERFORM_CNS_SCORE_DESCRIPTION'].replace('Not Scored: No Activity seen on the customer (Inactive)',1)\n",
    "df['PERFORM_CNS_SCORE_DESCRIPTION'] = df['PERFORM_CNS_SCORE_DESCRIPTION'].replace('Not Scored: No Updates available in last 36 ths',1)\n",
    "df['PERFORM_CNS_SCORE_DESCRIPTION'] = df['PERFORM_CNS_SCORE_DESCRIPTION'].replace('Not Scored: Only a Guarantor', 1)\n",
    "df['PERFORM_CNS_SCORE_DESCRIPTION'] = df['PERFORM_CNS_SCORE_DESCRIPTION'].replace('Not Scored: More than 50 active Accounts found',1)\n",
    "df['PERFORM_CNS_SCORE_DESCRIPTION'] = df['PERFORM_CNS_SCORE_DESCRIPTION'].replace('M-Very High Risk', 6)\n",
    "df['PERFORM_CNS_SCORE_DESCRIPTION'] = df['PERFORM_CNS_SCORE_DESCRIPTION'].replace('L-Very High Risk', 6)\n",
    "df['PERFORM_CNS_SCORE_DESCRIPTION'] = df['PERFORM_CNS_SCORE_DESCRIPTION'].replace('K-High Risk', 5)\n",
    "df['PERFORM_CNS_SCORE_DESCRIPTION'] = df['PERFORM_CNS_SCORE_DESCRIPTION'].replace('J-High Risk', 5)\n",
    "df['PERFORM_CNS_SCORE_DESCRIPTION'] = df['PERFORM_CNS_SCORE_DESCRIPTION'].replace('I-Medium Risk', 4)\n",
    "df['PERFORM_CNS_SCORE_DESCRIPTION'] = df['PERFORM_CNS_SCORE_DESCRIPTION'].replace('H-Medium Risk', 4)\n",
    "df['PERFORM_CNS_SCORE_DESCRIPTION'] = df['PERFORM_CNS_SCORE_DESCRIPTION'].replace('G-Low Risk', 3)\n",
    "df['PERFORM_CNS_SCORE_DESCRIPTION'] = df['PERFORM_CNS_SCORE_DESCRIPTION'].replace('F-Low Risk', 3)\n",
    "df['PERFORM_CNS_SCORE_DESCRIPTION'] = df['PERFORM_CNS_SCORE_DESCRIPTION'].replace('E-Low Risk', 3)\n",
    "df['PERFORM_CNS_SCORE_DESCRIPTION'] = df['PERFORM_CNS_SCORE_DESCRIPTION'].replace('D-Very Low Risk', 2)\n",
    "df['PERFORM_CNS_SCORE_DESCRIPTION'] = df['PERFORM_CNS_SCORE_DESCRIPTION'].replace('C-Very Low Risk', 2)\n",
    "df['PERFORM_CNS_SCORE_DESCRIPTION'] = df['PERFORM_CNS_SCORE_DESCRIPTION'].replace('B-Very Low Risk', 2)\n",
    "df['PERFORM_CNS_SCORE_DESCRIPTION'] = df['PERFORM_CNS_SCORE_DESCRIPTION'].replace('A-Very Low Risk', 2)\n",
    "\n",
    "\n",
    "#on compte le nombre de valeurs par modalités \n",
    "df['PERFORM_CNS_SCORE_DESCRIPTION'].value_counts()\n",
    "df=df.drop(['PERFORM_CNS_SCORE'] ,axis=1 )\n"
   ]
  },
  {
   "cell_type": "markdown",
   "id": "de8bedb5",
   "metadata": {},
   "source": [
    "On assigne une valeur numérique à chaque facteur de ['PERFORM_CNS_SCORE_DESCRIPTION'] pour discrétiser ['PERFORM_CNS_SCORE']"
   ]
  },
  {
   "cell_type": "code",
   "execution_count": 20,
   "id": "728a9c3e",
   "metadata": {},
   "outputs": [],
   "source": [
    "df['Employment_Type_K'] = df['Employment_Type_K'].replace('Self employed', 1)\n",
    "df['Employment_Type_K'] = df['Employment_Type_K'].replace('Salaried', 2)\n",
    "df['Employment_Type_K'] = df['Employment_Type_K'].replace('Unemployed', 3)"
   ]
  },
  {
   "cell_type": "markdown",
   "id": "d8206eb0",
   "metadata": {},
   "source": [
    "On fait de même pour le type d'emploi, cette étape nous permet d'éviter la création de \"dummies\" pour le modèle. "
   ]
  },
  {
   "cell_type": "markdown",
   "id": "6cffea97",
   "metadata": {},
   "source": [
    "# Analyse descriptive \n",
    "## Analyse univariée \n",
    "\n",
    "Nous allons parcourir chaque variable "
   ]
  },
  {
   "cell_type": "code",
   "execution_count": 21,
   "id": "5d470f44",
   "metadata": {},
   "outputs": [
    {
     "data": {
      "text/plain": [
       "<AxesSubplot:xlabel='loan_default', ylabel='count'>"
      ]
     },
     "execution_count": 21,
     "metadata": {},
     "output_type": "execute_result"
    },
    {
     "data": {
      "image/png": "[encoded data removed]",
      "text/plain": [
       "<Figure size 432x288 with 1 Axes>"
      ]
     },
     "metadata": {
      "needs_background": "light"
     },
     "output_type": "display_data"
    }
   ],
   "source": [
    "sns.countplot(df['loan_default'])"
   ]
  },
  {
   "cell_type": "markdown",
   "id": "106f633b",
   "metadata": {},
   "source": [
    "Notre variable cible possède une bonne distribution, une distribution égale des paiements en '1' et des paiements en '0' ou même pire, avoir plus de '1' auraient compliqués les traitements. "
   ]
  },
  {
   "cell_type": "code",
   "execution_count": 22,
   "id": "61ba4806",
   "metadata": {},
   "outputs": [
    {
     "data": {
      "image/png": "[encoded data removed]",
      "text/plain": [
       "<Figure size 1440x720 with 12 Axes>"
      ]
     },
     "metadata": {
      "needs_background": "light"
     },
     "output_type": "display_data"
    }
   ],
   "source": [
    "n=['NO_OF_INQUIRIES','Nb_of_loans_active', 'Total_Inactive_accounts',\n",
    "       'Total_Overdue_Accounts', 'Total_Current_Balance', 'Total_Sanctioned_Amount',\n",
    "       'Total_Disbursed_Amount', 'Total_Installment','ltv','asset_cost']\n",
    "data=df[n]\n",
    "fig, axes = plt.subplots(nrows=4, ncols=3,figsize=(20,10))\n",
    "fig.subplots_adjust(hspace=0.5)\n",
    "fig.suptitle('Distribution des variables numériques')\n",
    "\n",
    "for ax, feature, name in zip(axes.flatten(), data.values.T, data.columns):\n",
    "    sns.distplot(feature, ax=ax)\n",
    "    ax.set(title=str(name))\n",
    "plt.show()"
   ]
  },
  {
   "cell_type": "markdown",
   "id": "fe43ece9",
   "metadata": {},
   "source": [
    "Il semblerait que nos données quantitatives contiennent des valeurs extrêmes voir aberrantes qui peuvent perturber la performance du modèle, nous allons essayer des les afficher. "
   ]
  },
  {
   "cell_type": "code",
   "execution_count": 56,
   "id": "83262b43",
   "metadata": {},
   "outputs": [
    {
     "data": {
      "image/png": "[encoded data removed]",
      "text/plain": [
       "<Figure size 1440x720 with 12 Axes>"
      ]
     },
     "metadata": {
      "needs_background": "light"
     },
     "output_type": "display_data"
    }
   ],
   "source": [
    "n=['NO_OF_INQUIRIES','Nb_of_loans_active', 'Total_Inactive_accounts',\n",
    "       'Total_Overdue_Accounts', 'Total_Current_Balance', 'Total_Sanctioned_Amount',\n",
    "       'Total_Disbursed_Amount', 'Total_Installment','ltv','asset_cost']\n",
    "data=df[n]\n",
    "fig, axes = plt.subplots(nrows=4, ncols=3,figsize=(20,10))\n",
    "fig.subplots_adjust(hspace=0.5)\n",
    "fig.suptitle('Distribution des variables numériques')\n",
    "\n",
    "for ax, feature, name in zip(axes.flatten(), data.values.T, data.columns):\n",
    "    sns.boxplot(feature, ax=ax)\n",
    "    ax.set(title=str(name))\n",
    "plt.show()"
   ]
  },
  {
   "cell_type": "markdown",
   "id": "e9e750e6",
   "metadata": {},
   "source": [
    "Les variables semblent être surtout composées de 0, il est difficile de savoir comment les traiter sans les règles métiers, il serait peut-être intéressant de les transformer en flag 0-1 de sorte à pouvoir identifier si le client possède des antécédents bancaires négatifs(total_sanctioned_amount, total_overdue_accounts) mais je n'arrive pas à faire fonctionner le code en les transformant... je ne vais donc pas les changer. \n",
    "\n",
    "De plus le fait qu'on retrouve beaucoup de 0 traduit la situation d'un premier prêt car le client n'a pas d'informations à donner. \n",
    "\n",
    "Avant de procéder à des étapes de standardisation telle que IQR * 1,5 il faut remettre les données dans leur contexte une fois de plus. Il n'y aurait pas de sens à standardiser les valeurs extrêmes de 'ltv' par exemple, en effet ltv représente le rapport entre le prix du prêt et l'apport, il est normale qu'il soit aussi dispersé. \n",
    "\n"
   ]
  },
  {
   "cell_type": "code",
   "execution_count": 24,
   "id": "e0bd3e05",
   "metadata": {},
   "outputs": [],
   "source": [
    "#On supprime les valeurs aberrantes de disbursed amount \n",
    "#On calcule Q1\n",
    "\n",
    "q1=df[\"Total_Inactive_accounts\"].quantile(q=0.25)\n",
    "\n",
    "#On calcule Q3\n",
    "\n",
    "q3=df[\"Total_Inactive_accounts\"].quantile(q=0.75)\n",
    "\n",
    "#On calcule l'écart interquartile (IQR)\n",
    "\n",
    "IQR=q3-q1\n",
    "\n",
    "#On calcule la borne inférieure à l'aide du Q1 et de l'écart interquartile\n",
    "\n",
    "borne_inf = q1-1.5*IQR\n",
    "\n",
    "#On calcule la borne supérieure à l'aide du Q3 et de l'écart interquartile\n",
    "\n",
    "borne_sup = q3 +1.5*IQR\n",
    "\n",
    "#On garde les valeurs à l'intérieur de la borne inférieure et supérieure\n",
    "\n",
    "df= df[df[\"Total_Inactive_accounts\"]<borne_sup]\n",
    "df=df[df[\"Total_Inactive_accounts\"]>borne_inf]"
   ]
  },
  {
   "cell_type": "code",
   "execution_count": 25,
   "id": "62d80ca9",
   "metadata": {},
   "outputs": [],
   "source": [
    "#On supprime les valeurs aberrantes de disbursed amount \n",
    "#On calcule Q1\n",
    "\n",
    "q1=df[\"asset_cost\"].quantile(q=0.25)\n",
    "\n",
    "#On calcule Q3\n",
    "\n",
    "q3=df[\"asset_cost\"].quantile(q=0.75)\n",
    "\n",
    "#On calcule l'écart interquartile (IQR)\n",
    "\n",
    "IQR=q3-q1\n",
    "\n",
    "#On calcule la borne inférieure à l'aide du Q1 et de l'écart interquartile\n",
    "\n",
    "borne_inf = q1-1.5*IQR\n",
    "\n",
    "#On calcule la borne supérieure à l'aide du Q3 et de l'écart interquartile\n",
    "\n",
    "borne_sup = q3 +1.5*IQR\n",
    "\n",
    "#On garde les valeurs à l'intérieur de la borne inférieure et supérieure\n",
    "\n",
    "df= df[df[\"asset_cost\"]<borne_sup]\n",
    "df=df[df[\"asset_cost\"]>borne_inf]"
   ]
  },
  {
   "cell_type": "code",
   "execution_count": null,
   "id": "f701ca6b",
   "metadata": {},
   "outputs": [],
   "source": [
    "#On supprime les valeurs aberrantes de disbursed amount \n",
    "#On calcule Q1\n",
    "\n",
    "q1=df[\"Total_Disbursed_Amount\"].quantile(q=0.25)\n",
    "\n",
    "#On calcule Q3\n",
    "\n",
    "q3=df[\"Total_Disbursed_Amount\"].quantile(q=0.75)\n",
    "\n",
    "#On calcule l'écart interquartile (IQR)\n",
    "\n",
    "IQR=q3-q1\n",
    "\n",
    "#On calcule la borne inférieure à l'aide du Q1 et de l'écart interquartile\n",
    "\n",
    "borne_inf = q1-1.5*IQR\n",
    "\n",
    "#On calcule la borne supérieure à l'aide du Q3 et de l'écart interquartile\n",
    "\n",
    "borne_sup = q3 +1.5*IQR\n",
    "\n",
    "#On garde les valeurs à l'intérieur de la borne inférieure et supérieure\n",
    "\n",
    "df= df[df[\"Total_Disbursed_Amount\"]<borne_sup]\n",
    "df=df[df[\"Total_Disbursed_Amount\"]>borne_inf]"
   ]
  },
  {
   "cell_type": "code",
   "execution_count": 26,
   "id": "c3472cce",
   "metadata": {},
   "outputs": [
    {
     "data": {
      "image/png": "[encoded data removed]",
      "text/plain": [
       "<Figure size 1440x720 with 12 Axes>"
      ]
     },
     "metadata": {
      "needs_background": "light"
     },
     "output_type": "display_data"
    }
   ],
   "source": [
    "n=['NO_OF_INQUIRIES','Nb_of_loans_active', 'Total_Inactive_accounts',\n",
    "       'Total_Overdue_Accounts', 'Total_Current_Balance', 'Total_Sanctioned_Amount',\n",
    "       'Total_Disbursed_Amount', 'Total_Installment','ltv','asset_cost']\n",
    "data=df[n]\n",
    "fig, axes = plt.subplots(nrows=4, ncols=3,figsize=(20,10))\n",
    "fig.subplots_adjust(hspace=0.5)\n",
    "fig.suptitle('Distribution des variables numériques')\n",
    "\n",
    "for ax, feature, name in zip(axes.flatten(), data.values.T, data.columns):\n",
    "    sns.boxplot(feature, ax=ax)\n",
    "    ax.set(title=str(name))\n",
    "plt.show()"
   ]
  },
  {
   "cell_type": "markdown",
   "id": "78d76b1b",
   "metadata": {},
   "source": [
    "On voit que malgré la standardisation de 'Total_disbursed_amount', il reste beaucoup de 0, sûrement parce que les clients n'ont pas eu de prêt auparavant"
   ]
  },
  {
   "cell_type": "code",
   "execution_count": 27,
   "id": "68f8769a",
   "metadata": {},
   "outputs": [],
   "source": [
    "#df['flag_Sanctioned_Amount'] = df['Total_Sanctioned_Amount']>1  "
   ]
  },
  {
   "cell_type": "code",
   "execution_count": 28,
   "id": "90b56c35",
   "metadata": {},
   "outputs": [],
   "source": [
    "# création de flag mais ça marche pas \n",
    "#df['flag_Sanctioned_Amount'] = np.where(df['Total_Sanctioned_Amount'] >= 1, 'yes', 'no')\n",
    "#df['flag_Sanctioned_Amount'] = df['flag_Sanctioned_Amount'].replace('yes', 1)\n",
    "#df['flag_Sanctioned_Amount'] = df['flag_Sanctioned_Amount'].replace('no', 0)\n"
   ]
  },
  {
   "cell_type": "code",
   "execution_count": 29,
   "id": "0fb0ad03",
   "metadata": {},
   "outputs": [],
   "source": [
    "\n",
    "#sns.boxplot(x = df['flag_Sanctioned_Amount'], \n",
    "           # y= df['loan_default'])"
   ]
  },
  {
   "cell_type": "code",
   "execution_count": 30,
   "id": "b8f9f1cb",
   "metadata": {},
   "outputs": [],
   "source": [
    "#sns.countplot(df['flag_Sanctioned_Amount'])"
   ]
  },
  {
   "cell_type": "markdown",
   "id": "8a9d6ab3",
   "metadata": {},
   "source": [
    "##  Analyse bivariée "
   ]
  },
  {
   "cell_type": "markdown",
   "id": "f0edc511",
   "metadata": {},
   "source": [
    "Dans cette partie, à l'aide de graphique nous allons essayer de chercher les variables ayant un potentiel lien avec notre variable cible 'loan_default'"
   ]
  },
  {
   "cell_type": "code",
   "execution_count": null,
   "id": "f668996d",
   "metadata": {},
   "outputs": [],
   "source": [
    "data = df.copy()\n",
    "\n",
    "#data[feature].hist(bins=25)\n",
    "\n",
    "sns.histplot(data=df, x='Total_Disbursed_Amount', hue='loan_default')\n",
    "\n",
    "plt.xlabel(feature)\n",
    "\n",
    "plt.ylabel(\"Count\")\n",
    "\n",
    "plt.title(feature)\n",
    "\n",
    "plt.show()\n"
   ]
  },
  {
   "cell_type": "code",
   "execution_count": 32,
   "id": "7f03c5e8",
   "metadata": {},
   "outputs": [
    {
     "data": {
      "text/plain": [
       "<AxesSubplot:xlabel='Total_Disbursed_Amount', ylabel='loan_default'>"
      ]
     },
     "execution_count": 32,
     "metadata": {},
     "output_type": "execute_result"
    },
    {
     "data": {
      "image/png": "[encoded data removed]",
      "text/plain": [
       "<Figure size 432x288 with 1 Axes>"
      ]
     },
     "metadata": {
      "needs_background": "light"
     },
     "output_type": "display_data"
    }
   ],
   "source": [
    "\n",
    "sns.boxplot(x = df['Total_Disbursed_Amount'], \n",
    "            y= df['loan_default'],\n",
    "           hue=df['loan_default'])"
   ]
  },
  {
   "cell_type": "markdown",
   "id": "c8f7ddb2",
   "metadata": {},
   "source": [
    "problème avec les graphs à revoir ça faisait pas ça avant"
   ]
  },
  {
   "cell_type": "markdown",
   "id": "f08da715",
   "metadata": {},
   "source": [
    "# Modélisation \n",
    "## Régression logistique "
   ]
  },
  {
   "cell_type": "code",
   "execution_count": 33,
   "id": "5f24ed44",
   "metadata": {},
   "outputs": [],
   "source": [
    "y = df['loan_default']\n",
    "X = df.drop('loan_default',axis=1)"
   ]
  },
  {
   "cell_type": "code",
   "execution_count": 34,
   "id": "f2662c48",
   "metadata": {},
   "outputs": [],
   "source": [
    "from sklearn.metrics import confusion_matrix,roc_auc_score,log_loss,roc_curve,accuracy_score\n"
   ]
  },
  {
   "cell_type": "code",
   "execution_count": 35,
   "id": "ac00103c",
   "metadata": {},
   "outputs": [],
   "source": [
    "from sklearn.model_selection import train_test_split\n",
    "X_train,X_test,y_train,y_test = train_test_split(X,y,test_size=0.3)"
   ]
  },
  {
   "cell_type": "code",
   "execution_count": 36,
   "id": "3e0a211e",
   "metadata": {},
   "outputs": [],
   "source": [
    "from sklearn.linear_model import LogisticRegression\n",
    "lr = LogisticRegression(solver='liblinear')"
   ]
  },
  {
   "cell_type": "code",
   "execution_count": 37,
   "id": "67efafad",
   "metadata": {},
   "outputs": [
    {
     "data": {
      "text/plain": [
       "LogisticRegression(solver='liblinear')"
      ]
     },
     "execution_count": 37,
     "metadata": {},
     "output_type": "execute_result"
    }
   ],
   "source": [
    "lr.fit(X_train,y_train)"
   ]
  },
  {
   "cell_type": "code",
   "execution_count": 38,
   "id": "690a91c1",
   "metadata": {},
   "outputs": [],
   "source": [
    "y_train_pred = lr.predict(X_train)\n",
    "y_test_pred = lr.predict(X_test)\n",
    "y_train_prob = lr.predict_proba(X_train)\n",
    "y_test_prob = lr.predict_proba(X_test)"
   ]
  },
  {
   "cell_type": "code",
   "execution_count": 39,
   "id": "56f99989",
   "metadata": {},
   "outputs": [
    {
     "name": "stdout",
     "output_type": "stream",
     "text": [
      "train AUC score: 0.49856745013314246\n",
      "test AUC score: 0.4999708380516953\n"
     ]
    }
   ],
   "source": [
    "print('train AUC score:',roc_auc_score(y_train,y_train_prob[:,1]))\n",
    "print('test AUC score:',roc_auc_score(y_test,y_test_prob[:,1]))"
   ]
  },
  {
   "cell_type": "markdown",
   "id": "83815044",
   "metadata": {},
   "source": [
    "on a un probleme AUC catastrophique "
   ]
  },
  {
   "cell_type": "markdown",
   "id": "91dca827",
   "metadata": {},
   "source": [
    "# méthode  2"
   ]
  },
  {
   "cell_type": "code",
   "execution_count": 66,
   "id": "11151f1b",
   "metadata": {},
   "outputs": [],
   "source": [
    "nums=['asset_cost', 'ltv',\n",
    "       'NEW_ACCTS_IN_LAST_SIX_THS', 'DELINQUENT_ACCTS_IN_LAST_SIX_THS',\n",
    "       'AVERAGE_ACCT_AGE_bis', 'CREDIT_HISTORY_LENGTH_bis', 'NO_OF_INQUIRIES','Nb_of_loans_active', 'Total_Inactive_accounts',\n",
    "       'Total_Overdue_Accounts', 'Total_Current_Balance', 'Total_Sanctioned_Amount',\n",
    "       'Total_Disbursed_Amount', 'Total_Installment']"
   ]
  },
  {
   "cell_type": "code",
   "execution_count": 67,
   "id": "abd0c3df",
   "metadata": {},
   "outputs": [],
   "source": [
    "from sklearn.preprocessing import  RobustScaler\n",
    "rob_scaler = RobustScaler()\n",
    "\n",
    "df[nums] = rob_scaler.fit_transform(df[nums])"
   ]
  },
  {
   "cell_type": "code",
   "execution_count": 42,
   "id": "2983c99b",
   "metadata": {},
   "outputs": [
    {
     "name": "stdout",
     "output_type": "stream",
     "text": [
      "train accuracy : 0.7788036538650427\n",
      "test accuracy : 0.7823281561271442\n",
      "precision : 0.4596774193548387 \n",
      "\n",
      "recall : 0.004620248034368161 \n",
      "\n",
      "f1 score: 0.009148543455581413 \n",
      "\n",
      "              precision    recall  f1-score   support\n",
      "\n",
      "           0       0.78      1.00      0.88     44386\n",
      "           1       0.46      0.00      0.01     12337\n",
      "\n",
      "    accuracy                           0.78     56723\n",
      "   macro avg       0.62      0.50      0.44     56723\n",
      "weighted avg       0.71      0.78      0.69     56723\n",
      "\n"
     ]
    }
   ],
   "source": [
    "#metrics\n",
    "from sklearn.metrics import precision_score, recall_score, f1_score, roc_auc_score, accuracy_score, classification_report,confusion_matrix\n",
    "\n",
    "y=df.loan_default\n",
    "X=df.drop(\"loan_default\",axis=1)\n",
    "\n",
    "from sklearn.model_selection import train_test_split,KFold,cross_val_score\n",
    "X_train, X_test, y_train, y_test = train_test_split(X, y, test_size=0.30, random_state=42)\n",
    "lr=LogisticRegression()\n",
    "lr.fit(X_train,y_train)\n",
    "y_pred=lr.predict(X_test)\n",
    "print('train accuracy :',lr.score(X_train,y_train))\n",
    "print('test accuracy :',lr.score(X_test,y_test))\n",
    "print(\"precision :\",precision_score(y_test,y_pred),\"\\n\")\n",
    "print(\"recall :\",recall_score(y_test,y_pred),\"\\n\")\n",
    "print(\"f1 score:\",f1_score(y_test,y_pred),\"\\n\")\n",
    "print(classification_report(y_test,y_pred))"
   ]
  },
  {
   "cell_type": "code",
   "execution_count": 43,
   "id": "1997d479",
   "metadata": {},
   "outputs": [
    {
     "data": {
      "text/plain": [
       "RandomForestClassifier(max_depth=13, min_samples_leaf=10, min_samples_split=11,\n",
       "                       n_estimators=374, random_state=300)"
      ]
     },
     "execution_count": 43,
     "metadata": {},
     "output_type": "execute_result"
    }
   ],
   "source": [
    "from sklearn.ensemble import RandomForestClassifier\n",
    "\n",
    "rsearch1_best_params = {'max_depth': 13,\n",
    " 'min_samples_leaf': 10,\n",
    " 'min_samples_split': 11,\n",
    " 'n_estimators': 374}\n",
    "rfc1 = RandomForestClassifier(**rsearch1_best_params, random_state=300)\n",
    "rfc1.fit(X_train, y_train)"
   ]
  },
  {
   "cell_type": "code",
   "execution_count": 44,
   "id": "b0a36b6e",
   "metadata": {},
   "outputs": [],
   "source": [
    "y_train_pred = rfc1.predict(X_train)\n",
    "y_test_pred = rfc1.predict(X_test)\n",
    "y_train_prob = rfc1.predict_proba(X_train)\n",
    "y_test_prob = rfc1.predict_proba(X_test)"
   ]
  },
  {
   "cell_type": "code",
   "execution_count": 45,
   "id": "fe0a0b29",
   "metadata": {},
   "outputs": [
    {
     "name": "stdout",
     "output_type": "stream",
     "text": [
      "Train AUC score: 0.7234584938709789\n",
      "Test AUC score: 0.6389878332383676\n"
     ]
    }
   ],
   "source": [
    "print('Train AUC score:', roc_auc_score(y_train,y_train_prob[:,1]))\n",
    "print('Test AUC score:', roc_auc_score(y_test,y_test_prob[:,1]))"
   ]
  },
  {
   "cell_type": "code",
   "execution_count": 46,
   "id": "1a375136",
   "metadata": {},
   "outputs": [
    {
     "data": {
      "image/png": "[encoded data removed]",
      "text/plain": [
       "<Figure size 432x288 with 1 Axes>"
      ]
     },
     "metadata": {
      "needs_background": "light"
     },
     "output_type": "display_data"
    }
   ],
   "source": [
    "fpr, tpr, thresholds = roc_curve(y_test, y_test_prob[:,1])\n",
    "plt.plot(fpr,fpr)\n",
    "plt.plot(fpr,tpr)\n",
    "plt.grid()\n",
    "plt.title('Test ROC curve')\n",
    "plt.show()"
   ]
  },
  {
   "cell_type": "code",
   "execution_count": 47,
   "id": "baf8e9f8",
   "metadata": {},
   "outputs": [
    {
     "data": {
      "text/plain": [
       "array([[44365,    21],\n",
       "       [12266,    71]], dtype=int64)"
      ]
     },
     "execution_count": 47,
     "metadata": {},
     "output_type": "execute_result"
    }
   ],
   "source": [
    "confusion_matrix(y_test, y_test_pred)"
   ]
  },
  {
   "cell_type": "code",
   "execution_count": 48,
   "id": "9789a849",
   "metadata": {},
   "outputs": [
    {
     "name": "stdout",
     "output_type": "stream",
     "text": [
      "Test Classification Report\n",
      "\n",
      "              precision    recall  f1-score   support\n",
      "\n",
      "           0       0.78      1.00      0.88     44386\n",
      "           1       0.77      0.01      0.01     12337\n",
      "\n",
      "    accuracy                           0.78     56723\n",
      "   macro avg       0.78      0.50      0.44     56723\n",
      "weighted avg       0.78      0.78      0.69     56723\n",
      "\n"
     ]
    }
   ],
   "source": [
    "from sklearn.metrics import classification_report\n",
    "print('Test Classification Report\\n')\n",
    "print(classification_report(y_test,y_test_pred))"
   ]
  }
 ],
 "metadata": {
  "kernelspec": {
   "display_name": "Python 3",
   "language": "python",
   "name": "python3"
  },
  "language_info": {
   "codemirror_mode": {
    "name": "ipython",
    "version": 3
   },
   "file_extension": ".py",
   "mimetype": "text/x-python",
   "name": "python",
   "nbconvert_exporter": "python",
   "pygments_lexer": "ipython3",
   "version": "3.8.8"
  }
 },
 "nbformat": 4,
 "nbformat_minor": 5
}

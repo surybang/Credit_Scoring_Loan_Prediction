{
 "cells": [
  {
   "cell_type": "markdown",
   "metadata": {},
   "source": [
    "# DM2 - Scoring Prediction "
   ]
  },
  {
   "cell_type": "code",
   "execution_count": 1,
   "metadata": {
    "_cell_guid": "b1076dfc-b9ad-4769-8c92-a6c4dae69d19",
    "_uuid": "8f2839f25d086af736a60e9eeb907d3b93b6e0e5"
   },
   "outputs": [],
   "source": [
    "#Importing Required Library\n",
    "import pandas as pd\n",
    "import numpy as np\n",
    "import matplotlib.pyplot as plt\n",
    "import seaborn as sns\n",
    "\n",
    "#SMOTE to balance the Imbalance Data\n",
    "from imblearn.over_sampling import SMOTE\n",
    "\n",
    "#for Spliting Data and Hyperparameter Tuning \n",
    "from sklearn.model_selection import train_test_split, GridSearchCV\n",
    "\n",
    "#Importing Machine Learning Model\n",
    "from sklearn.linear_model import LogisticRegression\n",
    "from sklearn.neighbors import KNeighborsClassifier\n",
    "from sklearn.ensemble import RandomForestClassifier\n",
    "from sklearn.naive_bayes import BernoulliNB\n",
    "from catboost import CatBoostClassifier\n",
    "    \n",
    "#Bagging Algo\n",
    "from sklearn.tree import DecisionTreeClassifier\n",
    "from xgboost import XGBClassifier, XGBRFClassifier\n",
    "from sklearn.ensemble import AdaBoostClassifier\n",
    "from sklearn.ensemble import GradientBoostingClassifier\n",
    "from lightgbm import LGBMClassifier\n",
    "\n",
    "from sklearn.neural_network import MLPClassifier\n",
    "\n",
    "#To tranform data\n",
    "from sklearn import preprocessing\n",
    "\n",
    "#statistical Tools\n",
    "from sklearn.metrics import roc_auc_score,accuracy_score,precision_score,recall_score,f1_score\n",
    "from sklearn.metrics import confusion_matrix, roc_curve, auc\n",
    "\n",
    "#Setting Format\n",
    "pd.options.display.float_format = '{:.5f}'.format\n",
    "pd.options.display.max_columns = None\n",
    "pd.options.display.max_rows = None\n",
    "\n",
    "import warnings\n",
    "warnings.filterwarnings(\"ignore\")"
   ]
  },
  {
   "cell_type": "code",
   "execution_count": 2,
   "metadata": {
    "_cell_guid": "79c7e3d0-c299-4dcb-8224-4455121ee9b0",
    "_uuid": "d629ff2d2480ee46fbb7e2d37f6b5fab8052498a"
   },
   "outputs": [],
   "source": [
    "train = pd.read_csv('C:/Users/Fabien/Documents/table_training.csv', sep = \";\")\n"
   ]
  },
  {
   "cell_type": "markdown",
   "metadata": {},
   "source": [
    "Distribution de la variable cible : \n"
   ]
  },
  {
   "cell_type": "code",
   "execution_count": 3,
   "metadata": {},
   "outputs": [
    {
     "data": {
      "text/plain": [
       "<AxesSubplot:>"
      ]
     },
     "execution_count": 3,
     "metadata": {},
     "output_type": "execute_result"
    },
    {
     "data": {
      "image/png": "[encoded data removed]",
      "text/plain": [
       "<Figure size 432x288 with 1 Axes>"
      ]
     },
     "metadata": {
      "needs_background": "light"
     },
     "output_type": "display_data"
    }
   ],
   "source": [
    "train.loan_default.value_counts().plot(kind='bar')"
   ]
  },
  {
   "cell_type": "markdown",
   "metadata": {},
   "source": [
    "On remarque que notre variable cible est très déséquilibrée, avant de réussir le projet nous avons échoués plusieurs fois à obtenir des résultats satisfaisants à cause de ce déséquilibre, nous allons donc utiliser la méthode SMOTE dans la suite de nos prédictions pour pallier à ce déséquilibre. "
   ]
  },
  {
   "cell_type": "code",
   "execution_count": 4,
   "metadata": {},
   "outputs": [
    {
     "data": {
      "text/html": [
       "<div>\n",
       "<style scoped>\n",
       "    .dataframe tbody tr th:only-of-type {\n",
       "        vertical-align: middle;\n",
       "    }\n",
       "\n",
       "    .dataframe tbody tr th {\n",
       "        vertical-align: top;\n",
       "    }\n",
       "\n",
       "    .dataframe thead th {\n",
       "        text-align: right;\n",
       "    }\n",
       "</style>\n",
       "<table border=\"1\" class=\"dataframe\">\n",
       "  <thead>\n",
       "    <tr style=\"text-align: right;\">\n",
       "      <th></th>\n",
       "      <th>count</th>\n",
       "      <th>mean</th>\n",
       "      <th>std</th>\n",
       "      <th>min</th>\n",
       "      <th>25%</th>\n",
       "      <th>50%</th>\n",
       "      <th>75%</th>\n",
       "      <th>max</th>\n",
       "    </tr>\n",
       "  </thead>\n",
       "  <tbody>\n",
       "    <tr>\n",
       "      <th>UniqueID</th>\n",
       "      <td>233153.00000</td>\n",
       "      <td>535918.06701</td>\n",
       "      <td>68315.42439</td>\n",
       "      <td>417428.00000</td>\n",
       "      <td>476787.00000</td>\n",
       "      <td>535979.00000</td>\n",
       "      <td>595040.00000</td>\n",
       "      <td>671084.00000</td>\n",
       "    </tr>\n",
       "    <tr>\n",
       "      <th>disbursed_amount</th>\n",
       "      <td>233153.00000</td>\n",
       "      <td>54357.00974</td>\n",
       "      <td>12971.33963</td>\n",
       "      <td>13320.00000</td>\n",
       "      <td>47145.00000</td>\n",
       "      <td>53803.00000</td>\n",
       "      <td>60413.00000</td>\n",
       "      <td>990572.00000</td>\n",
       "    </tr>\n",
       "    <tr>\n",
       "      <th>asset_cost</th>\n",
       "      <td>233153.00000</td>\n",
       "      <td>75865.14305</td>\n",
       "      <td>18944.78739</td>\n",
       "      <td>37000.00000</td>\n",
       "      <td>65717.00000</td>\n",
       "      <td>70946.00000</td>\n",
       "      <td>79202.00000</td>\n",
       "      <td>1628992.00000</td>\n",
       "    </tr>\n",
       "    <tr>\n",
       "      <th>branch_id</th>\n",
       "      <td>233153.00000</td>\n",
       "      <td>72.93612</td>\n",
       "      <td>69.83514</td>\n",
       "      <td>1.00000</td>\n",
       "      <td>14.00000</td>\n",
       "      <td>61.00000</td>\n",
       "      <td>130.00000</td>\n",
       "      <td>261.00000</td>\n",
       "    </tr>\n",
       "    <tr>\n",
       "      <th>supplier_id</th>\n",
       "      <td>233153.00000</td>\n",
       "      <td>19638.62145</td>\n",
       "      <td>3491.95089</td>\n",
       "      <td>10524.00000</td>\n",
       "      <td>16535.00000</td>\n",
       "      <td>20333.00000</td>\n",
       "      <td>23000.00000</td>\n",
       "      <td>24803.00000</td>\n",
       "    </tr>\n",
       "    <tr>\n",
       "      <th>manufacturer_id</th>\n",
       "      <td>233153.00000</td>\n",
       "      <td>69.02816</td>\n",
       "      <td>22.14130</td>\n",
       "      <td>45.00000</td>\n",
       "      <td>48.00000</td>\n",
       "      <td>86.00000</td>\n",
       "      <td>86.00000</td>\n",
       "      <td>156.00000</td>\n",
       "    </tr>\n",
       "    <tr>\n",
       "      <th>Current_pincode_ID</th>\n",
       "      <td>233153.00000</td>\n",
       "      <td>3396.88864</td>\n",
       "      <td>2238.14864</td>\n",
       "      <td>1.00000</td>\n",
       "      <td>1511.00000</td>\n",
       "      <td>2970.00000</td>\n",
       "      <td>5677.00000</td>\n",
       "      <td>7345.00000</td>\n",
       "    </tr>\n",
       "    <tr>\n",
       "      <th>State_ID</th>\n",
       "      <td>233153.00000</td>\n",
       "      <td>7.26225</td>\n",
       "      <td>4.48224</td>\n",
       "      <td>1.00000</td>\n",
       "      <td>4.00000</td>\n",
       "      <td>6.00000</td>\n",
       "      <td>10.00000</td>\n",
       "      <td>22.00000</td>\n",
       "    </tr>\n",
       "    <tr>\n",
       "      <th>Employee_code_ID</th>\n",
       "      <td>233153.00000</td>\n",
       "      <td>1549.47522</td>\n",
       "      <td>975.26293</td>\n",
       "      <td>1.00000</td>\n",
       "      <td>713.00000</td>\n",
       "      <td>1451.00000</td>\n",
       "      <td>2362.00000</td>\n",
       "      <td>3795.00000</td>\n",
       "    </tr>\n",
       "    <tr>\n",
       "      <th>Aadhar_flag</th>\n",
       "      <td>233153.00000</td>\n",
       "      <td>0.84032</td>\n",
       "      <td>0.36631</td>\n",
       "      <td>0.00000</td>\n",
       "      <td>1.00000</td>\n",
       "      <td>1.00000</td>\n",
       "      <td>1.00000</td>\n",
       "      <td>1.00000</td>\n",
       "    </tr>\n",
       "    <tr>\n",
       "      <th>PAN_flag</th>\n",
       "      <td>233153.00000</td>\n",
       "      <td>0.07558</td>\n",
       "      <td>0.26432</td>\n",
       "      <td>0.00000</td>\n",
       "      <td>0.00000</td>\n",
       "      <td>0.00000</td>\n",
       "      <td>0.00000</td>\n",
       "      <td>1.00000</td>\n",
       "    </tr>\n",
       "    <tr>\n",
       "      <th>VoterID_flag</th>\n",
       "      <td>233153.00000</td>\n",
       "      <td>0.14494</td>\n",
       "      <td>0.35204</td>\n",
       "      <td>0.00000</td>\n",
       "      <td>0.00000</td>\n",
       "      <td>0.00000</td>\n",
       "      <td>0.00000</td>\n",
       "      <td>1.00000</td>\n",
       "    </tr>\n",
       "    <tr>\n",
       "      <th>Driving_flag</th>\n",
       "      <td>233153.00000</td>\n",
       "      <td>0.02324</td>\n",
       "      <td>0.15067</td>\n",
       "      <td>0.00000</td>\n",
       "      <td>0.00000</td>\n",
       "      <td>0.00000</td>\n",
       "      <td>0.00000</td>\n",
       "      <td>1.00000</td>\n",
       "    </tr>\n",
       "    <tr>\n",
       "      <th>Passport_flag</th>\n",
       "      <td>233153.00000</td>\n",
       "      <td>0.00213</td>\n",
       "      <td>0.04607</td>\n",
       "      <td>0.00000</td>\n",
       "      <td>0.00000</td>\n",
       "      <td>0.00000</td>\n",
       "      <td>0.00000</td>\n",
       "      <td>1.00000</td>\n",
       "    </tr>\n",
       "    <tr>\n",
       "      <th>PERFORM_CNS_SCORE</th>\n",
       "      <td>233153.00000</td>\n",
       "      <td>289.46424</td>\n",
       "      <td>338.37497</td>\n",
       "      <td>0.00000</td>\n",
       "      <td>0.00000</td>\n",
       "      <td>0.00000</td>\n",
       "      <td>678.00000</td>\n",
       "      <td>890.00000</td>\n",
       "    </tr>\n",
       "    <tr>\n",
       "      <th>PRI_NO_OF_ACCTS</th>\n",
       "      <td>233153.00000</td>\n",
       "      <td>2.44065</td>\n",
       "      <td>5.21724</td>\n",
       "      <td>0.00000</td>\n",
       "      <td>0.00000</td>\n",
       "      <td>0.00000</td>\n",
       "      <td>3.00000</td>\n",
       "      <td>453.00000</td>\n",
       "    </tr>\n",
       "    <tr>\n",
       "      <th>PRI_ACTIVE_ACCTS</th>\n",
       "      <td>233153.00000</td>\n",
       "      <td>1.03990</td>\n",
       "      <td>1.94150</td>\n",
       "      <td>0.00000</td>\n",
       "      <td>0.00000</td>\n",
       "      <td>0.00000</td>\n",
       "      <td>1.00000</td>\n",
       "      <td>144.00000</td>\n",
       "    </tr>\n",
       "    <tr>\n",
       "      <th>PRI_OVERDUE_ACCTS</th>\n",
       "      <td>233153.00000</td>\n",
       "      <td>0.15655</td>\n",
       "      <td>0.54879</td>\n",
       "      <td>0.00000</td>\n",
       "      <td>0.00000</td>\n",
       "      <td>0.00000</td>\n",
       "      <td>0.00000</td>\n",
       "      <td>25.00000</td>\n",
       "    </tr>\n",
       "    <tr>\n",
       "      <th>PRI_CURRENT_BALANCE</th>\n",
       "      <td>233153.00000</td>\n",
       "      <td>165900.78849</td>\n",
       "      <td>942275.54044</td>\n",
       "      <td>-6678296.00000</td>\n",
       "      <td>0.00000</td>\n",
       "      <td>0.00000</td>\n",
       "      <td>35008.00000</td>\n",
       "      <td>96524920.00000</td>\n",
       "    </tr>\n",
       "    <tr>\n",
       "      <th>PRI_SANCTIONED_AMOUNT</th>\n",
       "      <td>233153.00000</td>\n",
       "      <td>218504.79249</td>\n",
       "      <td>2374799.17545</td>\n",
       "      <td>0.00000</td>\n",
       "      <td>0.00000</td>\n",
       "      <td>0.00000</td>\n",
       "      <td>62500.00000</td>\n",
       "      <td>1000000000.00000</td>\n",
       "    </tr>\n",
       "    <tr>\n",
       "      <th>PRI_DISBURSED_AMOUNT</th>\n",
       "      <td>233153.00000</td>\n",
       "      <td>218066.83395</td>\n",
       "      <td>2377748.90238</td>\n",
       "      <td>0.00000</td>\n",
       "      <td>0.00000</td>\n",
       "      <td>0.00000</td>\n",
       "      <td>60800.00000</td>\n",
       "      <td>1000000000.00000</td>\n",
       "    </tr>\n",
       "    <tr>\n",
       "      <th>SEC_NO_OF_ACCTS</th>\n",
       "      <td>233153.00000</td>\n",
       "      <td>0.05908</td>\n",
       "      <td>0.62680</td>\n",
       "      <td>0.00000</td>\n",
       "      <td>0.00000</td>\n",
       "      <td>0.00000</td>\n",
       "      <td>0.00000</td>\n",
       "      <td>52.00000</td>\n",
       "    </tr>\n",
       "    <tr>\n",
       "      <th>SEC_ACTIVE_ACCTS</th>\n",
       "      <td>233153.00000</td>\n",
       "      <td>0.02770</td>\n",
       "      <td>0.31606</td>\n",
       "      <td>0.00000</td>\n",
       "      <td>0.00000</td>\n",
       "      <td>0.00000</td>\n",
       "      <td>0.00000</td>\n",
       "      <td>36.00000</td>\n",
       "    </tr>\n",
       "    <tr>\n",
       "      <th>SEC_OVERDUE_ACCTS</th>\n",
       "      <td>233153.00000</td>\n",
       "      <td>0.00724</td>\n",
       "      <td>0.11108</td>\n",
       "      <td>0.00000</td>\n",
       "      <td>0.00000</td>\n",
       "      <td>0.00000</td>\n",
       "      <td>0.00000</td>\n",
       "      <td>8.00000</td>\n",
       "    </tr>\n",
       "    <tr>\n",
       "      <th>SEC_CURRENT_BALANCE</th>\n",
       "      <td>233153.00000</td>\n",
       "      <td>5427.81610</td>\n",
       "      <td>170237.35934</td>\n",
       "      <td>-574647.00000</td>\n",
       "      <td>0.00000</td>\n",
       "      <td>0.00000</td>\n",
       "      <td>0.00000</td>\n",
       "      <td>36032852.00000</td>\n",
       "    </tr>\n",
       "    <tr>\n",
       "      <th>SEC_SANCTIONED_AMOUNT</th>\n",
       "      <td>233153.00000</td>\n",
       "      <td>7295.95464</td>\n",
       "      <td>183156.38523</td>\n",
       "      <td>0.00000</td>\n",
       "      <td>0.00000</td>\n",
       "      <td>0.00000</td>\n",
       "      <td>0.00000</td>\n",
       "      <td>30000000.00000</td>\n",
       "    </tr>\n",
       "    <tr>\n",
       "      <th>SEC_DISBURSED_AMOUNT</th>\n",
       "      <td>233153.00000</td>\n",
       "      <td>7180.02867</td>\n",
       "      <td>182592.89104</td>\n",
       "      <td>0.00000</td>\n",
       "      <td>0.00000</td>\n",
       "      <td>0.00000</td>\n",
       "      <td>0.00000</td>\n",
       "      <td>30000000.00000</td>\n",
       "    </tr>\n",
       "    <tr>\n",
       "      <th>PRIMARY_INSTAL_AMT</th>\n",
       "      <td>233153.00000</td>\n",
       "      <td>13105.53793</td>\n",
       "      <td>151368.22689</td>\n",
       "      <td>0.00000</td>\n",
       "      <td>0.00000</td>\n",
       "      <td>0.00000</td>\n",
       "      <td>1999.00000</td>\n",
       "      <td>25642806.00000</td>\n",
       "    </tr>\n",
       "    <tr>\n",
       "      <th>SEC_INSTAL_AMT</th>\n",
       "      <td>233153.00000</td>\n",
       "      <td>323.26984</td>\n",
       "      <td>15553.72468</td>\n",
       "      <td>0.00000</td>\n",
       "      <td>0.00000</td>\n",
       "      <td>0.00000</td>\n",
       "      <td>0.00000</td>\n",
       "      <td>4170901.00000</td>\n",
       "    </tr>\n",
       "    <tr>\n",
       "      <th>NEW_ACCTS_IN_LAST_SIX_THS</th>\n",
       "      <td>233153.00000</td>\n",
       "      <td>0.38184</td>\n",
       "      <td>0.95511</td>\n",
       "      <td>0.00000</td>\n",
       "      <td>0.00000</td>\n",
       "      <td>0.00000</td>\n",
       "      <td>0.00000</td>\n",
       "      <td>35.00000</td>\n",
       "    </tr>\n",
       "    <tr>\n",
       "      <th>DELINQUENT_ACCTS_IN_LAST_SIX_THS</th>\n",
       "      <td>233153.00000</td>\n",
       "      <td>0.09748</td>\n",
       "      <td>0.38444</td>\n",
       "      <td>0.00000</td>\n",
       "      <td>0.00000</td>\n",
       "      <td>0.00000</td>\n",
       "      <td>0.00000</td>\n",
       "      <td>20.00000</td>\n",
       "    </tr>\n",
       "    <tr>\n",
       "      <th>AVERAGE_ACCT_AGE_bis</th>\n",
       "      <td>233153.00000</td>\n",
       "      <td>0.76421</td>\n",
       "      <td>1.29160</td>\n",
       "      <td>0.00000</td>\n",
       "      <td>0.00000</td>\n",
       "      <td>0.00000</td>\n",
       "      <td>1.00000</td>\n",
       "      <td>31.00000</td>\n",
       "    </tr>\n",
       "    <tr>\n",
       "      <th>CREDIT_HISTORY_LENGTH_bis</th>\n",
       "      <td>233153.00000</td>\n",
       "      <td>1.37857</td>\n",
       "      <td>2.40194</td>\n",
       "      <td>0.00000</td>\n",
       "      <td>0.00000</td>\n",
       "      <td>0.00000</td>\n",
       "      <td>2.00000</td>\n",
       "      <td>39.00000</td>\n",
       "    </tr>\n",
       "    <tr>\n",
       "      <th>NO_OF_INQUIRIES</th>\n",
       "      <td>233153.00000</td>\n",
       "      <td>0.20662</td>\n",
       "      <td>0.70650</td>\n",
       "      <td>0.00000</td>\n",
       "      <td>0.00000</td>\n",
       "      <td>0.00000</td>\n",
       "      <td>0.00000</td>\n",
       "      <td>36.00000</td>\n",
       "    </tr>\n",
       "    <tr>\n",
       "      <th>loan_default</th>\n",
       "      <td>233153.00000</td>\n",
       "      <td>0.21707</td>\n",
       "      <td>0.41225</td>\n",
       "      <td>0.00000</td>\n",
       "      <td>0.00000</td>\n",
       "      <td>0.00000</td>\n",
       "      <td>0.00000</td>\n",
       "      <td>1.00000</td>\n",
       "    </tr>\n",
       "  </tbody>\n",
       "</table>\n",
       "</div>"
      ],
      "text/plain": [
       "                                        count         mean           std  \\\n",
       "UniqueID                         233153.00000 535918.06701   68315.42439   \n",
       "disbursed_amount                 233153.00000  54357.00974   12971.33963   \n",
       "asset_cost                       233153.00000  75865.14305   18944.78739   \n",
       "branch_id                        233153.00000     72.93612      69.83514   \n",
       "supplier_id                      233153.00000  19638.62145    3491.95089   \n",
       "manufacturer_id                  233153.00000     69.02816      22.14130   \n",
       "Current_pincode_ID               233153.00000   3396.88864    2238.14864   \n",
       "State_ID                         233153.00000      7.26225       4.48224   \n",
       "Employee_code_ID                 233153.00000   1549.47522     975.26293   \n",
       "Aadhar_flag                      233153.00000      0.84032       0.36631   \n",
       "PAN_flag                         233153.00000      0.07558       0.26432   \n",
       "VoterID_flag                     233153.00000      0.14494       0.35204   \n",
       "Driving_flag                     233153.00000      0.02324       0.15067   \n",
       "Passport_flag                    233153.00000      0.00213       0.04607   \n",
       "PERFORM_CNS_SCORE                233153.00000    289.46424     338.37497   \n",
       "PRI_NO_OF_ACCTS                  233153.00000      2.44065       5.21724   \n",
       "PRI_ACTIVE_ACCTS                 233153.00000      1.03990       1.94150   \n",
       "PRI_OVERDUE_ACCTS                233153.00000      0.15655       0.54879   \n",
       "PRI_CURRENT_BALANCE              233153.00000 165900.78849  942275.54044   \n",
       "PRI_SANCTIONED_AMOUNT            233153.00000 218504.79249 2374799.17545   \n",
       "PRI_DISBURSED_AMOUNT             233153.00000 218066.83395 2377748.90238   \n",
       "SEC_NO_OF_ACCTS                  233153.00000      0.05908       0.62680   \n",
       "SEC_ACTIVE_ACCTS                 233153.00000      0.02770       0.31606   \n",
       "SEC_OVERDUE_ACCTS                233153.00000      0.00724       0.11108   \n",
       "SEC_CURRENT_BALANCE              233153.00000   5427.81610  170237.35934   \n",
       "SEC_SANCTIONED_AMOUNT            233153.00000   7295.95464  183156.38523   \n",
       "SEC_DISBURSED_AMOUNT             233153.00000   7180.02867  182592.89104   \n",
       "PRIMARY_INSTAL_AMT               233153.00000  13105.53793  151368.22689   \n",
       "SEC_INSTAL_AMT                   233153.00000    323.26984   15553.72468   \n",
       "NEW_ACCTS_IN_LAST_SIX_THS        233153.00000      0.38184       0.95511   \n",
       "DELINQUENT_ACCTS_IN_LAST_SIX_THS 233153.00000      0.09748       0.38444   \n",
       "AVERAGE_ACCT_AGE_bis             233153.00000      0.76421       1.29160   \n",
       "CREDIT_HISTORY_LENGTH_bis        233153.00000      1.37857       2.40194   \n",
       "NO_OF_INQUIRIES                  233153.00000      0.20662       0.70650   \n",
       "loan_default                     233153.00000      0.21707       0.41225   \n",
       "\n",
       "                                            min          25%          50%  \\\n",
       "UniqueID                           417428.00000 476787.00000 535979.00000   \n",
       "disbursed_amount                    13320.00000  47145.00000  53803.00000   \n",
       "asset_cost                          37000.00000  65717.00000  70946.00000   \n",
       "branch_id                               1.00000     14.00000     61.00000   \n",
       "supplier_id                         10524.00000  16535.00000  20333.00000   \n",
       "manufacturer_id                        45.00000     48.00000     86.00000   \n",
       "Current_pincode_ID                      1.00000   1511.00000   2970.00000   \n",
       "State_ID                                1.00000      4.00000      6.00000   \n",
       "Employee_code_ID                        1.00000    713.00000   1451.00000   \n",
       "Aadhar_flag                             0.00000      1.00000      1.00000   \n",
       "PAN_flag                                0.00000      0.00000      0.00000   \n",
       "VoterID_flag                            0.00000      0.00000      0.00000   \n",
       "Driving_flag                            0.00000      0.00000      0.00000   \n",
       "Passport_flag                           0.00000      0.00000      0.00000   \n",
       "PERFORM_CNS_SCORE                       0.00000      0.00000      0.00000   \n",
       "PRI_NO_OF_ACCTS                         0.00000      0.00000      0.00000   \n",
       "PRI_ACTIVE_ACCTS                        0.00000      0.00000      0.00000   \n",
       "PRI_OVERDUE_ACCTS                       0.00000      0.00000      0.00000   \n",
       "PRI_CURRENT_BALANCE              -6678296.00000      0.00000      0.00000   \n",
       "PRI_SANCTIONED_AMOUNT                   0.00000      0.00000      0.00000   \n",
       "PRI_DISBURSED_AMOUNT                    0.00000      0.00000      0.00000   \n",
       "SEC_NO_OF_ACCTS                         0.00000      0.00000      0.00000   \n",
       "SEC_ACTIVE_ACCTS                        0.00000      0.00000      0.00000   \n",
       "SEC_OVERDUE_ACCTS                       0.00000      0.00000      0.00000   \n",
       "SEC_CURRENT_BALANCE               -574647.00000      0.00000      0.00000   \n",
       "SEC_SANCTIONED_AMOUNT                   0.00000      0.00000      0.00000   \n",
       "SEC_DISBURSED_AMOUNT                    0.00000      0.00000      0.00000   \n",
       "PRIMARY_INSTAL_AMT                      0.00000      0.00000      0.00000   \n",
       "SEC_INSTAL_AMT                          0.00000      0.00000      0.00000   \n",
       "NEW_ACCTS_IN_LAST_SIX_THS               0.00000      0.00000      0.00000   \n",
       "DELINQUENT_ACCTS_IN_LAST_SIX_THS        0.00000      0.00000      0.00000   \n",
       "AVERAGE_ACCT_AGE_bis                    0.00000      0.00000      0.00000   \n",
       "CREDIT_HISTORY_LENGTH_bis               0.00000      0.00000      0.00000   \n",
       "NO_OF_INQUIRIES                         0.00000      0.00000      0.00000   \n",
       "loan_default                            0.00000      0.00000      0.00000   \n",
       "\n",
       "                                          75%              max  \n",
       "UniqueID                         595040.00000     671084.00000  \n",
       "disbursed_amount                  60413.00000     990572.00000  \n",
       "asset_cost                        79202.00000    1628992.00000  \n",
       "branch_id                           130.00000        261.00000  \n",
       "supplier_id                       23000.00000      24803.00000  \n",
       "manufacturer_id                      86.00000        156.00000  \n",
       "Current_pincode_ID                 5677.00000       7345.00000  \n",
       "State_ID                             10.00000         22.00000  \n",
       "Employee_code_ID                   2362.00000       3795.00000  \n",
       "Aadhar_flag                           1.00000          1.00000  \n",
       "PAN_flag                              0.00000          1.00000  \n",
       "VoterID_flag                          0.00000          1.00000  \n",
       "Driving_flag                          0.00000          1.00000  \n",
       "Passport_flag                         0.00000          1.00000  \n",
       "PERFORM_CNS_SCORE                   678.00000        890.00000  \n",
       "PRI_NO_OF_ACCTS                       3.00000        453.00000  \n",
       "PRI_ACTIVE_ACCTS                      1.00000        144.00000  \n",
       "PRI_OVERDUE_ACCTS                     0.00000         25.00000  \n",
       "PRI_CURRENT_BALANCE               35008.00000   96524920.00000  \n",
       "PRI_SANCTIONED_AMOUNT             62500.00000 1000000000.00000  \n",
       "PRI_DISBURSED_AMOUNT              60800.00000 1000000000.00000  \n",
       "SEC_NO_OF_ACCTS                       0.00000         52.00000  \n",
       "SEC_ACTIVE_ACCTS                      0.00000         36.00000  \n",
       "SEC_OVERDUE_ACCTS                     0.00000          8.00000  \n",
       "SEC_CURRENT_BALANCE                   0.00000   36032852.00000  \n",
       "SEC_SANCTIONED_AMOUNT                 0.00000   30000000.00000  \n",
       "SEC_DISBURSED_AMOUNT                  0.00000   30000000.00000  \n",
       "PRIMARY_INSTAL_AMT                 1999.00000   25642806.00000  \n",
       "SEC_INSTAL_AMT                        0.00000    4170901.00000  \n",
       "NEW_ACCTS_IN_LAST_SIX_THS             0.00000         35.00000  \n",
       "DELINQUENT_ACCTS_IN_LAST_SIX_THS      0.00000         20.00000  \n",
       "AVERAGE_ACCT_AGE_bis                  1.00000         31.00000  \n",
       "CREDIT_HISTORY_LENGTH_bis             2.00000         39.00000  \n",
       "NO_OF_INQUIRIES                       0.00000         36.00000  \n",
       "loan_default                          0.00000          1.00000  "
      ]
     },
     "execution_count": 4,
     "metadata": {},
     "output_type": "execute_result"
    }
   ],
   "source": [
    "train.describe().T"
   ]
  },
  {
   "cell_type": "code",
   "execution_count": 5,
   "metadata": {},
   "outputs": [
    {
     "name": "stdout",
     "output_type": "stream",
     "text": [
      "<class 'pandas.core.frame.DataFrame'>\n",
      "RangeIndex: 233153 entries, 0 to 233152\n",
      "Data columns (total 38 columns):\n",
      " #   Column                            Non-Null Count   Dtype \n",
      "---  ------                            --------------   ----- \n",
      " 0   UniqueID                          233153 non-null  int64 \n",
      " 1   disbursed_amount                  233153 non-null  int64 \n",
      " 2   asset_cost                        233153 non-null  int64 \n",
      " 3   ltv                               233153 non-null  object\n",
      " 4   branch_id                         233153 non-null  int64 \n",
      " 5   supplier_id                       233153 non-null  int64 \n",
      " 6   manufacturer_id                   233153 non-null  int64 \n",
      " 7   Current_pincode_ID                233153 non-null  int64 \n",
      " 8   Employment_Type_K                 225492 non-null  object\n",
      " 9   State_ID                          233153 non-null  int64 \n",
      " 10  Employee_code_ID                  233153 non-null  int64 \n",
      " 11  Aadhar_flag                       233153 non-null  int64 \n",
      " 12  PAN_flag                          233153 non-null  int64 \n",
      " 13  VoterID_flag                      233153 non-null  int64 \n",
      " 14  Driving_flag                      233153 non-null  int64 \n",
      " 15  Passport_flag                     233153 non-null  int64 \n",
      " 16  PERFORM_CNS_SCORE                 233153 non-null  int64 \n",
      " 17  PERFORM_CNS_SCORE_DESCRIPTION     233153 non-null  object\n",
      " 18  PRI_NO_OF_ACCTS                   233153 non-null  int64 \n",
      " 19  PRI_ACTIVE_ACCTS                  233153 non-null  int64 \n",
      " 20  PRI_OVERDUE_ACCTS                 233153 non-null  int64 \n",
      " 21  PRI_CURRENT_BALANCE               233153 non-null  int64 \n",
      " 22  PRI_SANCTIONED_AMOUNT             233153 non-null  int64 \n",
      " 23  PRI_DISBURSED_AMOUNT              233153 non-null  int64 \n",
      " 24  SEC_NO_OF_ACCTS                   233153 non-null  int64 \n",
      " 25  SEC_ACTIVE_ACCTS                  233153 non-null  int64 \n",
      " 26  SEC_OVERDUE_ACCTS                 233153 non-null  int64 \n",
      " 27  SEC_CURRENT_BALANCE               233153 non-null  int64 \n",
      " 28  SEC_SANCTIONED_AMOUNT             233153 non-null  int64 \n",
      " 29  SEC_DISBURSED_AMOUNT              233153 non-null  int64 \n",
      " 30  PRIMARY_INSTAL_AMT                233153 non-null  int64 \n",
      " 31  SEC_INSTAL_AMT                    233153 non-null  int64 \n",
      " 32  NEW_ACCTS_IN_LAST_SIX_THS         233153 non-null  int64 \n",
      " 33  DELINQUENT_ACCTS_IN_LAST_SIX_THS  233153 non-null  int64 \n",
      " 34  AVERAGE_ACCT_AGE_bis              233153 non-null  int64 \n",
      " 35  CREDIT_HISTORY_LENGTH_bis         233153 non-null  int64 \n",
      " 36  NO_OF_INQUIRIES                   233153 non-null  int64 \n",
      " 37  loan_default                      233153 non-null  int64 \n",
      "dtypes: int64(35), object(3)\n",
      "memory usage: 67.6+ MB\n"
     ]
    }
   ],
   "source": [
    "train.info()"
   ]
  },
  {
   "cell_type": "markdown",
   "metadata": {},
   "source": [
    "On remarque ici que 'ltv' est codé en object, nous allons le convertir en float directemment pour éviter d'avoir des erreurs. "
   ]
  },
  {
   "cell_type": "code",
   "execution_count": 6,
   "metadata": {},
   "outputs": [],
   "source": [
    "#traitement de ltv, considéré comme string alors que c'est un float \n",
    "train['ltv'] = train['ltv'].str.replace(',','.').astype('float64')"
   ]
  },
  {
   "cell_type": "markdown",
   "metadata": {},
   "source": [
    "# Exploration des données"
   ]
  },
  {
   "cell_type": "code",
   "execution_count": 7,
   "metadata": {},
   "outputs": [
    {
     "name": "stdout",
     "output_type": "stream",
     "text": [
      "Dimension du dataset est (233153, 38)\n",
      "\n"
     ]
    }
   ],
   "source": [
    "print(f\"Dimension du dataset est {train.shape}\\n\")"
   ]
  },
  {
   "cell_type": "code",
   "execution_count": 8,
   "metadata": {},
   "outputs": [],
   "source": [
    "#Lets Look at few columns\n",
    "\n",
    "#Pour l'exploration de données, il est préférable de les séparer dans des variables différentes, plus simple d'accès par la suite \n",
    "\n",
    "numerical=['disbursed_amount','asset_cost','PRI_NO_OF_ACCTS',\n",
    "       'PRI_ACTIVE_ACCTS', 'PRI_OVERDUE_ACCTS', 'PRI_CURRENT_BALANCE',\n",
    "       'PRI_SANCTIONED_AMOUNT', 'PRI_DISBURSED_AMOUNT', 'SEC_NO_OF_ACCTS',\n",
    "       'SEC_ACTIVE_ACCTS', 'SEC_OVERDUE_ACCTS', 'SEC_CURRENT_BALANCE',\n",
    "       'SEC_SANCTIONED_AMOUNT', 'SEC_DISBURSED_AMOUNT', 'PRIMARY_INSTAL_AMT',\n",
    "       'SEC_INSTAL_AMT','ltv','DELINQUENT_ACCTS_IN_LAST_SIX_THS','NEW_ACCTS_IN_LAST_SIX_THS']\n",
    "categorical=[ 'PERFORM_CNS_SCORE_DESCRIPTION','AVERAGE_ACCT_AGE_bis','CREDIT_HISTORY_LENGTH_bis','Employment_Type_K']\n",
    "\n",
    "idvar  = ['UniqueID','supplier_id','branch_id','manufacturer_id','Current_pincode_ID','State_ID','Employee_code_ID','NO_OF_INQUIRIES','VoterID_flag', 'Driving_flag', 'Passport_flag','Aadhar_flag', 'PAN_flag']\n",
    "target = ['loan_default']"
   ]
  },
  {
   "cell_type": "code",
   "execution_count": 9,
   "metadata": {},
   "outputs": [
    {
     "data": {
      "text/html": [
       "<div>\n",
       "<style scoped>\n",
       "    .dataframe tbody tr th:only-of-type {\n",
       "        vertical-align: middle;\n",
       "    }\n",
       "\n",
       "    .dataframe tbody tr th {\n",
       "        vertical-align: top;\n",
       "    }\n",
       "\n",
       "    .dataframe thead th {\n",
       "        text-align: right;\n",
       "    }\n",
       "</style>\n",
       "<table border=\"1\" class=\"dataframe\">\n",
       "  <thead>\n",
       "    <tr style=\"text-align: right;\">\n",
       "      <th></th>\n",
       "      <th>UniqueID</th>\n",
       "      <th>supplier_id</th>\n",
       "      <th>branch_id</th>\n",
       "      <th>manufacturer_id</th>\n",
       "      <th>Current_pincode_ID</th>\n",
       "      <th>State_ID</th>\n",
       "      <th>Employee_code_ID</th>\n",
       "      <th>NO_OF_INQUIRIES</th>\n",
       "      <th>VoterID_flag</th>\n",
       "      <th>Driving_flag</th>\n",
       "      <th>Passport_flag</th>\n",
       "      <th>Aadhar_flag</th>\n",
       "      <th>PAN_flag</th>\n",
       "    </tr>\n",
       "  </thead>\n",
       "  <tbody>\n",
       "    <tr>\n",
       "      <th>0</th>\n",
       "      <td>537409</td>\n",
       "      <td>22807</td>\n",
       "      <td>67</td>\n",
       "      <td>45</td>\n",
       "      <td>1502</td>\n",
       "      <td>6</td>\n",
       "      <td>1998</td>\n",
       "      <td>0</td>\n",
       "      <td>0</td>\n",
       "      <td>0</td>\n",
       "      <td>0</td>\n",
       "      <td>1</td>\n",
       "      <td>0</td>\n",
       "    </tr>\n",
       "    <tr>\n",
       "      <th>1</th>\n",
       "      <td>417566</td>\n",
       "      <td>22807</td>\n",
       "      <td>67</td>\n",
       "      <td>45</td>\n",
       "      <td>1497</td>\n",
       "      <td>6</td>\n",
       "      <td>1998</td>\n",
       "      <td>0</td>\n",
       "      <td>0</td>\n",
       "      <td>0</td>\n",
       "      <td>0</td>\n",
       "      <td>1</td>\n",
       "      <td>0</td>\n",
       "    </tr>\n",
       "    <tr>\n",
       "      <th>2</th>\n",
       "      <td>624493</td>\n",
       "      <td>22807</td>\n",
       "      <td>67</td>\n",
       "      <td>45</td>\n",
       "      <td>1501</td>\n",
       "      <td>6</td>\n",
       "      <td>1998</td>\n",
       "      <td>1</td>\n",
       "      <td>0</td>\n",
       "      <td>0</td>\n",
       "      <td>0</td>\n",
       "      <td>1</td>\n",
       "      <td>0</td>\n",
       "    </tr>\n",
       "    <tr>\n",
       "      <th>3</th>\n",
       "      <td>539055</td>\n",
       "      <td>22807</td>\n",
       "      <td>67</td>\n",
       "      <td>45</td>\n",
       "      <td>1495</td>\n",
       "      <td>6</td>\n",
       "      <td>1998</td>\n",
       "      <td>1</td>\n",
       "      <td>0</td>\n",
       "      <td>0</td>\n",
       "      <td>0</td>\n",
       "      <td>1</td>\n",
       "      <td>0</td>\n",
       "    </tr>\n",
       "    <tr>\n",
       "      <th>4</th>\n",
       "      <td>518279</td>\n",
       "      <td>22807</td>\n",
       "      <td>67</td>\n",
       "      <td>45</td>\n",
       "      <td>1501</td>\n",
       "      <td>6</td>\n",
       "      <td>1998</td>\n",
       "      <td>0</td>\n",
       "      <td>0</td>\n",
       "      <td>0</td>\n",
       "      <td>0</td>\n",
       "      <td>1</td>\n",
       "      <td>0</td>\n",
       "    </tr>\n",
       "  </tbody>\n",
       "</table>\n",
       "</div>"
      ],
      "text/plain": [
       "   UniqueID  supplier_id  branch_id  manufacturer_id  Current_pincode_ID  \\\n",
       "0    537409        22807         67               45                1502   \n",
       "1    417566        22807         67               45                1497   \n",
       "2    624493        22807         67               45                1501   \n",
       "3    539055        22807         67               45                1495   \n",
       "4    518279        22807         67               45                1501   \n",
       "\n",
       "   State_ID  Employee_code_ID  NO_OF_INQUIRIES  VoterID_flag  Driving_flag  \\\n",
       "0         6              1998                0             0             0   \n",
       "1         6              1998                0             0             0   \n",
       "2         6              1998                1             0             0   \n",
       "3         6              1998                1             0             0   \n",
       "4         6              1998                0             0             0   \n",
       "\n",
       "   Passport_flag  Aadhar_flag  PAN_flag  \n",
       "0              0            1         0  \n",
       "1              0            1         0  \n",
       "2              0            1         0  \n",
       "3              0            1         0  \n",
       "4              0            1         0  "
      ]
     },
     "execution_count": 9,
     "metadata": {},
     "output_type": "execute_result"
    }
   ],
   "source": [
    "train[idvar].head()"
   ]
  },
  {
   "cell_type": "code",
   "execution_count": 10,
   "metadata": {},
   "outputs": [],
   "source": [
    "# On supprime toutes les variables id car elles ne sont pas utiles à la prédiction. \n",
    "\n",
    "train=train.drop(idvar,axis=1)\n",
    "train=train.drop(['PERFORM_CNS_SCORE'],axis=1)"
   ]
  },
  {
   "cell_type": "code",
   "execution_count": 11,
   "metadata": {},
   "outputs": [
    {
     "data": {
      "text/html": [
       "<div>\n",
       "<style scoped>\n",
       "    .dataframe tbody tr th:only-of-type {\n",
       "        vertical-align: middle;\n",
       "    }\n",
       "\n",
       "    .dataframe tbody tr th {\n",
       "        vertical-align: top;\n",
       "    }\n",
       "\n",
       "    .dataframe thead th {\n",
       "        text-align: right;\n",
       "    }\n",
       "</style>\n",
       "<table border=\"1\" class=\"dataframe\">\n",
       "  <thead>\n",
       "    <tr style=\"text-align: right;\">\n",
       "      <th></th>\n",
       "      <th>disbursed_amount</th>\n",
       "      <th>asset_cost</th>\n",
       "      <th>ltv</th>\n",
       "      <th>Employment_Type_K</th>\n",
       "      <th>PERFORM_CNS_SCORE_DESCRIPTION</th>\n",
       "      <th>PRI_NO_OF_ACCTS</th>\n",
       "      <th>PRI_ACTIVE_ACCTS</th>\n",
       "      <th>PRI_OVERDUE_ACCTS</th>\n",
       "      <th>PRI_CURRENT_BALANCE</th>\n",
       "      <th>PRI_SANCTIONED_AMOUNT</th>\n",
       "      <th>PRI_DISBURSED_AMOUNT</th>\n",
       "      <th>SEC_NO_OF_ACCTS</th>\n",
       "      <th>SEC_ACTIVE_ACCTS</th>\n",
       "      <th>SEC_OVERDUE_ACCTS</th>\n",
       "      <th>SEC_CURRENT_BALANCE</th>\n",
       "      <th>SEC_SANCTIONED_AMOUNT</th>\n",
       "      <th>SEC_DISBURSED_AMOUNT</th>\n",
       "      <th>PRIMARY_INSTAL_AMT</th>\n",
       "      <th>SEC_INSTAL_AMT</th>\n",
       "      <th>NEW_ACCTS_IN_LAST_SIX_THS</th>\n",
       "      <th>DELINQUENT_ACCTS_IN_LAST_SIX_THS</th>\n",
       "      <th>AVERAGE_ACCT_AGE_bis</th>\n",
       "      <th>CREDIT_HISTORY_LENGTH_bis</th>\n",
       "      <th>loan_default</th>\n",
       "    </tr>\n",
       "  </thead>\n",
       "  <tbody>\n",
       "    <tr>\n",
       "      <th>0</th>\n",
       "      <td>47145</td>\n",
       "      <td>65550</td>\n",
       "      <td>73.23000</td>\n",
       "      <td>Self employed</td>\n",
       "      <td>I-Medium Risk</td>\n",
       "      <td>1</td>\n",
       "      <td>1</td>\n",
       "      <td>1</td>\n",
       "      <td>27600</td>\n",
       "      <td>50200</td>\n",
       "      <td>50200</td>\n",
       "      <td>0</td>\n",
       "      <td>0</td>\n",
       "      <td>0</td>\n",
       "      <td>0</td>\n",
       "      <td>0</td>\n",
       "      <td>0</td>\n",
       "      <td>1991</td>\n",
       "      <td>0</td>\n",
       "      <td>0</td>\n",
       "      <td>1</td>\n",
       "      <td>2</td>\n",
       "      <td>2</td>\n",
       "      <td>1</td>\n",
       "    </tr>\n",
       "    <tr>\n",
       "      <th>1</th>\n",
       "      <td>53278</td>\n",
       "      <td>61360</td>\n",
       "      <td>89.63000</td>\n",
       "      <td>Self employed</td>\n",
       "      <td>No Bureau History Available</td>\n",
       "      <td>0</td>\n",
       "      <td>0</td>\n",
       "      <td>0</td>\n",
       "      <td>0</td>\n",
       "      <td>0</td>\n",
       "      <td>0</td>\n",
       "      <td>0</td>\n",
       "      <td>0</td>\n",
       "      <td>0</td>\n",
       "      <td>0</td>\n",
       "      <td>0</td>\n",
       "      <td>0</td>\n",
       "      <td>0</td>\n",
       "      <td>0</td>\n",
       "      <td>0</td>\n",
       "      <td>0</td>\n",
       "      <td>0</td>\n",
       "      <td>0</td>\n",
       "      <td>0</td>\n",
       "    </tr>\n",
       "    <tr>\n",
       "      <th>2</th>\n",
       "      <td>57513</td>\n",
       "      <td>66113</td>\n",
       "      <td>88.48000</td>\n",
       "      <td>Self employed</td>\n",
       "      <td>L-Very High Risk</td>\n",
       "      <td>3</td>\n",
       "      <td>0</td>\n",
       "      <td>0</td>\n",
       "      <td>0</td>\n",
       "      <td>0</td>\n",
       "      <td>0</td>\n",
       "      <td>0</td>\n",
       "      <td>0</td>\n",
       "      <td>0</td>\n",
       "      <td>0</td>\n",
       "      <td>0</td>\n",
       "      <td>0</td>\n",
       "      <td>31</td>\n",
       "      <td>0</td>\n",
       "      <td>0</td>\n",
       "      <td>0</td>\n",
       "      <td>1</td>\n",
       "      <td>1</td>\n",
       "      <td>1</td>\n",
       "    </tr>\n",
       "    <tr>\n",
       "      <th>3</th>\n",
       "      <td>52378</td>\n",
       "      <td>60300</td>\n",
       "      <td>88.39000</td>\n",
       "      <td>Self employed</td>\n",
       "      <td>No Bureau History Available</td>\n",
       "      <td>0</td>\n",
       "      <td>0</td>\n",
       "      <td>0</td>\n",
       "      <td>0</td>\n",
       "      <td>0</td>\n",
       "      <td>0</td>\n",
       "      <td>0</td>\n",
       "      <td>0</td>\n",
       "      <td>0</td>\n",
       "      <td>0</td>\n",
       "      <td>0</td>\n",
       "      <td>0</td>\n",
       "      <td>0</td>\n",
       "      <td>0</td>\n",
       "      <td>0</td>\n",
       "      <td>0</td>\n",
       "      <td>0</td>\n",
       "      <td>0</td>\n",
       "      <td>1</td>\n",
       "    </tr>\n",
       "    <tr>\n",
       "      <th>4</th>\n",
       "      <td>54513</td>\n",
       "      <td>61900</td>\n",
       "      <td>89.66000</td>\n",
       "      <td>Self employed</td>\n",
       "      <td>A-Very Low Risk</td>\n",
       "      <td>2</td>\n",
       "      <td>0</td>\n",
       "      <td>0</td>\n",
       "      <td>0</td>\n",
       "      <td>0</td>\n",
       "      <td>0</td>\n",
       "      <td>0</td>\n",
       "      <td>0</td>\n",
       "      <td>0</td>\n",
       "      <td>0</td>\n",
       "      <td>0</td>\n",
       "      <td>0</td>\n",
       "      <td>1347</td>\n",
       "      <td>0</td>\n",
       "      <td>0</td>\n",
       "      <td>0</td>\n",
       "      <td>2</td>\n",
       "      <td>2</td>\n",
       "      <td>0</td>\n",
       "    </tr>\n",
       "  </tbody>\n",
       "</table>\n",
       "</div>"
      ],
      "text/plain": [
       "   disbursed_amount  asset_cost      ltv Employment_Type_K  \\\n",
       "0             47145       65550 73.23000     Self employed   \n",
       "1             53278       61360 89.63000     Self employed   \n",
       "2             57513       66113 88.48000     Self employed   \n",
       "3             52378       60300 88.39000     Self employed   \n",
       "4             54513       61900 89.66000     Self employed   \n",
       "\n",
       "  PERFORM_CNS_SCORE_DESCRIPTION  PRI_NO_OF_ACCTS  PRI_ACTIVE_ACCTS  \\\n",
       "0                 I-Medium Risk                1                 1   \n",
       "1   No Bureau History Available                0                 0   \n",
       "2              L-Very High Risk                3                 0   \n",
       "3   No Bureau History Available                0                 0   \n",
       "4               A-Very Low Risk                2                 0   \n",
       "\n",
       "   PRI_OVERDUE_ACCTS  PRI_CURRENT_BALANCE  PRI_SANCTIONED_AMOUNT  \\\n",
       "0                  1                27600                  50200   \n",
       "1                  0                    0                      0   \n",
       "2                  0                    0                      0   \n",
       "3                  0                    0                      0   \n",
       "4                  0                    0                      0   \n",
       "\n",
       "   PRI_DISBURSED_AMOUNT  SEC_NO_OF_ACCTS  SEC_ACTIVE_ACCTS  SEC_OVERDUE_ACCTS  \\\n",
       "0                 50200                0                 0                  0   \n",
       "1                     0                0                 0                  0   \n",
       "2                     0                0                 0                  0   \n",
       "3                     0                0                 0                  0   \n",
       "4                     0                0                 0                  0   \n",
       "\n",
       "   SEC_CURRENT_BALANCE  SEC_SANCTIONED_AMOUNT  SEC_DISBURSED_AMOUNT  \\\n",
       "0                    0                      0                     0   \n",
       "1                    0                      0                     0   \n",
       "2                    0                      0                     0   \n",
       "3                    0                      0                     0   \n",
       "4                    0                      0                     0   \n",
       "\n",
       "   PRIMARY_INSTAL_AMT  SEC_INSTAL_AMT  NEW_ACCTS_IN_LAST_SIX_THS  \\\n",
       "0                1991               0                          0   \n",
       "1                   0               0                          0   \n",
       "2                  31               0                          0   \n",
       "3                   0               0                          0   \n",
       "4                1347               0                          0   \n",
       "\n",
       "   DELINQUENT_ACCTS_IN_LAST_SIX_THS  AVERAGE_ACCT_AGE_bis  \\\n",
       "0                                 1                     2   \n",
       "1                                 0                     0   \n",
       "2                                 0                     1   \n",
       "3                                 0                     0   \n",
       "4                                 0                     2   \n",
       "\n",
       "   CREDIT_HISTORY_LENGTH_bis  loan_default  \n",
       "0                          2             1  \n",
       "1                          0             0  \n",
       "2                          1             1  \n",
       "3                          0             1  \n",
       "4                          2             0  "
      ]
     },
     "execution_count": 11,
     "metadata": {},
     "output_type": "execute_result"
    }
   ],
   "source": [
    "train.head()"
   ]
  },
  {
   "cell_type": "code",
   "execution_count": 12,
   "metadata": {},
   "outputs": [
    {
     "data": {
      "image/png": "[encoded data removed]",
      "text/plain": [
       "<Figure size 1440x720 with 16 Axes>"
      ]
     },
     "metadata": {
      "needs_background": "light"
     },
     "output_type": "display_data"
    }
   ],
   "source": [
    "n=['PRI_NO_OF_ACCTS',\n",
    "       'PRI_ACTIVE_ACCTS', 'PRI_OVERDUE_ACCTS', 'PRI_CURRENT_BALANCE',\n",
    "       'PRI_SANCTIONED_AMOUNT', 'PRI_DISBURSED_AMOUNT', 'SEC_NO_OF_ACCTS',\n",
    "       'SEC_ACTIVE_ACCTS', 'SEC_OVERDUE_ACCTS', 'SEC_CURRENT_BALANCE',\n",
    "       'SEC_SANCTIONED_AMOUNT', 'SEC_DISBURSED_AMOUNT', 'PRIMARY_INSTAL_AMT',\n",
    "       'SEC_INSTAL_AMT',\n",
    "       'CREDIT_HISTORY_LENGTH_bis', 'AVERAGE_ACCT_AGE_bis','asset_cost','ltv']\n",
    "data=train[n]\n",
    "fig, axes = plt.subplots(nrows=4, ncols=4,figsize=(20,10))\n",
    "fig.subplots_adjust(hspace=0.5)\n",
    "fig.suptitle('Distribution des variables numériques')\n",
    "\n",
    "for ax, feature, name in zip(axes.flatten(), data.values.T, data.columns):\n",
    "    sns.boxplot(feature, ax=ax)\n",
    "    ax.set(title=str(name))\n",
    "plt.show()"
   ]
  },
  {
   "cell_type": "markdown",
   "metadata": {},
   "source": [
    "On remarque que les variables numériques sont surtout composées de 0. Cela s'explique par le fait que notre dataframe est surtout composé de nouveaux clients qui n'ont jamais fait de prêts auparavant. \n",
    "\n",
    "Il est difficile de tirer des conclusions sur ces graphiques, nous pouvons néanmoins regrouper les informations des variables préfixés par 'PRI' et 'SEC' car elles concernent les informations de l'emprunteur et du co-emprunteur, il serait redondant de les garder séparer et nous ne pouvons pas les retirer car ce sont des informations essentielles malgré le fait qu'elles soient surtout composées de 0. \n",
    "\n",
    "On remarque par contre que les variables 'credit_history_length_bis' et 'average_acct_age_bis' sont un peu mieux réprésentées que les autres, nous allons les regarder plus en détails.\n"
   ]
  },
  {
   "cell_type": "code",
   "execution_count": 13,
   "metadata": {},
   "outputs": [
    {
     "data": {
      "text/plain": [
       "<AxesSubplot:xlabel='AVERAGE_ACCT_AGE_bis', ylabel='loan_default'>"
      ]
     },
     "execution_count": 13,
     "metadata": {},
     "output_type": "execute_result"
    },
    {
     "data": {
      "image/png": "[encoded data removed]",
      "text/plain": [
       "<Figure size 432x288 with 1 Axes>"
      ]
     },
     "metadata": {
      "needs_background": "light"
     },
     "output_type": "display_data"
    }
   ],
   "source": [
    "# On utilise lineplot de seaborn pour obtenir l'intervalle de confiance avec la variable cible afin de déceler un éventuel lien graphiquement.\n",
    "sns.lineplot(x=train['AVERAGE_ACCT_AGE_bis'],y=train['loan_default'])"
   ]
  },
  {
   "cell_type": "markdown",
   "metadata": {},
   "source": [
    "On remarque un pic entre 12 et 16, il semblerait qu'à partir d'un moment la chance que le paiement soit en défaut est plus important."
   ]
  },
  {
   "cell_type": "code",
   "execution_count": 14,
   "metadata": {},
   "outputs": [
    {
     "data": {
      "text/plain": [
       "<AxesSubplot:xlabel='CREDIT_HISTORY_LENGTH_bis', ylabel='loan_default'>"
      ]
     },
     "execution_count": 14,
     "metadata": {},
     "output_type": "execute_result"
    },
    {
     "data": {
      "image/png": "[encoded data removed]",
      "text/plain": [
       "<Figure size 432x288 with 1 Axes>"
      ]
     },
     "metadata": {
      "needs_background": "light"
     },
     "output_type": "display_data"
    }
   ],
   "source": [
    "\n",
    "sns.lineplot(x=train['CREDIT_HISTORY_LENGTH_bis'],y=train['loan_default'])"
   ]
  },
  {
   "cell_type": "markdown",
   "metadata": {},
   "source": [
    "On remarque ici une tendance, plus le crédit est long plus il a de chance d'être en défaut. De plus en général plus un crédit est long plus le montant emprunté est élevé. \n",
    "On remarque également un net pic après 35 ce qui laisse penser que notre dataset comporte des paiements en défaut à chaque fois que crédit_history_length vaut plus que 35, il faut les retirer."
   ]
  },
  {
   "cell_type": "code",
   "execution_count": 15,
   "metadata": {},
   "outputs": [],
   "source": [
    "# Analyse des variables catégorielles "
   ]
  },
  {
   "cell_type": "code",
   "execution_count": 16,
   "metadata": {},
   "outputs": [
    {
     "data": {
      "text/plain": [
       "No Bureau History Available                                116949\n",
       "C-Very Low Risk                                             16045\n",
       "A-Very Low Risk                                             14124\n",
       "D-Very Low Risk                                             11358\n",
       "B-Very Low Risk                                              9201\n",
       "M-Very High Risk                                             8776\n",
       "F-Low Risk                                                   8485\n",
       "K-High Risk                                                  8277\n",
       "H-Medium Risk                                                6855\n",
       "E-Low Risk                                                   5821\n",
       "I-Medium Risk                                                5557\n",
       "G-Low Risk                                                   3988\n",
       "Not Scored: Sufficient History Not Available                 3765\n",
       "J-High Risk                                                  3748\n",
       "Not Scored: Not Enough Info available on the customer        3672\n",
       "Not Scored: No Activity seen on the customer (Inactive)      2885\n",
       "Not Scored: No Updates available in last 36 ths              1534\n",
       "L-Very High Risk                                             1134\n",
       "Not Scored: Only a Guarantor                                  976\n",
       "Not Scored: More than 50 active Accounts found                  3\n",
       "Name: PERFORM_CNS_SCORE_DESCRIPTION, dtype: int64"
      ]
     },
     "execution_count": 16,
     "metadata": {},
     "output_type": "execute_result"
    }
   ],
   "source": [
    "train.PERFORM_CNS_SCORE_DESCRIPTION.value_counts()"
   ]
  },
  {
   "cell_type": "code",
   "execution_count": 17,
   "metadata": {},
   "outputs": [
    {
     "data": {
      "text/plain": [
       "<AxesSubplot:xlabel='PERFORM_CNS_SCORE_DESCRIPTION', ylabel='count'>"
      ]
     },
     "execution_count": 17,
     "metadata": {},
     "output_type": "execute_result"
    },
    {
     "data": {
      "image/png": "[encoded data removed]",
      "text/plain": [
       "<Figure size 432x288 with 1 Axes>"
      ]
     },
     "metadata": {
      "needs_background": "light"
     },
     "output_type": "display_data"
    }
   ],
   "source": [
    "sns.countplot(x = train['PERFORM_CNS_SCORE_DESCRIPTION'])"
   ]
  },
  {
   "cell_type": "markdown",
   "metadata": {},
   "source": [
    "Il y a trop de modalités, il faut les regrouper. "
   ]
  },
  {
   "cell_type": "code",
   "execution_count": 18,
   "metadata": {},
   "outputs": [
    {
     "data": {
      "text/plain": [
       "Self employed    127635\n",
       "Salaried          97857\n",
       "Name: Employment_Type_K, dtype: int64"
      ]
     },
     "execution_count": 18,
     "metadata": {},
     "output_type": "execute_result"
    }
   ],
   "source": [
    "train.Employment_Type_K.value_counts()"
   ]
  },
  {
   "cell_type": "markdown",
   "metadata": {},
   "source": [
    "# Regroupement des modalités de CNS_SCORE_Description"
   ]
  },
  {
   "cell_type": "code",
   "execution_count": 19,
   "metadata": {},
   "outputs": [],
   "source": [
    "train['PERFORM_CNS_SCORE_DESCRIPTION'] = train['PERFORM_CNS_SCORE_DESCRIPTION'].replace('No Bureau History Available', 1)\n",
    "train['PERFORM_CNS_SCORE_DESCRIPTION'] = train['PERFORM_CNS_SCORE_DESCRIPTION'].replace('Not Scored: Sufficient History Not Available',1)\n",
    "train['PERFORM_CNS_SCORE_DESCRIPTION'] = train['PERFORM_CNS_SCORE_DESCRIPTION'].replace('Not Scored: Not Enough Info available on the customer',1)\n",
    "train['PERFORM_CNS_SCORE_DESCRIPTION'] = train['PERFORM_CNS_SCORE_DESCRIPTION'].replace('Not Scored: No Activity seen on the customer (Inactive)',1)\n",
    "train['PERFORM_CNS_SCORE_DESCRIPTION'] = train['PERFORM_CNS_SCORE_DESCRIPTION'].replace('Not Scored: No Updates available in last 36 ths',1)\n",
    "train['PERFORM_CNS_SCORE_DESCRIPTION'] = train['PERFORM_CNS_SCORE_DESCRIPTION'].replace('Not Scored: Only a Guarantor', 1)\n",
    "train['PERFORM_CNS_SCORE_DESCRIPTION'] = train['PERFORM_CNS_SCORE_DESCRIPTION'].replace('Not Scored: More than 50 active Accounts found',1)\n",
    "train['PERFORM_CNS_SCORE_DESCRIPTION'] = train['PERFORM_CNS_SCORE_DESCRIPTION'].replace('M-Very High Risk', 6)\n",
    "train['PERFORM_CNS_SCORE_DESCRIPTION'] = train['PERFORM_CNS_SCORE_DESCRIPTION'].replace('L-Very High Risk', 6)\n",
    "train['PERFORM_CNS_SCORE_DESCRIPTION'] = train['PERFORM_CNS_SCORE_DESCRIPTION'].replace('K-High Risk', 5)\n",
    "train['PERFORM_CNS_SCORE_DESCRIPTION'] = train['PERFORM_CNS_SCORE_DESCRIPTION'].replace('J-High Risk', 5)\n",
    "train['PERFORM_CNS_SCORE_DESCRIPTION'] = train['PERFORM_CNS_SCORE_DESCRIPTION'].replace('I-Medium Risk', 4)\n",
    "train['PERFORM_CNS_SCORE_DESCRIPTION'] = train['PERFORM_CNS_SCORE_DESCRIPTION'].replace('H-Medium Risk', 4)\n",
    "train['PERFORM_CNS_SCORE_DESCRIPTION'] = train['PERFORM_CNS_SCORE_DESCRIPTION'].replace('G-Low Risk', 3)\n",
    "train['PERFORM_CNS_SCORE_DESCRIPTION'] = train['PERFORM_CNS_SCORE_DESCRIPTION'].replace('F-Low Risk', 3)\n",
    "train['PERFORM_CNS_SCORE_DESCRIPTION'] = train['PERFORM_CNS_SCORE_DESCRIPTION'].replace('E-Low Risk', 3)\n",
    "train['PERFORM_CNS_SCORE_DESCRIPTION'] = train['PERFORM_CNS_SCORE_DESCRIPTION'].replace('D-Very Low Risk', 2)\n",
    "train['PERFORM_CNS_SCORE_DESCRIPTION'] = train['PERFORM_CNS_SCORE_DESCRIPTION'].replace('C-Very Low Risk', 2)\n",
    "train['PERFORM_CNS_SCORE_DESCRIPTION'] = train['PERFORM_CNS_SCORE_DESCRIPTION'].replace('B-Very Low Risk', 2)\n",
    "train['PERFORM_CNS_SCORE_DESCRIPTION'] = train['PERFORM_CNS_SCORE_DESCRIPTION'].replace('A-Very Low Risk', 2)\n"
   ]
  },
  {
   "cell_type": "code",
   "execution_count": 20,
   "metadata": {},
   "outputs": [
    {
     "data": {
      "text/html": [
       "<div>\n",
       "<style scoped>\n",
       "    .dataframe tbody tr th:only-of-type {\n",
       "        vertical-align: middle;\n",
       "    }\n",
       "\n",
       "    .dataframe tbody tr th {\n",
       "        vertical-align: top;\n",
       "    }\n",
       "\n",
       "    .dataframe thead th {\n",
       "        text-align: right;\n",
       "    }\n",
       "</style>\n",
       "<table border=\"1\" class=\"dataframe\">\n",
       "  <thead>\n",
       "    <tr style=\"text-align: right;\">\n",
       "      <th></th>\n",
       "      <th>disbursed_amount</th>\n",
       "      <th>asset_cost</th>\n",
       "      <th>ltv</th>\n",
       "      <th>Employment_Type_K</th>\n",
       "      <th>PERFORM_CNS_SCORE_DESCRIPTION</th>\n",
       "      <th>PRI_NO_OF_ACCTS</th>\n",
       "      <th>PRI_ACTIVE_ACCTS</th>\n",
       "      <th>PRI_OVERDUE_ACCTS</th>\n",
       "      <th>PRI_CURRENT_BALANCE</th>\n",
       "      <th>PRI_SANCTIONED_AMOUNT</th>\n",
       "      <th>PRI_DISBURSED_AMOUNT</th>\n",
       "      <th>SEC_NO_OF_ACCTS</th>\n",
       "      <th>SEC_ACTIVE_ACCTS</th>\n",
       "      <th>SEC_OVERDUE_ACCTS</th>\n",
       "      <th>SEC_CURRENT_BALANCE</th>\n",
       "      <th>SEC_SANCTIONED_AMOUNT</th>\n",
       "      <th>SEC_DISBURSED_AMOUNT</th>\n",
       "      <th>PRIMARY_INSTAL_AMT</th>\n",
       "      <th>SEC_INSTAL_AMT</th>\n",
       "      <th>NEW_ACCTS_IN_LAST_SIX_THS</th>\n",
       "      <th>DELINQUENT_ACCTS_IN_LAST_SIX_THS</th>\n",
       "      <th>AVERAGE_ACCT_AGE_bis</th>\n",
       "      <th>CREDIT_HISTORY_LENGTH_bis</th>\n",
       "      <th>loan_default</th>\n",
       "    </tr>\n",
       "  </thead>\n",
       "  <tbody>\n",
       "    <tr>\n",
       "      <th>0</th>\n",
       "      <td>47145</td>\n",
       "      <td>65550</td>\n",
       "      <td>73.23000</td>\n",
       "      <td>Self employed</td>\n",
       "      <td>4</td>\n",
       "      <td>1</td>\n",
       "      <td>1</td>\n",
       "      <td>1</td>\n",
       "      <td>27600</td>\n",
       "      <td>50200</td>\n",
       "      <td>50200</td>\n",
       "      <td>0</td>\n",
       "      <td>0</td>\n",
       "      <td>0</td>\n",
       "      <td>0</td>\n",
       "      <td>0</td>\n",
       "      <td>0</td>\n",
       "      <td>1991</td>\n",
       "      <td>0</td>\n",
       "      <td>0</td>\n",
       "      <td>1</td>\n",
       "      <td>2</td>\n",
       "      <td>2</td>\n",
       "      <td>1</td>\n",
       "    </tr>\n",
       "    <tr>\n",
       "      <th>1</th>\n",
       "      <td>53278</td>\n",
       "      <td>61360</td>\n",
       "      <td>89.63000</td>\n",
       "      <td>Self employed</td>\n",
       "      <td>1</td>\n",
       "      <td>0</td>\n",
       "      <td>0</td>\n",
       "      <td>0</td>\n",
       "      <td>0</td>\n",
       "      <td>0</td>\n",
       "      <td>0</td>\n",
       "      <td>0</td>\n",
       "      <td>0</td>\n",
       "      <td>0</td>\n",
       "      <td>0</td>\n",
       "      <td>0</td>\n",
       "      <td>0</td>\n",
       "      <td>0</td>\n",
       "      <td>0</td>\n",
       "      <td>0</td>\n",
       "      <td>0</td>\n",
       "      <td>0</td>\n",
       "      <td>0</td>\n",
       "      <td>0</td>\n",
       "    </tr>\n",
       "    <tr>\n",
       "      <th>2</th>\n",
       "      <td>57513</td>\n",
       "      <td>66113</td>\n",
       "      <td>88.48000</td>\n",
       "      <td>Self employed</td>\n",
       "      <td>6</td>\n",
       "      <td>3</td>\n",
       "      <td>0</td>\n",
       "      <td>0</td>\n",
       "      <td>0</td>\n",
       "      <td>0</td>\n",
       "      <td>0</td>\n",
       "      <td>0</td>\n",
       "      <td>0</td>\n",
       "      <td>0</td>\n",
       "      <td>0</td>\n",
       "      <td>0</td>\n",
       "      <td>0</td>\n",
       "      <td>31</td>\n",
       "      <td>0</td>\n",
       "      <td>0</td>\n",
       "      <td>0</td>\n",
       "      <td>1</td>\n",
       "      <td>1</td>\n",
       "      <td>1</td>\n",
       "    </tr>\n",
       "    <tr>\n",
       "      <th>3</th>\n",
       "      <td>52378</td>\n",
       "      <td>60300</td>\n",
       "      <td>88.39000</td>\n",
       "      <td>Self employed</td>\n",
       "      <td>1</td>\n",
       "      <td>0</td>\n",
       "      <td>0</td>\n",
       "      <td>0</td>\n",
       "      <td>0</td>\n",
       "      <td>0</td>\n",
       "      <td>0</td>\n",
       "      <td>0</td>\n",
       "      <td>0</td>\n",
       "      <td>0</td>\n",
       "      <td>0</td>\n",
       "      <td>0</td>\n",
       "      <td>0</td>\n",
       "      <td>0</td>\n",
       "      <td>0</td>\n",
       "      <td>0</td>\n",
       "      <td>0</td>\n",
       "      <td>0</td>\n",
       "      <td>0</td>\n",
       "      <td>1</td>\n",
       "    </tr>\n",
       "    <tr>\n",
       "      <th>4</th>\n",
       "      <td>54513</td>\n",
       "      <td>61900</td>\n",
       "      <td>89.66000</td>\n",
       "      <td>Self employed</td>\n",
       "      <td>2</td>\n",
       "      <td>2</td>\n",
       "      <td>0</td>\n",
       "      <td>0</td>\n",
       "      <td>0</td>\n",
       "      <td>0</td>\n",
       "      <td>0</td>\n",
       "      <td>0</td>\n",
       "      <td>0</td>\n",
       "      <td>0</td>\n",
       "      <td>0</td>\n",
       "      <td>0</td>\n",
       "      <td>0</td>\n",
       "      <td>1347</td>\n",
       "      <td>0</td>\n",
       "      <td>0</td>\n",
       "      <td>0</td>\n",
       "      <td>2</td>\n",
       "      <td>2</td>\n",
       "      <td>0</td>\n",
       "    </tr>\n",
       "  </tbody>\n",
       "</table>\n",
       "</div>"
      ],
      "text/plain": [
       "   disbursed_amount  asset_cost      ltv Employment_Type_K  \\\n",
       "0             47145       65550 73.23000     Self employed   \n",
       "1             53278       61360 89.63000     Self employed   \n",
       "2             57513       66113 88.48000     Self employed   \n",
       "3             52378       60300 88.39000     Self employed   \n",
       "4             54513       61900 89.66000     Self employed   \n",
       "\n",
       "   PERFORM_CNS_SCORE_DESCRIPTION  PRI_NO_OF_ACCTS  PRI_ACTIVE_ACCTS  \\\n",
       "0                              4                1                 1   \n",
       "1                              1                0                 0   \n",
       "2                              6                3                 0   \n",
       "3                              1                0                 0   \n",
       "4                              2                2                 0   \n",
       "\n",
       "   PRI_OVERDUE_ACCTS  PRI_CURRENT_BALANCE  PRI_SANCTIONED_AMOUNT  \\\n",
       "0                  1                27600                  50200   \n",
       "1                  0                    0                      0   \n",
       "2                  0                    0                      0   \n",
       "3                  0                    0                      0   \n",
       "4                  0                    0                      0   \n",
       "\n",
       "   PRI_DISBURSED_AMOUNT  SEC_NO_OF_ACCTS  SEC_ACTIVE_ACCTS  SEC_OVERDUE_ACCTS  \\\n",
       "0                 50200                0                 0                  0   \n",
       "1                     0                0                 0                  0   \n",
       "2                     0                0                 0                  0   \n",
       "3                     0                0                 0                  0   \n",
       "4                     0                0                 0                  0   \n",
       "\n",
       "   SEC_CURRENT_BALANCE  SEC_SANCTIONED_AMOUNT  SEC_DISBURSED_AMOUNT  \\\n",
       "0                    0                      0                     0   \n",
       "1                    0                      0                     0   \n",
       "2                    0                      0                     0   \n",
       "3                    0                      0                     0   \n",
       "4                    0                      0                     0   \n",
       "\n",
       "   PRIMARY_INSTAL_AMT  SEC_INSTAL_AMT  NEW_ACCTS_IN_LAST_SIX_THS  \\\n",
       "0                1991               0                          0   \n",
       "1                   0               0                          0   \n",
       "2                  31               0                          0   \n",
       "3                   0               0                          0   \n",
       "4                1347               0                          0   \n",
       "\n",
       "   DELINQUENT_ACCTS_IN_LAST_SIX_THS  AVERAGE_ACCT_AGE_bis  \\\n",
       "0                                 1                     2   \n",
       "1                                 0                     0   \n",
       "2                                 0                     1   \n",
       "3                                 0                     0   \n",
       "4                                 0                     2   \n",
       "\n",
       "   CREDIT_HISTORY_LENGTH_bis  loan_default  \n",
       "0                          2             1  \n",
       "1                          0             0  \n",
       "2                          1             1  \n",
       "3                          0             1  \n",
       "4                          2             0  "
      ]
     },
     "execution_count": 20,
     "metadata": {},
     "output_type": "execute_result"
    }
   ],
   "source": [
    "train.head()"
   ]
  },
  {
   "cell_type": "code",
   "execution_count": 21,
   "metadata": {},
   "outputs": [
    {
     "data": {
      "text/plain": [
       "<AxesSubplot:xlabel='PERFORM_CNS_SCORE_DESCRIPTION', ylabel='count'>"
      ]
     },
     "execution_count": 21,
     "metadata": {},
     "output_type": "execute_result"
    },
    {
     "data": {
      "image/png": "[encoded data removed]",
      "text/plain": [
       "<Figure size 432x288 with 1 Axes>"
      ]
     },
     "metadata": {
      "needs_background": "light"
     },
     "output_type": "display_data"
    }
   ],
   "source": [
    "sns.countplot(x = train['PERFORM_CNS_SCORE_DESCRIPTION'])"
   ]
  },
  {
   "cell_type": "markdown",
   "metadata": {},
   "source": [
    "On voit nettemment mieux les différentes catégories de la variable, on remarque que les personnes non scorés(1) sont majoritaires même en cumulant les autres effectifs, ce qui confirme notre première impression plus haut. "
   ]
  },
  {
   "cell_type": "markdown",
   "metadata": {},
   "source": [
    "# Traitement des valeurs manquantes"
   ]
  },
  {
   "cell_type": "markdown",
   "metadata": {},
   "source": [
    "Les algorithmes prédictifs gèrent très mal les NA, il est important de les traiter à l'avance soit en les supprimant du jeu de données soit en les remplaçants."
   ]
  },
  {
   "cell_type": "code",
   "execution_count": 22,
   "metadata": {},
   "outputs": [
    {
     "data": {
      "text/plain": [
       "disbursed_amount                       0\n",
       "asset_cost                             0\n",
       "ltv                                    0\n",
       "Employment_Type_K                   7661\n",
       "PERFORM_CNS_SCORE_DESCRIPTION          0\n",
       "PRI_NO_OF_ACCTS                        0\n",
       "PRI_ACTIVE_ACCTS                       0\n",
       "PRI_OVERDUE_ACCTS                      0\n",
       "PRI_CURRENT_BALANCE                    0\n",
       "PRI_SANCTIONED_AMOUNT                  0\n",
       "PRI_DISBURSED_AMOUNT                   0\n",
       "SEC_NO_OF_ACCTS                        0\n",
       "SEC_ACTIVE_ACCTS                       0\n",
       "SEC_OVERDUE_ACCTS                      0\n",
       "SEC_CURRENT_BALANCE                    0\n",
       "SEC_SANCTIONED_AMOUNT                  0\n",
       "SEC_DISBURSED_AMOUNT                   0\n",
       "PRIMARY_INSTAL_AMT                     0\n",
       "SEC_INSTAL_AMT                         0\n",
       "NEW_ACCTS_IN_LAST_SIX_THS              0\n",
       "DELINQUENT_ACCTS_IN_LAST_SIX_THS       0\n",
       "AVERAGE_ACCT_AGE_bis                   0\n",
       "CREDIT_HISTORY_LENGTH_bis              0\n",
       "loan_default                           0\n",
       "dtype: int64"
      ]
     },
     "execution_count": 22,
     "metadata": {},
     "output_type": "execute_result"
    }
   ],
   "source": [
    "train.isna().sum()"
   ]
  },
  {
   "cell_type": "markdown",
   "metadata": {},
   "source": [
    "Nous allons créer une nouvelle catégorie pour la variable 'Employement_type', on imagine que les NA présents dans le jeu de données sont des personnes sans emplois qui n'ont pas donné leurs informations. "
   ]
  },
  {
   "cell_type": "code",
   "execution_count": 23,
   "metadata": {},
   "outputs": [],
   "source": [
    "train['Employment_Type_K'] = train['Employment_Type_K'].fillna('Unemployed')\n",
    "map_recode_employment = {'Self employed':0, 'Salaried':1, 'Unemployed':2}\n",
    "train['Employment_Type_K'] = train['Employment_Type_K'].apply(lambda x: map_recode_employment[x])\n"
   ]
  },
  {
   "cell_type": "code",
   "execution_count": 24,
   "metadata": {},
   "outputs": [
    {
     "data": {
      "text/plain": [
       "0    127635\n",
       "1     97857\n",
       "2      7661\n",
       "Name: Employment_Type_K, dtype: int64"
      ]
     },
     "execution_count": 24,
     "metadata": {},
     "output_type": "execute_result"
    }
   ],
   "source": [
    "train.Employment_Type_K.value_counts()"
   ]
  },
  {
   "cell_type": "code",
   "execution_count": 25,
   "metadata": {},
   "outputs": [
    {
     "data": {
      "text/plain": [
       "<AxesSubplot:xlabel='Employment_Type_K', ylabel='count'>"
      ]
     },
     "execution_count": 25,
     "metadata": {},
     "output_type": "execute_result"
    },
    {
     "data": {
      "image/png": "[encoded data removed]",
      "text/plain": [
       "<Figure size 432x288 with 1 Axes>"
      ]
     },
     "metadata": {
      "needs_background": "light"
     },
     "output_type": "display_data"
    }
   ],
   "source": [
    "sns.countplot(x = train['Employment_Type_K'])"
   ]
  },
  {
   "cell_type": "markdown",
   "metadata": {},
   "source": [
    "On remarque que les sans emplois sont minoritaires, c'est normal car il est beaucoup plus difficile pour une personne sans emploi d'obtenir un prêt donc il y a moins de demande."
   ]
  },
  {
   "cell_type": "markdown",
   "metadata": {},
   "source": [
    "# Regroupement des informations de l'emprunteur et du co-emprunteur"
   ]
  },
  {
   "cell_type": "code",
   "execution_count": 26,
   "metadata": {},
   "outputs": [],
   "source": [
    "train.loc[:,'ACTIVE_ACCTS'] = train['PRI_ACTIVE_ACCTS'] + train['SEC_ACTIVE_ACCTS']\n",
    "train.loc[:,'NO_OF_ACCTS'] = train['PRI_NO_OF_ACCTS'] + train['SEC_NO_OF_ACCTS']\n",
    "train.loc[:,'OVERDUE_ACCTS'] = train['PRI_OVERDUE_ACCTS'] + train['SEC_OVERDUE_ACCTS']\n",
    "train.loc[:,'CURRENT_BALANCE'] = train['PRI_CURRENT_BALANCE'] + train['SEC_CURRENT_BALANCE']\n",
    "train.loc[:,'SANCTIONED_AMOUNT'] = train['PRI_SANCTIONED_AMOUNT'] + train['SEC_SANCTIONED_AMOUNT']\n",
    "train.loc[:,'DISBURSED_AMOUNT'] = train['PRI_DISBURSED_AMOUNT'] + train['SEC_DISBURSED_AMOUNT']\n",
    "train.loc[:,'INSTAL_AMT'] = train['PRIMARY_INSTAL_AMT'] + train['SEC_INSTAL_AMT']"
   ]
  },
  {
   "cell_type": "markdown",
   "metadata": {},
   "source": [
    "# Affichage des outliers"
   ]
  },
  {
   "cell_type": "code",
   "execution_count": 27,
   "metadata": {},
   "outputs": [
    {
     "data": {
      "text/plain": [
       "<AxesSubplot:ylabel='ACTIVE_ACCTS'>"
      ]
     },
     "execution_count": 27,
     "metadata": {},
     "output_type": "execute_result"
    },
    {
     "data": {
      "image/png": "[encoded data removed]",
      "text/plain": [
       "<Figure size 432x288 with 1 Axes>"
      ]
     },
     "metadata": {
      "needs_background": "light"
     },
     "output_type": "display_data"
    }
   ],
   "source": [
    "sns.scatterplot(data=train['ACTIVE_ACCTS'])"
   ]
  },
  {
   "cell_type": "code",
   "execution_count": 28,
   "metadata": {},
   "outputs": [
    {
     "data": {
      "text/plain": [
       "<AxesSubplot:>"
      ]
     },
     "execution_count": 28,
     "metadata": {},
     "output_type": "execute_result"
    },
    {
     "data": {
      "image/png": "[encoded data removed]",
      "text/plain": [
       "<Figure size 432x288 with 1 Axes>"
      ]
     },
     "metadata": {
      "needs_background": "light"
     },
     "output_type": "display_data"
    }
   ],
   "source": [
    "sns.boxplot(data=train['NO_OF_ACCTS'])"
   ]
  },
  {
   "cell_type": "code",
   "execution_count": 29,
   "metadata": {},
   "outputs": [
    {
     "data": {
      "text/plain": [
       "<AxesSubplot:ylabel='OVERDUE_ACCTS'>"
      ]
     },
     "execution_count": 29,
     "metadata": {},
     "output_type": "execute_result"
    },
    {
     "data": {
      "image/png": "[encoded data removed]",
      "text/plain": [
       "<Figure size 432x288 with 1 Axes>"
      ]
     },
     "metadata": {
      "needs_background": "light"
     },
     "output_type": "display_data"
    }
   ],
   "source": [
    "sns.scatterplot(data=train['OVERDUE_ACCTS'])"
   ]
  },
  {
   "cell_type": "code",
   "execution_count": 30,
   "metadata": {},
   "outputs": [
    {
     "data": {
      "text/plain": [
       "<AxesSubplot:ylabel='CURRENT_BALANCE'>"
      ]
     },
     "execution_count": 30,
     "metadata": {},
     "output_type": "execute_result"
    },
    {
     "data": {
      "image/png": "[encoded data removed]",
      "text/plain": [
       "<Figure size 432x288 with 1 Axes>"
      ]
     },
     "metadata": {
      "needs_background": "light"
     },
     "output_type": "display_data"
    }
   ],
   "source": [
    "sns.scatterplot(data = train['CURRENT_BALANCE'])"
   ]
  },
  {
   "cell_type": "code",
   "execution_count": 31,
   "metadata": {},
   "outputs": [],
   "source": [
    "# On supprime les variables regroupées\n",
    "pri_sec_drop=['PRI_NO_OF_ACCTS',\n",
    "       'PRI_ACTIVE_ACCTS', 'PRI_OVERDUE_ACCTS', 'PRI_CURRENT_BALANCE',\n",
    "       'PRI_SANCTIONED_AMOUNT', 'PRI_DISBURSED_AMOUNT', 'SEC_NO_OF_ACCTS',\n",
    "       'SEC_ACTIVE_ACCTS', 'SEC_OVERDUE_ACCTS', 'SEC_CURRENT_BALANCE',\n",
    "       'SEC_SANCTIONED_AMOUNT', 'SEC_DISBURSED_AMOUNT', 'PRIMARY_INSTAL_AMT',\n",
    "       'SEC_INSTAL_AMT']\n",
    "train=train.drop(pri_sec_drop,axis=1)"
   ]
  },
  {
   "cell_type": "markdown",
   "metadata": {},
   "source": [
    "# Traitement des valeurs extrêmes "
   ]
  },
  {
   "cell_type": "markdown",
   "metadata": {},
   "source": [
    "Les valeurs extrêmes peuvent jouer un rôle négatif dans nos prédictions, il est important de les traiter de la bonne façon. Dans un premier temps nous avons essayé d'utiliser la technique de l'IQR mais cette technique comporte un inconvénient majeur pour la suite de notre programme : elle change la distribution des variables de façon non négligable. \n"
   ]
  },
  {
   "cell_type": "code",
   "execution_count": 32,
   "metadata": {},
   "outputs": [],
   "source": [
    "#def outliers(df,ft):\n",
    " #   Q1 = df[ft].quantile(0.25)\n",
    "  #  Q3 = df[ft].quantile(0.75)\n",
    "   # IQR = Q3 - Q1 \n",
    "    \n",
    "   # lower = Q1 - 1.5 * IQR\n",
    "    #upper = Q3 + 1.5 * IQR\n",
    "    \n",
    "    #ls = df.index[ (df[ft] < lower) | (df[ft] > upper)]\n",
    "    #return ls"
   ]
  },
  {
   "cell_type": "code",
   "execution_count": 33,
   "metadata": {},
   "outputs": [],
   "source": [
    "#index_list = []\n",
    "#for feature in ['ACTIVE_ACCTS','NO_OF_ACCTS','OVERDUE_ACCTS','CURRENT_BALANCE']:\n",
    " #   index_list.extend(outliers(train,feature))\n",
    "    \n"
   ]
  },
  {
   "cell_type": "code",
   "execution_count": 34,
   "metadata": {},
   "outputs": [],
   "source": [
    "#def remove_outliers(df,ls):\n",
    " #   ls = sorted(set(ls))\n",
    "  #  df = df.drop(ls)\n",
    "   # return df"
   ]
  },
  {
   "cell_type": "code",
   "execution_count": 35,
   "metadata": {},
   "outputs": [],
   "source": [
    "#train = remove_outliers(train,index_list)"
   ]
  },
  {
   "cell_type": "markdown",
   "metadata": {},
   "source": [
    "Nous avons donc opté pour la méthode suivante : on identifie les outliers et on remplace leurs valeurs par celle qu'on retrouve le plus souvent dans la colonne."
   ]
  },
  {
   "cell_type": "code",
   "execution_count": 36,
   "metadata": {},
   "outputs": [],
   "source": [
    "def impute_outliers(data):\n",
    "    ligne = list(data['ACTIVE_ACCTS'].sort_values()[-10:].index)\n",
    "    #print(ligne)\n",
    "    data['ACTIVE_ACCTS'][ligne] = int(data.drop(ligne)['ACTIVE_ACCTS'].mode())\n",
    "    \n",
    "    ligne = list(data['NO_OF_ACCTS'].sort_values()[-4:].index)\n",
    "    #print(ligne)\n",
    "    data['NO_OF_ACCTS'][ligne] = int(data.drop(ligne)['NO_OF_ACCTS'].mode())\n",
    "    \n",
    "    ligne = list(data['OVERDUE_ACCTS'].sort_values()[-20:].index)\n",
    "    print(ligne)\n",
    "    data['OVERDUE_ACCTS'][ligne] = int(data.drop(ligne)['OVERDUE_ACCTS'].mode())\n",
    "    \n",
    "    ligne = list(data['CURRENT_BALANCE'].sort_values()[-30:].index)\n",
    "    #print(ligne)\n",
    "    data['CURRENT_BALANCE'][ligne] = int(data.drop(ligne)['CURRENT_BALANCE'].mode())\n",
    "    \n",
    "    ligne = list(data['CREDIT_HISTORY_LENGTH_bis'].sort_values()[-10:].index)\n",
    "    #print(ligne)\n",
    "    data['CREDIT_HISTORY_LENGTH_bis'][ligne] = int(data.drop(ligne)['CREDIT_HISTORY_LENGTH_bis'].mode())\n",
    "    ligne = list(data['AVERAGE_ACCT_AGE_bis'].sort_values()[-10:].index)\n",
    "    #print(ligne)\n",
    "    data['AVERAGE_ACCT_AGE_bis'][ligne] = int(data.drop(ligne)['AVERAGE_ACCT_AGE_bis'].mode())\n",
    "    \n",
    "    "
   ]
  },
  {
   "cell_type": "code",
   "execution_count": 37,
   "metadata": {},
   "outputs": [
    {
     "name": "stdout",
     "output_type": "stream",
     "text": [
      "[110052, 17540, 62322, 35710, 112617, 203659, 100314, 174395, 169878, 548, 29677, 96785, 168807, 42689, 203926, 18125, 163650, 75732, 72167, 215754]\n"
     ]
    }
   ],
   "source": [
    "impute_outliers(train)"
   ]
  },
  {
   "cell_type": "code",
   "execution_count": 38,
   "metadata": {},
   "outputs": [
    {
     "data": {
      "text/html": [
       "<div>\n",
       "<style scoped>\n",
       "    .dataframe tbody tr th:only-of-type {\n",
       "        vertical-align: middle;\n",
       "    }\n",
       "\n",
       "    .dataframe tbody tr th {\n",
       "        vertical-align: top;\n",
       "    }\n",
       "\n",
       "    .dataframe thead th {\n",
       "        text-align: right;\n",
       "    }\n",
       "</style>\n",
       "<table border=\"1\" class=\"dataframe\">\n",
       "  <thead>\n",
       "    <tr style=\"text-align: right;\">\n",
       "      <th></th>\n",
       "      <th>disbursed_amount</th>\n",
       "      <th>asset_cost</th>\n",
       "      <th>ltv</th>\n",
       "      <th>Employment_Type_K</th>\n",
       "      <th>PERFORM_CNS_SCORE_DESCRIPTION</th>\n",
       "      <th>NEW_ACCTS_IN_LAST_SIX_THS</th>\n",
       "      <th>DELINQUENT_ACCTS_IN_LAST_SIX_THS</th>\n",
       "      <th>AVERAGE_ACCT_AGE_bis</th>\n",
       "      <th>CREDIT_HISTORY_LENGTH_bis</th>\n",
       "      <th>loan_default</th>\n",
       "      <th>ACTIVE_ACCTS</th>\n",
       "      <th>NO_OF_ACCTS</th>\n",
       "      <th>OVERDUE_ACCTS</th>\n",
       "      <th>CURRENT_BALANCE</th>\n",
       "      <th>SANCTIONED_AMOUNT</th>\n",
       "      <th>DISBURSED_AMOUNT</th>\n",
       "      <th>INSTAL_AMT</th>\n",
       "    </tr>\n",
       "  </thead>\n",
       "  <tbody>\n",
       "    <tr>\n",
       "      <th>0</th>\n",
       "      <td>47145</td>\n",
       "      <td>65550</td>\n",
       "      <td>73.23000</td>\n",
       "      <td>0</td>\n",
       "      <td>4</td>\n",
       "      <td>0</td>\n",
       "      <td>1</td>\n",
       "      <td>2</td>\n",
       "      <td>2</td>\n",
       "      <td>1</td>\n",
       "      <td>1</td>\n",
       "      <td>1</td>\n",
       "      <td>1</td>\n",
       "      <td>27600</td>\n",
       "      <td>50200</td>\n",
       "      <td>50200</td>\n",
       "      <td>1991</td>\n",
       "    </tr>\n",
       "    <tr>\n",
       "      <th>1</th>\n",
       "      <td>53278</td>\n",
       "      <td>61360</td>\n",
       "      <td>89.63000</td>\n",
       "      <td>0</td>\n",
       "      <td>1</td>\n",
       "      <td>0</td>\n",
       "      <td>0</td>\n",
       "      <td>0</td>\n",
       "      <td>0</td>\n",
       "      <td>0</td>\n",
       "      <td>0</td>\n",
       "      <td>0</td>\n",
       "      <td>0</td>\n",
       "      <td>0</td>\n",
       "      <td>0</td>\n",
       "      <td>0</td>\n",
       "      <td>0</td>\n",
       "    </tr>\n",
       "    <tr>\n",
       "      <th>2</th>\n",
       "      <td>57513</td>\n",
       "      <td>66113</td>\n",
       "      <td>88.48000</td>\n",
       "      <td>0</td>\n",
       "      <td>6</td>\n",
       "      <td>0</td>\n",
       "      <td>0</td>\n",
       "      <td>1</td>\n",
       "      <td>1</td>\n",
       "      <td>1</td>\n",
       "      <td>0</td>\n",
       "      <td>3</td>\n",
       "      <td>0</td>\n",
       "      <td>0</td>\n",
       "      <td>0</td>\n",
       "      <td>0</td>\n",
       "      <td>31</td>\n",
       "    </tr>\n",
       "    <tr>\n",
       "      <th>3</th>\n",
       "      <td>52378</td>\n",
       "      <td>60300</td>\n",
       "      <td>88.39000</td>\n",
       "      <td>0</td>\n",
       "      <td>1</td>\n",
       "      <td>0</td>\n",
       "      <td>0</td>\n",
       "      <td>0</td>\n",
       "      <td>0</td>\n",
       "      <td>1</td>\n",
       "      <td>0</td>\n",
       "      <td>0</td>\n",
       "      <td>0</td>\n",
       "      <td>0</td>\n",
       "      <td>0</td>\n",
       "      <td>0</td>\n",
       "      <td>0</td>\n",
       "    </tr>\n",
       "    <tr>\n",
       "      <th>4</th>\n",
       "      <td>54513</td>\n",
       "      <td>61900</td>\n",
       "      <td>89.66000</td>\n",
       "      <td>0</td>\n",
       "      <td>2</td>\n",
       "      <td>0</td>\n",
       "      <td>0</td>\n",
       "      <td>2</td>\n",
       "      <td>2</td>\n",
       "      <td>0</td>\n",
       "      <td>0</td>\n",
       "      <td>2</td>\n",
       "      <td>0</td>\n",
       "      <td>0</td>\n",
       "      <td>0</td>\n",
       "      <td>0</td>\n",
       "      <td>1347</td>\n",
       "    </tr>\n",
       "  </tbody>\n",
       "</table>\n",
       "</div>"
      ],
      "text/plain": [
       "   disbursed_amount  asset_cost      ltv  Employment_Type_K  \\\n",
       "0             47145       65550 73.23000                  0   \n",
       "1             53278       61360 89.63000                  0   \n",
       "2             57513       66113 88.48000                  0   \n",
       "3             52378       60300 88.39000                  0   \n",
       "4             54513       61900 89.66000                  0   \n",
       "\n",
       "   PERFORM_CNS_SCORE_DESCRIPTION  NEW_ACCTS_IN_LAST_SIX_THS  \\\n",
       "0                              4                          0   \n",
       "1                              1                          0   \n",
       "2                              6                          0   \n",
       "3                              1                          0   \n",
       "4                              2                          0   \n",
       "\n",
       "   DELINQUENT_ACCTS_IN_LAST_SIX_THS  AVERAGE_ACCT_AGE_bis  \\\n",
       "0                                 1                     2   \n",
       "1                                 0                     0   \n",
       "2                                 0                     1   \n",
       "3                                 0                     0   \n",
       "4                                 0                     2   \n",
       "\n",
       "   CREDIT_HISTORY_LENGTH_bis  loan_default  ACTIVE_ACCTS  NO_OF_ACCTS  \\\n",
       "0                          2             1             1            1   \n",
       "1                          0             0             0            0   \n",
       "2                          1             1             0            3   \n",
       "3                          0             1             0            0   \n",
       "4                          2             0             0            2   \n",
       "\n",
       "   OVERDUE_ACCTS  CURRENT_BALANCE  SANCTIONED_AMOUNT  DISBURSED_AMOUNT  \\\n",
       "0              1            27600              50200             50200   \n",
       "1              0                0                  0                 0   \n",
       "2              0                0                  0                 0   \n",
       "3              0                0                  0                 0   \n",
       "4              0                0                  0                 0   \n",
       "\n",
       "   INSTAL_AMT  \n",
       "0        1991  \n",
       "1           0  \n",
       "2          31  \n",
       "3           0  \n",
       "4        1347  "
      ]
     },
     "execution_count": 38,
     "metadata": {},
     "output_type": "execute_result"
    }
   ],
   "source": [
    "train.head()"
   ]
  },
  {
   "cell_type": "code",
   "execution_count": 39,
   "metadata": {},
   "outputs": [
    {
     "data": {
      "image/png": "[encoded data removed]",
      "text/plain": [
       "<Figure size 1440x720 with 6 Axes>"
      ]
     },
     "metadata": {
      "needs_background": "light"
     },
     "output_type": "display_data"
    }
   ],
   "source": [
    "n = ['NO_OF_ACCTS', 'ACTIVE_ACCTS', 'OVERDUE_ACCTS', 'CURRENT_BALANCE','CREDIT_HISTORY_LENGTH_bis','AVERAGE_ACCT_AGE_bis']\n",
    "\n",
    "\n",
    "data=train[n]\n",
    "fig, axes = plt.subplots(nrows=2, ncols=3,figsize=(20,10))\n",
    "fig.subplots_adjust(hspace=0.5)\n",
    "fig.suptitle('Distribution des variables numériques traitées')\n",
    "\n",
    "for ax, feature, name in zip(axes.flatten(), data.values.T, data.columns):\n",
    "    sns.boxplot(feature, ax=ax)\n",
    "    ax.set(title=str(name))\n",
    "plt.show()"
   ]
  },
  {
   "cell_type": "markdown",
   "metadata": {},
   "source": [
    "On fait le choix ici de retirer les outliers de Credit_history_length car ils étaient uniquement labellisés avec loan_default = 1, c'est un possible biais pour nos modèles, on fait le choix de sacrifier un possible gain au niveau du score mais on évite ainsi un potentiel surapprentissage. "
   ]
  },
  {
   "cell_type": "markdown",
   "metadata": {},
   "source": [
    "# Tests statistiques "
   ]
  },
  {
   "cell_type": "markdown",
   "metadata": {},
   "source": [
    "Maintenant que nous avons traité nos données, nous pouvons passer aux tests statistiques, ces tests permettront de sélectionner les variables candidates aux modèles. \n"
   ]
  },
  {
   "cell_type": "markdown",
   "metadata": {},
   "source": [
    "## T test de Student"
   ]
  },
  {
   "cell_type": "code",
   "execution_count": 40,
   "metadata": {},
   "outputs": [
    {
     "data": {
      "image/png": "[encoded data removed]",
      "text/plain": [
       "<Figure size 504x504 with 1 Axes>"
      ]
     },
     "metadata": {
      "needs_background": "light"
     },
     "output_type": "display_data"
    }
   ],
   "source": [
    "numerical = ['disbursed_amount', 'asset_cost', 'ltv',\n",
    "            'NEW_ACCTS_IN_LAST_SIX_THS', 'CREDIT_HISTORY_LENGTH_bis',\n",
    "           'DELINQUENT_ACCTS_IN_LAST_SIX_THS', 'AVERAGE_ACCT_AGE_bis',\n",
    "           'NO_OF_ACCTS', 'ACTIVE_ACCTS', 'OVERDUE_ACCTS', 'CURRENT_BALANCE',\n",
    "           'SANCTIONED_AMOUNT', 'DISBURSED_AMOUNT', 'INSTAL_AMT']\n",
    "\n",
    "p=[]\n",
    "from scipy.stats import ttest_ind\n",
    "\n",
    "for i in numerical:\n",
    "    df1=train.groupby('loan_default').get_group(0)\n",
    "    df2=train.groupby('loan_default').get_group(1)\n",
    "    t,pvalue=ttest_ind(df1[i],df2[i])\n",
    "    p.append(1-pvalue)\n",
    "plt.figure(figsize=(7,7))\n",
    "sns.barplot(x=p, y=numerical)\n",
    "plt.title('Variables candidates')\n",
    "plt.axvline(x=(1-0.05),color='r')\n",
    "plt.xlabel('1-p value')\n",
    "plt.show()"
   ]
  },
  {
   "cell_type": "markdown",
   "metadata": {},
   "source": [
    "Toutes les variables ont passé le test, en effet elles vont toutes au delà de 0.95. "
   ]
  },
  {
   "cell_type": "code",
   "execution_count": 41,
   "metadata": {},
   "outputs": [
    {
     "data": {
      "image/png": "[encoded data removed]",
      "text/plain": [
       "<Figure size 504x504 with 1 Axes>"
      ]
     },
     "metadata": {
      "needs_background": "light"
     },
     "output_type": "display_data"
    }
   ],
   "source": [
    "from sklearn.feature_selection import SelectKBest,f_classif\n",
    "n = SelectKBest(score_func=f_classif, k=14)\n",
    "numcols=n.fit(train[numerical],train['loan_default'])\n",
    "plt.figure(figsize=(7,7))\n",
    "sns.barplot(x=numcols.scores_,y=numerical)\n",
    "plt.title('Anova test pour la classification')\n",
    "plt.show()"
   ]
  },
  {
   "cell_type": "markdown",
   "metadata": {},
   "source": [
    "le T de Student n'est pas toujours autosuffisant, il est important d'effectuer le test Anova pour prendre en compte la variance des éléments. On remarque donc que les variables n'ont pas toutes le même rôle à jouer dans le modèle, ltv et disbursed_amount semblent être les plus efficaces."
   ]
  },
  {
   "cell_type": "code",
   "execution_count": 42,
   "metadata": {},
   "outputs": [
    {
     "data": {
      "image/png": "[encoded data removed]",
      "text/plain": [
       "<Figure size 504x504 with 1 Axes>"
      ]
     },
     "metadata": {
      "needs_background": "light"
     },
     "output_type": "display_data"
    }
   ],
   "source": [
    "from sklearn.feature_selection import SelectKBest,r_regression\n",
    "n = SelectKBest(score_func=r_regression, k=14)\n",
    "numcols=n.fit(train[numerical],train['loan_default'])\n",
    "plt.figure(figsize=(7,7))\n",
    "sns.barplot(x=numcols.scores_,y=numerical)\n",
    "plt.title('Anova test pour la régression')\n",
    "plt.show()"
   ]
  },
  {
   "cell_type": "markdown",
   "metadata": {},
   "source": [
    "Le test anova peut être exécuté en utilisant le paramètre score_func = r_regression, de cette façon nous optimisons le test pour les régressions, nous pouvons ainsi voir les variables jouant positivement et négativement sur la variable cible. On remarque que la variable la plus intéressante positive est 'ltv' et la variable négative est 'NO_OF_ACCTS'."
   ]
  },
  {
   "cell_type": "markdown",
   "metadata": {},
   "source": [
    "# Test du KHI 2 pour les variables catégorielles"
   ]
  },
  {
   "cell_type": "code",
   "execution_count": 43,
   "metadata": {},
   "outputs": [
    {
     "data": {
      "image/png": "[encoded data removed]",
      "text/plain": [
       "<Figure size 504x504 with 1 Axes>"
      ]
     },
     "metadata": {
      "needs_background": "light"
     },
     "output_type": "display_data"
    }
   ],
   "source": [
    "categorical=[ 'PERFORM_CNS_SCORE_DESCRIPTION','AVERAGE_ACCT_AGE_bis','CREDIT_HISTORY_LENGTH_bis','Employment_Type_K']\n",
    "from scipy.stats import chi2_contingency\n",
    "l=[]\n",
    "for i in categorical:\n",
    "    pvalue  = chi2_contingency(pd.crosstab(train['loan_default'],train[i]))[1]\n",
    "    l.append(1-pvalue)\n",
    "plt.figure(figsize=(7,7))\n",
    "sns.barplot(x=l, y=categorical)\n",
    "plt.title('Meilleures variables catégorielles')\n",
    "plt.axvline(x=(1-0.05),color='r')\n",
    "plt.show()"
   ]
  },
  {
   "cell_type": "markdown",
   "metadata": {},
   "source": [
    "Pour les variables catégorielles, nous utilisons le test du Chi 2, on remarque que les variables passent le test d'indépendance car elles dépassent le trait rouge. "
   ]
  },
  {
   "cell_type": "markdown",
   "metadata": {},
   "source": [
    "# Transformations des données avec boxcox"
   ]
  },
  {
   "cell_type": "markdown",
   "metadata": {},
   "source": [
    "Nous allons utiliser la fonction boxcox(), cette dernière nous permet de compléter le traitement des outliers en transformant les données. En effet grâce à cette fonction nous nous rapprochons d'une loi normale afin que les valeurs de nos variables tendent vers la moyenne. "
   ]
  },
  {
   "cell_type": "code",
   "execution_count": 44,
   "metadata": {},
   "outputs": [],
   "source": [
    "from scipy.stats import boxcox\n",
    "\n",
    "transformed = []\n",
    "transformed_with_one = []\n",
    "not_transformed = []\n",
    "\n",
    "def column_to_transform(data):\n",
    "\n",
    "    num_col = ['disbursed_amount', 'asset_cost', 'ltv',\n",
    "            'NEW_ACCTS_IN_LAST_SIX_THS', 'CREDIT_HISTORY_LENGTH_bis',\n",
    "            'DELINQUENT_ACCTS_IN_LAST_SIX_THS', 'AVERAGE_ACCT_AGE_bis',\n",
    "            'NO_OF_ACCTS', 'ACTIVE_ACCTS', 'OVERDUE_ACCTS', 'CURRENT_BALANCE',\n",
    "            'SANCTIONED_AMOUNT', 'DISBURSED_AMOUNT', 'INSTAL_AMT']\n",
    "    \n",
    "    num_col_data = data[num_col]\n",
    "    \n",
    "def transformation_boxcox(num_col_data):\n",
    "    for i in num_col:\n",
    "        if num_col_data[i].min() > 0:\n",
    "            num_col_data[i] = boxcox(num_col_data[i])[0]\n",
    "            transformed.append(i)\n",
    "        elif num_col_data[i].min() == 0:\n",
    "            num_col_data[i] = boxcox(num_col_data[i]+1)[0]\n",
    "            transformed_with_one.append(i)\n",
    "        else:\n",
    "            num_col_data[i] = num_col_data[i]\n",
    "            not_transformed.append(i)\n",
    "    \n",
    "    transformation_boxcox(data)\n",
    "\n",
    "column_to_transform(train)"
   ]
  },
  {
   "cell_type": "code",
   "execution_count": 45,
   "metadata": {},
   "outputs": [],
   "source": [
    "#On définit X et y \n",
    "\n",
    "X = train.drop(['loan_default'], axis=1)\n",
    "y = train['loan_default']"
   ]
  },
  {
   "cell_type": "code",
   "execution_count": 46,
   "metadata": {},
   "outputs": [
    {
     "data": {
      "text/html": [
       "<div>\n",
       "<style scoped>\n",
       "    .dataframe tbody tr th:only-of-type {\n",
       "        vertical-align: middle;\n",
       "    }\n",
       "\n",
       "    .dataframe tbody tr th {\n",
       "        vertical-align: top;\n",
       "    }\n",
       "\n",
       "    .dataframe thead th {\n",
       "        text-align: right;\n",
       "    }\n",
       "</style>\n",
       "<table border=\"1\" class=\"dataframe\">\n",
       "  <thead>\n",
       "    <tr style=\"text-align: right;\">\n",
       "      <th></th>\n",
       "      <th>disbursed_amount</th>\n",
       "      <th>asset_cost</th>\n",
       "      <th>ltv</th>\n",
       "      <th>Employment_Type_K</th>\n",
       "      <th>PERFORM_CNS_SCORE_DESCRIPTION</th>\n",
       "      <th>NEW_ACCTS_IN_LAST_SIX_THS</th>\n",
       "      <th>DELINQUENT_ACCTS_IN_LAST_SIX_THS</th>\n",
       "      <th>AVERAGE_ACCT_AGE_bis</th>\n",
       "      <th>CREDIT_HISTORY_LENGTH_bis</th>\n",
       "      <th>ACTIVE_ACCTS</th>\n",
       "      <th>NO_OF_ACCTS</th>\n",
       "      <th>OVERDUE_ACCTS</th>\n",
       "      <th>CURRENT_BALANCE</th>\n",
       "      <th>SANCTIONED_AMOUNT</th>\n",
       "      <th>DISBURSED_AMOUNT</th>\n",
       "      <th>INSTAL_AMT</th>\n",
       "    </tr>\n",
       "  </thead>\n",
       "  <tbody>\n",
       "    <tr>\n",
       "      <th>0</th>\n",
       "      <td>47145</td>\n",
       "      <td>65550</td>\n",
       "      <td>73.23000</td>\n",
       "      <td>0</td>\n",
       "      <td>4</td>\n",
       "      <td>0</td>\n",
       "      <td>1</td>\n",
       "      <td>2</td>\n",
       "      <td>2</td>\n",
       "      <td>1</td>\n",
       "      <td>1</td>\n",
       "      <td>1</td>\n",
       "      <td>27600</td>\n",
       "      <td>50200</td>\n",
       "      <td>50200</td>\n",
       "      <td>1991</td>\n",
       "    </tr>\n",
       "    <tr>\n",
       "      <th>1</th>\n",
       "      <td>53278</td>\n",
       "      <td>61360</td>\n",
       "      <td>89.63000</td>\n",
       "      <td>0</td>\n",
       "      <td>1</td>\n",
       "      <td>0</td>\n",
       "      <td>0</td>\n",
       "      <td>0</td>\n",
       "      <td>0</td>\n",
       "      <td>0</td>\n",
       "      <td>0</td>\n",
       "      <td>0</td>\n",
       "      <td>0</td>\n",
       "      <td>0</td>\n",
       "      <td>0</td>\n",
       "      <td>0</td>\n",
       "    </tr>\n",
       "    <tr>\n",
       "      <th>2</th>\n",
       "      <td>57513</td>\n",
       "      <td>66113</td>\n",
       "      <td>88.48000</td>\n",
       "      <td>0</td>\n",
       "      <td>6</td>\n",
       "      <td>0</td>\n",
       "      <td>0</td>\n",
       "      <td>1</td>\n",
       "      <td>1</td>\n",
       "      <td>0</td>\n",
       "      <td>3</td>\n",
       "      <td>0</td>\n",
       "      <td>0</td>\n",
       "      <td>0</td>\n",
       "      <td>0</td>\n",
       "      <td>31</td>\n",
       "    </tr>\n",
       "    <tr>\n",
       "      <th>3</th>\n",
       "      <td>52378</td>\n",
       "      <td>60300</td>\n",
       "      <td>88.39000</td>\n",
       "      <td>0</td>\n",
       "      <td>1</td>\n",
       "      <td>0</td>\n",
       "      <td>0</td>\n",
       "      <td>0</td>\n",
       "      <td>0</td>\n",
       "      <td>0</td>\n",
       "      <td>0</td>\n",
       "      <td>0</td>\n",
       "      <td>0</td>\n",
       "      <td>0</td>\n",
       "      <td>0</td>\n",
       "      <td>0</td>\n",
       "    </tr>\n",
       "    <tr>\n",
       "      <th>4</th>\n",
       "      <td>54513</td>\n",
       "      <td>61900</td>\n",
       "      <td>89.66000</td>\n",
       "      <td>0</td>\n",
       "      <td>2</td>\n",
       "      <td>0</td>\n",
       "      <td>0</td>\n",
       "      <td>2</td>\n",
       "      <td>2</td>\n",
       "      <td>0</td>\n",
       "      <td>2</td>\n",
       "      <td>0</td>\n",
       "      <td>0</td>\n",
       "      <td>0</td>\n",
       "      <td>0</td>\n",
       "      <td>1347</td>\n",
       "    </tr>\n",
       "  </tbody>\n",
       "</table>\n",
       "</div>"
      ],
      "text/plain": [
       "   disbursed_amount  asset_cost      ltv  Employment_Type_K  \\\n",
       "0             47145       65550 73.23000                  0   \n",
       "1             53278       61360 89.63000                  0   \n",
       "2             57513       66113 88.48000                  0   \n",
       "3             52378       60300 88.39000                  0   \n",
       "4             54513       61900 89.66000                  0   \n",
       "\n",
       "   PERFORM_CNS_SCORE_DESCRIPTION  NEW_ACCTS_IN_LAST_SIX_THS  \\\n",
       "0                              4                          0   \n",
       "1                              1                          0   \n",
       "2                              6                          0   \n",
       "3                              1                          0   \n",
       "4                              2                          0   \n",
       "\n",
       "   DELINQUENT_ACCTS_IN_LAST_SIX_THS  AVERAGE_ACCT_AGE_bis  \\\n",
       "0                                 1                     2   \n",
       "1                                 0                     0   \n",
       "2                                 0                     1   \n",
       "3                                 0                     0   \n",
       "4                                 0                     2   \n",
       "\n",
       "   CREDIT_HISTORY_LENGTH_bis  ACTIVE_ACCTS  NO_OF_ACCTS  OVERDUE_ACCTS  \\\n",
       "0                          2             1            1              1   \n",
       "1                          0             0            0              0   \n",
       "2                          1             0            3              0   \n",
       "3                          0             0            0              0   \n",
       "4                          2             0            2              0   \n",
       "\n",
       "   CURRENT_BALANCE  SANCTIONED_AMOUNT  DISBURSED_AMOUNT  INSTAL_AMT  \n",
       "0            27600              50200             50200        1991  \n",
       "1                0                  0                 0           0  \n",
       "2                0                  0                 0          31  \n",
       "3                0                  0                 0           0  \n",
       "4                0                  0                 0        1347  "
      ]
     },
     "execution_count": 46,
     "metadata": {},
     "output_type": "execute_result"
    }
   ],
   "source": [
    "X.head()"
   ]
  },
  {
   "cell_type": "markdown",
   "metadata": {},
   "source": [
    "# Prédiction avec SMOTE"
   ]
  },
  {
   "cell_type": "markdown",
   "metadata": {},
   "source": [
    "SMOTE est librairie est spécialement conçu pour les jeux de données déséquilibrés, on l'utilise souvent dans la lutte contre la fraude par exemple."
   ]
  },
  {
   "cell_type": "code",
   "execution_count": 47,
   "metadata": {},
   "outputs": [
    {
     "data": {
      "text/plain": [
       "((365084, 16), (365084,))"
      ]
     },
     "execution_count": 47,
     "metadata": {},
     "output_type": "execute_result"
    }
   ],
   "source": [
    "smote = SMOTE()\n",
    "X_tf,y_tf = smote.fit_resample(X,y)\n",
    "X_tf.shape, y_tf.shape"
   ]
  },
  {
   "cell_type": "markdown",
   "metadata": {},
   "source": [
    "# Scaling et séparation du jeu de données en train,test"
   ]
  },
  {
   "cell_type": "code",
   "execution_count": 48,
   "metadata": {},
   "outputs": [
    {
     "name": "stdout",
     "output_type": "stream",
     "text": [
      "328575 36509\n"
     ]
    }
   ],
   "source": [
    "scaler = preprocessing.RobustScaler()\n",
    "X_tf = scaler.fit_transform(X_tf)\n",
    "\n",
    "# Split the data into training and testing sets \n",
    "x_train,x_test,y_train,y_test = train_test_split(X_tf,y_tf,test_size = 0.1, random_state = 3300)\n",
    "\n",
    "print(x_train.shape[0], x_test.shape[0])"
   ]
  },
  {
   "cell_type": "code",
   "execution_count": 49,
   "metadata": {},
   "outputs": [],
   "source": [
    "#print(x_train)"
   ]
  },
  {
   "cell_type": "markdown",
   "metadata": {},
   "source": [
    "# Création de la fonction pour entraîner le modèle avec différents algorithmes"
   ]
  },
  {
   "cell_type": "markdown",
   "metadata": {},
   "source": [
    "Nous allons utiliser une fonction nous permettant d'identifier le meilleur algorithme pour notre jeu de données, nous utiliserons les métrics spécifiques à chaque algo pour pouvoir les comparer. "
   ]
  },
  {
   "cell_type": "code",
   "execution_count": 50,
   "metadata": {},
   "outputs": [],
   "source": [
    "accuracy = {}\n",
    "roc_r = {}\n",
    "\n",
    "def train_model(model, model_name):\n",
    "    print(model_name)\n",
    "    \n",
    "    # Fitting model\n",
    "    model = model.fit(x_train, y_train)\n",
    "    pred = model.predict(x_test)\n",
    "    \n",
    "    #Model accuracy\n",
    "    acc = accuracy_score(y_test, pred)*100\n",
    "    accuracy[model_name] = acc\n",
    "    print('accuracy_score',acc)\n",
    "    print('precision_score',precision_score(y_test, pred)*100)\n",
    "    print('recall_score',recall_score(y_test, pred)*100)\n",
    "    print('f1_score',f1_score(y_test, pred)*100)\n",
    "    \n",
    "    \n",
    "    #ROC Score\n",
    "    roc_score = roc_auc_score(y_test, pred)*100\n",
    "    roc_r[model_name] = roc_score\n",
    "    print('roc_auc_score',roc_score)\n",
    "    \n",
    "    # Confusion matrix\n",
    "    print('confusion_matrix')\n",
    "    print(pd.DataFrame(confusion_matrix(y_test, pred)))\n",
    "    \n",
    "    #ROC Score\n",
    "    fpr, tpr, threshold = roc_curve(y_test, pred)\n",
    "    roc_auc = auc(fpr, tpr)*100\n",
    "    \n",
    "    #ROC Plot\n",
    "    plt.title('Receiver Operating Characteristic')\n",
    "    plt.plot(fpr, tpr, 'b', label = 'AUC = %0.2f' % roc_auc)\n",
    "    plt.legend(loc = 'lower right')\n",
    "    plt.plot([0, 1], [0, 1],'r--')\n",
    "    plt.xlim([0, 1])\n",
    "    plt.ylim([0, 1])\n",
    "    plt.ylabel('True Positive Rate')\n",
    "    plt.xlabel('False Positive Rate')\n",
    "    plt.show()"
   ]
  },
  {
   "cell_type": "code",
   "execution_count": 51,
   "metadata": {},
   "outputs": [
    {
     "name": "stdout",
     "output_type": "stream",
     "text": [
      "K Nearest Neighbour\n",
      "accuracy_score 72.4834972198636\n",
      "precision_score 69.44069431051109\n",
      "recall_score 79.52512424075097\n",
      "f1_score 74.14157014157013\n",
      "roc_auc_score 72.53879995938848\n",
      "confusion_matrix\n",
      "       0      1\n",
      "0  12061   6338\n",
      "1   3708  14402\n"
     ]
    },
    {
     "data": {
      "image/png": "[encoded data removed]",
      "text/plain": [
       "<Figure size 432x288 with 1 Axes>"
      ]
     },
     "metadata": {
      "needs_background": "light"
     },
     "output_type": "display_data"
    }
   ],
   "source": [
    "knn = KNeighborsClassifier(weights='distance', algorithm='auto', n_neighbors=3, n_jobs=5)\n",
    "\n",
    "train_model(knn, 'K Nearest Neighbour')"
   ]
  },
  {
   "cell_type": "code",
   "execution_count": 52,
   "metadata": {},
   "outputs": [
    {
     "name": "stdout",
     "output_type": "stream",
     "text": [
      "Decision Tree Classifier\n",
      "accuracy_score 63.825358130871834\n",
      "precision_score 62.74764702823566\n",
      "recall_score 66.6316951960243\n",
      "f1_score 64.63137034359016\n",
      "roc_auc_score 63.84739822576366\n",
      "confusion_matrix\n",
      "       0      1\n",
      "0  11235   7164\n",
      "1   6043  12067\n"
     ]
    },
    {
     "data": {
      "image/png": "[encoded data removed]",
      "text/plain": [
       "<Figure size 432x288 with 1 Axes>"
      ]
     },
     "metadata": {
      "needs_background": "light"
     },
     "output_type": "display_data"
    }
   ],
   "source": [
    "dtc = DecisionTreeClassifier(criterion='gini', splitter='random', max_depth=25, min_samples_split=4,\n",
    "                            min_samples_leaf=2)\n",
    "\n",
    "train_model(dtc, 'Decision Tree Classifier')"
   ]
  },
  {
   "cell_type": "code",
   "execution_count": 73,
   "metadata": {},
   "outputs": [
    {
     "name": "stdout",
     "output_type": "stream",
     "text": [
      "LGBMClassifier\n",
      "accuracy_score 68.5611766961571\n",
      "precision_score 67.7155679025537\n",
      "recall_score 69.98895637769188\n",
      "f1_score 68.83349625285109\n",
      "roc_auc_score 68.57239003188089\n",
      "confusion_matrix\n",
      "       0      1\n",
      "0  12356   6043\n",
      "1   5435  12675\n"
     ]
    },
    {
     "data": {
      "image/png": "[encoded data removed]",
      "text/plain": [
       "<Figure size 432x288 with 1 Axes>"
      ]
     },
     "metadata": {
      "needs_background": "light"
     },
     "output_type": "display_data"
    }
   ],
   "source": [
    "lgbm = LGBMClassifier(n_estimators=720, n_jobs=5, max_depth=20, min_child_weight=1, \n",
    "                      min_child_samples=1, num_leaves=20, learning_rate=0.15)\n",
    "\n",
    "train_model(lgbm, 'LGBMClassifier')"
   ]
  },
  {
   "cell_type": "code",
   "execution_count": 68,
   "metadata": {},
   "outputs": [
    {
     "name": "stdout",
     "output_type": "stream",
     "text": [
      "Cat Boost\n",
      "accuracy_score 68.09005998520912\n",
      "precision_score 67.37306368330465\n",
      "recall_score 69.16620651573716\n",
      "f1_score 68.25786060705138\n",
      "roc_auc_score 68.0985117039798\n",
      "confusion_matrix\n",
      "       0      1\n",
      "0  12333   6066\n",
      "1   5584  12526\n"
     ]
    },
    {
     "data": {
      "image/png": "[encoded data removed]",
      "text/plain": [
       "<Figure size 432x288 with 1 Axes>"
      ]
     },
     "metadata": {
      "needs_background": "light"
     },
     "output_type": "display_data"
    }
   ],
   "source": [
    "cat = CatBoostClassifier(verbose=0)\n",
    "\n",
    "train_model(cat, \"Cat Boost\")"
   ]
  },
  {
   "cell_type": "code",
   "execution_count": 55,
   "metadata": {},
   "outputs": [],
   "source": [
    "# Prédictions\n",
    "y_head_knn = knn.predict(x_test)\n",
    "y_head_dtc = dtc.predict(x_test)\n",
    "y_head_lgbm = lgbm.predict(x_test)\n",
    "y_head_cat = cat.predict(x_test)"
   ]
  },
  {
   "cell_type": "code",
   "execution_count": 56,
   "metadata": {},
   "outputs": [],
   "source": [
    "#KNN\n",
    "cm_knn = confusion_matrix(y_test,y_head_knn)\n",
    "#arbre de déc.\n",
    "cm_dtc = confusion_matrix(y_test,y_head_dtc)\n",
    "#LGBM\n",
    "cm_lgbm = confusion_matrix(y_test,y_head_lgbm)\n",
    "#Cattree\n",
    "cm_cat = confusion_matrix(y_test,y_head_cat)"
   ]
  },
  {
   "cell_type": "code",
   "execution_count": 57,
   "metadata": {},
   "outputs": [
    {
     "data": {
      "image/png": "[encoded data removed]",
      "text/plain": [
       "<Figure size 1440x864 with 8 Axes>"
      ]
     },
     "metadata": {
      "needs_background": "light"
     },
     "output_type": "display_data"
    }
   ],
   "source": [
    "plt.figure(figsize=(20,12))\n",
    "\n",
    "plt.suptitle(\"Matrices de confusions\",fontsize=24)\n",
    "plt.subplots_adjust(wspace = 0.4, hspace= 0.4)\n",
    "\n",
    "plt.subplot(4,2,1)\n",
    "plt.title(\"KNN\",fontsize= 14)\n",
    "sns.heatmap(cm_knn,annot=True,cmap=\"Blues\",fmt=\"d\", annot_kws={\"size\": 20})\n",
    "\n",
    "plt.subplot(4,2,2)\n",
    "plt.title(\"Arbres de décisions\",fontsize= 14)\n",
    "sns.heatmap(cm_dtc,annot=True,cmap=\"Blues\",fmt=\"d\", annot_kws={\"size\": 20})\n",
    "\n",
    "plt.subplot(4,2,3)\n",
    "plt.title(\"LightGB\",fontsize= 14)\n",
    "sns.heatmap(cm_lgbm,annot=True,cmap=\"Blues\",fmt=\"d\", annot_kws={\"size\": 20})\n",
    "\n",
    "plt.subplot(4,2,4)\n",
    "plt.title(\"Cat boost\",fontsize= 14)\n",
    "sns.heatmap(cm_cat,annot=True,cmap=\"Blues\",fmt=\"d\", annot_kws={\"size\": 20})\n",
    "\n",
    "plt.show()"
   ]
  },
  {
   "cell_type": "code",
   "execution_count": 58,
   "metadata": {},
   "outputs": [
    {
     "data": {
      "image/png": "[encoded data removed]",
      "text/plain": [
       "<Figure size 1152x360 with 1 Axes>"
      ]
     },
     "metadata": {
      "needs_background": "light"
     },
     "output_type": "display_data"
    }
   ],
   "source": [
    "plt.figure(figsize=(16,5))\n",
    "plt.yticks(np.arange(0,100,5))\n",
    "plt.ylabel(\"Accuracy %\",fontsize=20)\n",
    "plt.xlabel(\"Algorithes utilisés\", fontsize=20)\n",
    "sns.barplot(x=list(accuracy.keys()), y=list(accuracy.values()), palette=\"cubehelix\")\n",
    "\n",
    "plt.show()"
   ]
  },
  {
   "cell_type": "markdown",
   "metadata": {},
   "source": [
    "En regardant les graphiques, on voit que le meilleur modèle est obtenu à l'aide de l'algorithme KNN en terme de précision, malheureusement nous ne pouvons pas obtenir l'importance des variables car la fonction permettant de l'afficher n'est pas implanté avec les KNN. On peut également dire que nos prédictions sont satisfaisantes mais pas assez pour dire qu'elles sont excellentes, pour rappel un AUC compris entre :  \n",
    "&nbsp; >0,70 et <=0,75 est satisfaisant  \n",
    "&nbsp;                                                 >0,75 et 0,80 est bon  \n",
    "&nbsp;                                                 >0,80 et 0,90 est très bon  \n",
    "&nbsp;                                                 >0,90 est excellent mais très rare  \n",
    "\n",
    "Note : un AUC proche de 0,5 revient au fait de tirer à pile ou face notre prédiction, s'en remettre au hasard n'est vraiment pas bon.\n"
   ]
  }
 ],
 "metadata": {
  "kernelspec": {
   "display_name": "Python 3",
   "language": "python",
   "name": "python3"
  },
  "language_info": {
   "codemirror_mode": {
    "name": "ipython",
    "version": 3
   },
   "file_extension": ".py",
   "mimetype": "text/x-python",
   "name": "python",
   "nbconvert_exporter": "python",
   "pygments_lexer": "ipython3",
   "version": "3.8.8"
  }
 },
 "nbformat": 4,
 "nbformat_minor": 4
}
